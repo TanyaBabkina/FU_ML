{
  "nbformat": 4,
  "nbformat_minor": 0,
  "metadata": {
    "colab": {
      "provenance": [],
      "toc_visible": true
    },
    "kernelspec": {
      "name": "python3",
      "display_name": "Python 3"
    },
    "language_info": {
      "name": "python"
    }
  },
  "cells": [
    {
      "cell_type": "code",
      "execution_count": 1,
      "metadata": {
        "id": "an7BP4ks62Z5"
      },
      "outputs": [],
      "source": [
        "import warnings\n",
        "from sklearn.datasets import fetch_openml\n",
        "warnings.filterwarnings('ignore')"
      ]
    },
    {
      "cell_type": "markdown",
      "source": [
        "# 1.\tВыберите задачу для бизнеса, которую Вы хотите решить с помощью методов машинного обучения. На основание бизнес-задачи, поставьте задачу машинного обучения. Подберите дата-сет и оставьте ссылку на него.\n",
        "\n",
        "\n",
        "\n",
        "Бизнес-задачи: Проверка клиента банка на то, вернёт он кредит или нет\n",
        "\n",
        "Задача машинного обучения: Бинарная классификация\n",
        "\n",
        "Ссылка на дата-сет: https://www.openml.org/search?type=data&sort=runs&id=31&status=active"
      ],
      "metadata": {
        "id": "pLhoanQk3bNz"
      }
    },
    {
      "cell_type": "markdown",
      "source": [
        "# 2.\t Выполните анализ и обработку дата-сета.\n",
        "•\tПервичный анализ данных\n",
        "\n",
        "•\tПредобработку данных\n",
        "\n",
        "•\tРазведывательный анализ данных (Exploratory Data Analysis)\n",
        "\n",
        "•\tСоздание признаков (Feature Engineering)\n",
        "\n",
        "•\tОтбор признаков (Feature selection)\n",
        "\n",
        "•\tПодготовка данных (Data Preparation)\n"
      ],
      "metadata": {
        "id": "k7Co2Ntm4R40"
      }
    },
    {
      "cell_type": "markdown",
      "source": [
        "# Первичный анализ данных\n",
        "\n",
        "- Импорт данных\n",
        "\n",
        "- Просмотр общей информации о датасете (размер, типы данных, пропущенные значения)\n",
        "- Оценка статистических показателей (среднее, медиана, стандартное отклонение)"
      ],
      "metadata": {
        "id": "9sfAM3dG4aOl"
      }
    },
    {
      "cell_type": "markdown",
      "source": [
        "Загрузка датасета"
      ],
      "metadata": {
        "id": "EyvpHhDy4cyC"
      }
    },
    {
      "cell_type": "code",
      "source": [
        "data = fetch_openml(data_id=31)\n",
        "print(data.DESCR)"
      ],
      "metadata": {
        "colab": {
          "base_uri": "https://localhost:8080/"
        },
        "id": "Ql6OKSdKUz2I",
        "outputId": "6a63c507-068d-423f-f604-39da99aa42a9"
      },
      "execution_count": 2,
      "outputs": [
        {
          "output_type": "stream",
          "name": "stdout",
          "text": [
            "**Author**: Dr. Hans Hofmann  \n",
            "**Source**: [UCI](https://archive.ics.uci.edu/ml/datasets/statlog+(german+credit+data)) - 1994    \n",
            "**Please cite**: [UCI](https://archive.ics.uci.edu/ml/citation_policy.html)\n",
            "\n",
            "**German Credit dataset**  \n",
            "This dataset classifies people described by a set of attributes as good or bad credit risks.\n",
            "\n",
            "This dataset comes with a cost matrix: \n",
            "``` \n",
            "Good  Bad (predicted)  \n",
            "Good   0    1   (actual)  \n",
            "Bad    5    0  \n",
            "```\n",
            "\n",
            "It is worse to class a customer as good when they are bad (5), than it is to class a customer as bad when they are good (1).  \n",
            "\n",
            "### Attribute description  \n",
            "\n",
            "1. Status of existing checking account, in Deutsche Mark.  \n",
            "2. Duration in months  \n",
            "3. Credit history (credits taken, paid back duly, delays, critical accounts)  \n",
            "4. Purpose of the credit (car, television,...)  \n",
            "5. Credit amount  \n",
            "6. Status of savings account/bonds, in Deutsche Mark.  \n",
            "7. Present employment, in number of years.  \n",
            "8. Installment rate in percentage of disposable income  \n",
            "9. Personal status (married, single,...) and sex  \n",
            "10. Other debtors / guarantors  \n",
            "11. Present residence since X years  \n",
            "12. Property (e.g. real estate)  \n",
            "13. Age in years  \n",
            "14. Other installment plans (banks, stores)  \n",
            "15. Housing (rent, own,...)  \n",
            "16. Number of existing credits at this bank  \n",
            "17. Job  \n",
            "18. Number of people being liable to provide maintenance for  \n",
            "19. Telephone (yes,no)  \n",
            "20. Foreign worker (yes,no)\n",
            "\n",
            "Downloaded from openml.org.\n"
          ]
        }
      ]
    },
    {
      "cell_type": "markdown",
      "source": [
        "Описание атрибутов\n",
        "\n",
        "1. Статус существующего текущего счета в немецких марках.\n",
        "2. Продолжительность в месяцах\n",
        "3. Кредитная история (взятые кредиты, своевременно возвращенные, просрочки, важные счета)\n",
        "4. Цель кредита (карточка, телевизор,...)\n",
        "5. Сумма кредита\n",
        "6. Состояние сберегательного счета/облигаций в немецких марках.\n",
        "7. Место работы в настоящее время, количество лет.\n",
        "8. Ставка рассрочки в процентах от располагаемого дохода\n",
        "9. Личное положение (женат, холост,...) и пол\n",
        "10. Другие должники/ поручители\n",
        "11. Место жительства в настоящее время в течение X лет\n",
        "12. Имущество (например, недвижимость)\n",
        "13. Возраст в годах\n",
        "14. Другие программы рассрочки (банки, магазины)\n",
        "15. Жилье (аренда, собственное,...)\n",
        "16. Количество действующих кредитов в этом банке\n",
        "17. Работа\n",
        "18. Количество людей, обязанных обеспечивать содержание\n",
        "19. Телефон (да, нет)\n",
        "20. Иностранный работник (да,нет)"
      ],
      "metadata": {
        "id": "FMKxYOrSBGvy"
      }
    },
    {
      "cell_type": "code",
      "source": [
        "# разделили датасет на признаки и целевую\n",
        "df_x = data.data\n",
        "df_target = data.target"
      ],
      "metadata": {
        "id": "g75H2kzGjbKZ"
      },
      "execution_count": 3,
      "outputs": []
    },
    {
      "cell_type": "code",
      "source": [
        "df_x.info()"
      ],
      "metadata": {
        "colab": {
          "base_uri": "https://localhost:8080/"
        },
        "id": "9C-81eRlCwL1",
        "outputId": "a9959639-6ce8-4fa7-f4c5-e3c2522178b9"
      },
      "execution_count": 13,
      "outputs": [
        {
          "output_type": "stream",
          "name": "stdout",
          "text": [
            "<class 'pandas.core.frame.DataFrame'>\n",
            "RangeIndex: 1000 entries, 0 to 999\n",
            "Data columns (total 20 columns):\n",
            " #   Column                  Non-Null Count  Dtype   \n",
            "---  ------                  --------------  -----   \n",
            " 0   checking_status         1000 non-null   category\n",
            " 1   duration                1000 non-null   float64 \n",
            " 2   credit_history          1000 non-null   category\n",
            " 3   purpose                 1000 non-null   category\n",
            " 4   credit_amount           1000 non-null   float64 \n",
            " 5   savings_status          1000 non-null   category\n",
            " 6   employment              1000 non-null   category\n",
            " 7   installment_commitment  1000 non-null   float64 \n",
            " 8   personal_status         1000 non-null   category\n",
            " 9   other_parties           1000 non-null   category\n",
            " 10  residence_since         1000 non-null   float64 \n",
            " 11  property_magnitude      1000 non-null   category\n",
            " 12  age                     1000 non-null   float64 \n",
            " 13  other_payment_plans     1000 non-null   category\n",
            " 14  housing                 1000 non-null   category\n",
            " 15  existing_credits        1000 non-null   float64 \n",
            " 16  job                     1000 non-null   category\n",
            " 17  num_dependents          1000 non-null   float64 \n",
            " 18  own_telephone           1000 non-null   category\n",
            " 19  foreign_worker          1000 non-null   category\n",
            "dtypes: category(13), float64(7)\n",
            "memory usage: 69.9 KB\n"
          ]
        }
      ]
    },
    {
      "cell_type": "markdown",
      "source": [
        "По информации вижно, что у нас много категориальных признаков, 1000 строк и 20 столбцов"
      ],
      "metadata": {
        "id": "LRnRPa1xEIBT"
      }
    },
    {
      "cell_type": "code",
      "source": [
        "df_x.isnull().sum()"
      ],
      "metadata": {
        "colab": {
          "base_uri": "https://localhost:8080/"
        },
        "id": "Zt3VkZQFDCT2",
        "outputId": "dfcfe904-0cb0-4527-ecd4-6bc836155ae6"
      },
      "execution_count": 14,
      "outputs": [
        {
          "output_type": "execute_result",
          "data": {
            "text/plain": [
              "checking_status           0\n",
              "duration                  0\n",
              "credit_history            0\n",
              "purpose                   0\n",
              "credit_amount             0\n",
              "savings_status            0\n",
              "employment                0\n",
              "installment_commitment    0\n",
              "personal_status           0\n",
              "other_parties             0\n",
              "residence_since           0\n",
              "property_magnitude        0\n",
              "age                       0\n",
              "other_payment_plans       0\n",
              "housing                   0\n",
              "existing_credits          0\n",
              "job                       0\n",
              "num_dependents            0\n",
              "own_telephone             0\n",
              "foreign_worker            0\n",
              "dtype: int64"
            ]
          },
          "metadata": {},
          "execution_count": 14
        }
      ]
    },
    {
      "cell_type": "markdown",
      "source": [
        "Нулевых значений нет"
      ],
      "metadata": {
        "id": "A-rBpY96EUCk"
      }
    },
    {
      "cell_type": "code",
      "source": [
        "df_target.isnull().sum()"
      ],
      "metadata": {
        "colab": {
          "base_uri": "https://localhost:8080/"
        },
        "id": "e8Z5LLj_DH6G",
        "outputId": "80f17c45-f4ef-4c0c-c07f-eedf388ee00b"
      },
      "execution_count": 16,
      "outputs": [
        {
          "output_type": "execute_result",
          "data": {
            "text/plain": [
              "0"
            ]
          },
          "metadata": {},
          "execution_count": 16
        }
      ]
    },
    {
      "cell_type": "code",
      "source": [
        "df_target.shape\n"
      ],
      "metadata": {
        "colab": {
          "base_uri": "https://localhost:8080/"
        },
        "id": "_bLOP2D8EilW",
        "outputId": "0342b09a-4f91-40f2-c1e9-2ef0d312d6fe"
      },
      "execution_count": 18,
      "outputs": [
        {
          "output_type": "execute_result",
          "data": {
            "text/plain": [
              "(1000,)"
            ]
          },
          "metadata": {},
          "execution_count": 18
        }
      ]
    },
    {
      "cell_type": "markdown",
      "source": [
        "В столбце target также нет пустых значений и размер совпадает с размером датасета x"
      ],
      "metadata": {
        "id": "qCVJmB_sEWe8"
      }
    },
    {
      "cell_type": "code",
      "source": [
        "df_target.value_counts()"
      ],
      "metadata": {
        "colab": {
          "base_uri": "https://localhost:8080/"
        },
        "id": "WI5wPa86DRz3",
        "outputId": "53f09cf4-d375-44f5-d347-cba2eb1811c3"
      },
      "execution_count": 17,
      "outputs": [
        {
          "output_type": "execute_result",
          "data": {
            "text/plain": [
              "class\n",
              "good    700\n",
              "bad     300\n",
              "Name: count, dtype: int64"
            ]
          },
          "metadata": {},
          "execution_count": 17
        }
      ]
    },
    {
      "cell_type": "code",
      "source": [
        "df_target = df_target.replace({\"good\":1, \"bad\":0})"
      ],
      "metadata": {
        "id": "GyoUUvjzEzqY"
      },
      "execution_count": 19,
      "outputs": []
    },
    {
      "cell_type": "markdown",
      "source": [
        "В целевой переменной у нас строковый тип данных, но его легко перевести в числовой, что мы и сделали"
      ],
      "metadata": {
        "id": "suUd_wFxEmaN"
      }
    },
    {
      "cell_type": "code",
      "source": [
        "df_x.describe(include = 'all')"
      ],
      "metadata": {
        "colab": {
          "base_uri": "https://localhost:8080/",
          "height": 414
        },
        "id": "XSmnbK93BOFj",
        "outputId": "a0dc0824-c978-4dd2-86dc-9d0aaf1dd471"
      },
      "execution_count": 10,
      "outputs": [
        {
          "output_type": "execute_result",
          "data": {
            "text/plain": [
              "       checking_status     duration credit_history   purpose  credit_amount  \\\n",
              "count             1000  1000.000000           1000      1000    1000.000000   \n",
              "unique               4          NaN              5        10            NaN   \n",
              "top        no checking          NaN  existing paid  radio/tv            NaN   \n",
              "freq               394          NaN            530       280            NaN   \n",
              "mean               NaN    20.903000            NaN       NaN    3271.258000   \n",
              "std                NaN    12.058814            NaN       NaN    2822.736876   \n",
              "min                NaN     4.000000            NaN       NaN     250.000000   \n",
              "25%                NaN    12.000000            NaN       NaN    1365.500000   \n",
              "50%                NaN    18.000000            NaN       NaN    2319.500000   \n",
              "75%                NaN    24.000000            NaN       NaN    3972.250000   \n",
              "max                NaN    72.000000            NaN       NaN   18424.000000   \n",
              "\n",
              "       savings_status employment  installment_commitment personal_status  \\\n",
              "count            1000       1000             1000.000000            1000   \n",
              "unique              5          5                     NaN               4   \n",
              "top              <100     1<=X<4                     NaN     male single   \n",
              "freq              603        339                     NaN             548   \n",
              "mean              NaN        NaN                2.973000             NaN   \n",
              "std               NaN        NaN                1.118715             NaN   \n",
              "min               NaN        NaN                1.000000             NaN   \n",
              "25%               NaN        NaN                2.000000             NaN   \n",
              "50%               NaN        NaN                3.000000             NaN   \n",
              "75%               NaN        NaN                4.000000             NaN   \n",
              "max               NaN        NaN                4.000000             NaN   \n",
              "\n",
              "       other_parties  residence_since property_magnitude          age  \\\n",
              "count           1000      1000.000000               1000  1000.000000   \n",
              "unique             3              NaN                  4          NaN   \n",
              "top             none              NaN                car          NaN   \n",
              "freq             907              NaN                332          NaN   \n",
              "mean             NaN         2.845000                NaN    35.546000   \n",
              "std              NaN         1.103718                NaN    11.375469   \n",
              "min              NaN         1.000000                NaN    19.000000   \n",
              "25%              NaN         2.000000                NaN    27.000000   \n",
              "50%              NaN         3.000000                NaN    33.000000   \n",
              "75%              NaN         4.000000                NaN    42.000000   \n",
              "max              NaN         4.000000                NaN    75.000000   \n",
              "\n",
              "       other_payment_plans housing  existing_credits      job  num_dependents  \\\n",
              "count                 1000    1000       1000.000000     1000     1000.000000   \n",
              "unique                   3       3               NaN        4             NaN   \n",
              "top                   none     own               NaN  skilled             NaN   \n",
              "freq                   814     713               NaN      630             NaN   \n",
              "mean                   NaN     NaN          1.407000      NaN        1.155000   \n",
              "std                    NaN     NaN          0.577654      NaN        0.362086   \n",
              "min                    NaN     NaN          1.000000      NaN        1.000000   \n",
              "25%                    NaN     NaN          1.000000      NaN        1.000000   \n",
              "50%                    NaN     NaN          1.000000      NaN        1.000000   \n",
              "75%                    NaN     NaN          2.000000      NaN        1.000000   \n",
              "max                    NaN     NaN          4.000000      NaN        2.000000   \n",
              "\n",
              "       own_telephone foreign_worker  \n",
              "count           1000           1000  \n",
              "unique             2              2  \n",
              "top             none            yes  \n",
              "freq             596            963  \n",
              "mean             NaN            NaN  \n",
              "std              NaN            NaN  \n",
              "min              NaN            NaN  \n",
              "25%              NaN            NaN  \n",
              "50%              NaN            NaN  \n",
              "75%              NaN            NaN  \n",
              "max              NaN            NaN  "
            ],
            "text/html": [
              "\n",
              "  <div id=\"df-bb4c23c8-0342-4273-8dcb-fbc1232b1794\" class=\"colab-df-container\">\n",
              "    <div>\n",
              "<style scoped>\n",
              "    .dataframe tbody tr th:only-of-type {\n",
              "        vertical-align: middle;\n",
              "    }\n",
              "\n",
              "    .dataframe tbody tr th {\n",
              "        vertical-align: top;\n",
              "    }\n",
              "\n",
              "    .dataframe thead th {\n",
              "        text-align: right;\n",
              "    }\n",
              "</style>\n",
              "<table border=\"1\" class=\"dataframe\">\n",
              "  <thead>\n",
              "    <tr style=\"text-align: right;\">\n",
              "      <th></th>\n",
              "      <th>checking_status</th>\n",
              "      <th>duration</th>\n",
              "      <th>credit_history</th>\n",
              "      <th>purpose</th>\n",
              "      <th>credit_amount</th>\n",
              "      <th>savings_status</th>\n",
              "      <th>employment</th>\n",
              "      <th>installment_commitment</th>\n",
              "      <th>personal_status</th>\n",
              "      <th>other_parties</th>\n",
              "      <th>residence_since</th>\n",
              "      <th>property_magnitude</th>\n",
              "      <th>age</th>\n",
              "      <th>other_payment_plans</th>\n",
              "      <th>housing</th>\n",
              "      <th>existing_credits</th>\n",
              "      <th>job</th>\n",
              "      <th>num_dependents</th>\n",
              "      <th>own_telephone</th>\n",
              "      <th>foreign_worker</th>\n",
              "    </tr>\n",
              "  </thead>\n",
              "  <tbody>\n",
              "    <tr>\n",
              "      <th>count</th>\n",
              "      <td>1000</td>\n",
              "      <td>1000.000000</td>\n",
              "      <td>1000</td>\n",
              "      <td>1000</td>\n",
              "      <td>1000.000000</td>\n",
              "      <td>1000</td>\n",
              "      <td>1000</td>\n",
              "      <td>1000.000000</td>\n",
              "      <td>1000</td>\n",
              "      <td>1000</td>\n",
              "      <td>1000.000000</td>\n",
              "      <td>1000</td>\n",
              "      <td>1000.000000</td>\n",
              "      <td>1000</td>\n",
              "      <td>1000</td>\n",
              "      <td>1000.000000</td>\n",
              "      <td>1000</td>\n",
              "      <td>1000.000000</td>\n",
              "      <td>1000</td>\n",
              "      <td>1000</td>\n",
              "    </tr>\n",
              "    <tr>\n",
              "      <th>unique</th>\n",
              "      <td>4</td>\n",
              "      <td>NaN</td>\n",
              "      <td>5</td>\n",
              "      <td>10</td>\n",
              "      <td>NaN</td>\n",
              "      <td>5</td>\n",
              "      <td>5</td>\n",
              "      <td>NaN</td>\n",
              "      <td>4</td>\n",
              "      <td>3</td>\n",
              "      <td>NaN</td>\n",
              "      <td>4</td>\n",
              "      <td>NaN</td>\n",
              "      <td>3</td>\n",
              "      <td>3</td>\n",
              "      <td>NaN</td>\n",
              "      <td>4</td>\n",
              "      <td>NaN</td>\n",
              "      <td>2</td>\n",
              "      <td>2</td>\n",
              "    </tr>\n",
              "    <tr>\n",
              "      <th>top</th>\n",
              "      <td>no checking</td>\n",
              "      <td>NaN</td>\n",
              "      <td>existing paid</td>\n",
              "      <td>radio/tv</td>\n",
              "      <td>NaN</td>\n",
              "      <td>&lt;100</td>\n",
              "      <td>1&lt;=X&lt;4</td>\n",
              "      <td>NaN</td>\n",
              "      <td>male single</td>\n",
              "      <td>none</td>\n",
              "      <td>NaN</td>\n",
              "      <td>car</td>\n",
              "      <td>NaN</td>\n",
              "      <td>none</td>\n",
              "      <td>own</td>\n",
              "      <td>NaN</td>\n",
              "      <td>skilled</td>\n",
              "      <td>NaN</td>\n",
              "      <td>none</td>\n",
              "      <td>yes</td>\n",
              "    </tr>\n",
              "    <tr>\n",
              "      <th>freq</th>\n",
              "      <td>394</td>\n",
              "      <td>NaN</td>\n",
              "      <td>530</td>\n",
              "      <td>280</td>\n",
              "      <td>NaN</td>\n",
              "      <td>603</td>\n",
              "      <td>339</td>\n",
              "      <td>NaN</td>\n",
              "      <td>548</td>\n",
              "      <td>907</td>\n",
              "      <td>NaN</td>\n",
              "      <td>332</td>\n",
              "      <td>NaN</td>\n",
              "      <td>814</td>\n",
              "      <td>713</td>\n",
              "      <td>NaN</td>\n",
              "      <td>630</td>\n",
              "      <td>NaN</td>\n",
              "      <td>596</td>\n",
              "      <td>963</td>\n",
              "    </tr>\n",
              "    <tr>\n",
              "      <th>mean</th>\n",
              "      <td>NaN</td>\n",
              "      <td>20.903000</td>\n",
              "      <td>NaN</td>\n",
              "      <td>NaN</td>\n",
              "      <td>3271.258000</td>\n",
              "      <td>NaN</td>\n",
              "      <td>NaN</td>\n",
              "      <td>2.973000</td>\n",
              "      <td>NaN</td>\n",
              "      <td>NaN</td>\n",
              "      <td>2.845000</td>\n",
              "      <td>NaN</td>\n",
              "      <td>35.546000</td>\n",
              "      <td>NaN</td>\n",
              "      <td>NaN</td>\n",
              "      <td>1.407000</td>\n",
              "      <td>NaN</td>\n",
              "      <td>1.155000</td>\n",
              "      <td>NaN</td>\n",
              "      <td>NaN</td>\n",
              "    </tr>\n",
              "    <tr>\n",
              "      <th>std</th>\n",
              "      <td>NaN</td>\n",
              "      <td>12.058814</td>\n",
              "      <td>NaN</td>\n",
              "      <td>NaN</td>\n",
              "      <td>2822.736876</td>\n",
              "      <td>NaN</td>\n",
              "      <td>NaN</td>\n",
              "      <td>1.118715</td>\n",
              "      <td>NaN</td>\n",
              "      <td>NaN</td>\n",
              "      <td>1.103718</td>\n",
              "      <td>NaN</td>\n",
              "      <td>11.375469</td>\n",
              "      <td>NaN</td>\n",
              "      <td>NaN</td>\n",
              "      <td>0.577654</td>\n",
              "      <td>NaN</td>\n",
              "      <td>0.362086</td>\n",
              "      <td>NaN</td>\n",
              "      <td>NaN</td>\n",
              "    </tr>\n",
              "    <tr>\n",
              "      <th>min</th>\n",
              "      <td>NaN</td>\n",
              "      <td>4.000000</td>\n",
              "      <td>NaN</td>\n",
              "      <td>NaN</td>\n",
              "      <td>250.000000</td>\n",
              "      <td>NaN</td>\n",
              "      <td>NaN</td>\n",
              "      <td>1.000000</td>\n",
              "      <td>NaN</td>\n",
              "      <td>NaN</td>\n",
              "      <td>1.000000</td>\n",
              "      <td>NaN</td>\n",
              "      <td>19.000000</td>\n",
              "      <td>NaN</td>\n",
              "      <td>NaN</td>\n",
              "      <td>1.000000</td>\n",
              "      <td>NaN</td>\n",
              "      <td>1.000000</td>\n",
              "      <td>NaN</td>\n",
              "      <td>NaN</td>\n",
              "    </tr>\n",
              "    <tr>\n",
              "      <th>25%</th>\n",
              "      <td>NaN</td>\n",
              "      <td>12.000000</td>\n",
              "      <td>NaN</td>\n",
              "      <td>NaN</td>\n",
              "      <td>1365.500000</td>\n",
              "      <td>NaN</td>\n",
              "      <td>NaN</td>\n",
              "      <td>2.000000</td>\n",
              "      <td>NaN</td>\n",
              "      <td>NaN</td>\n",
              "      <td>2.000000</td>\n",
              "      <td>NaN</td>\n",
              "      <td>27.000000</td>\n",
              "      <td>NaN</td>\n",
              "      <td>NaN</td>\n",
              "      <td>1.000000</td>\n",
              "      <td>NaN</td>\n",
              "      <td>1.000000</td>\n",
              "      <td>NaN</td>\n",
              "      <td>NaN</td>\n",
              "    </tr>\n",
              "    <tr>\n",
              "      <th>50%</th>\n",
              "      <td>NaN</td>\n",
              "      <td>18.000000</td>\n",
              "      <td>NaN</td>\n",
              "      <td>NaN</td>\n",
              "      <td>2319.500000</td>\n",
              "      <td>NaN</td>\n",
              "      <td>NaN</td>\n",
              "      <td>3.000000</td>\n",
              "      <td>NaN</td>\n",
              "      <td>NaN</td>\n",
              "      <td>3.000000</td>\n",
              "      <td>NaN</td>\n",
              "      <td>33.000000</td>\n",
              "      <td>NaN</td>\n",
              "      <td>NaN</td>\n",
              "      <td>1.000000</td>\n",
              "      <td>NaN</td>\n",
              "      <td>1.000000</td>\n",
              "      <td>NaN</td>\n",
              "      <td>NaN</td>\n",
              "    </tr>\n",
              "    <tr>\n",
              "      <th>75%</th>\n",
              "      <td>NaN</td>\n",
              "      <td>24.000000</td>\n",
              "      <td>NaN</td>\n",
              "      <td>NaN</td>\n",
              "      <td>3972.250000</td>\n",
              "      <td>NaN</td>\n",
              "      <td>NaN</td>\n",
              "      <td>4.000000</td>\n",
              "      <td>NaN</td>\n",
              "      <td>NaN</td>\n",
              "      <td>4.000000</td>\n",
              "      <td>NaN</td>\n",
              "      <td>42.000000</td>\n",
              "      <td>NaN</td>\n",
              "      <td>NaN</td>\n",
              "      <td>2.000000</td>\n",
              "      <td>NaN</td>\n",
              "      <td>1.000000</td>\n",
              "      <td>NaN</td>\n",
              "      <td>NaN</td>\n",
              "    </tr>\n",
              "    <tr>\n",
              "      <th>max</th>\n",
              "      <td>NaN</td>\n",
              "      <td>72.000000</td>\n",
              "      <td>NaN</td>\n",
              "      <td>NaN</td>\n",
              "      <td>18424.000000</td>\n",
              "      <td>NaN</td>\n",
              "      <td>NaN</td>\n",
              "      <td>4.000000</td>\n",
              "      <td>NaN</td>\n",
              "      <td>NaN</td>\n",
              "      <td>4.000000</td>\n",
              "      <td>NaN</td>\n",
              "      <td>75.000000</td>\n",
              "      <td>NaN</td>\n",
              "      <td>NaN</td>\n",
              "      <td>4.000000</td>\n",
              "      <td>NaN</td>\n",
              "      <td>2.000000</td>\n",
              "      <td>NaN</td>\n",
              "      <td>NaN</td>\n",
              "    </tr>\n",
              "  </tbody>\n",
              "</table>\n",
              "</div>\n",
              "    <div class=\"colab-df-buttons\">\n",
              "\n",
              "  <div class=\"colab-df-container\">\n",
              "    <button class=\"colab-df-convert\" onclick=\"convertToInteractive('df-bb4c23c8-0342-4273-8dcb-fbc1232b1794')\"\n",
              "            title=\"Convert this dataframe to an interactive table.\"\n",
              "            style=\"display:none;\">\n",
              "\n",
              "  <svg xmlns=\"http://www.w3.org/2000/svg\" height=\"24px\" viewBox=\"0 -960 960 960\">\n",
              "    <path d=\"M120-120v-720h720v720H120Zm60-500h600v-160H180v160Zm220 220h160v-160H400v160Zm0 220h160v-160H400v160ZM180-400h160v-160H180v160Zm440 0h160v-160H620v160ZM180-180h160v-160H180v160Zm440 0h160v-160H620v160Z\"/>\n",
              "  </svg>\n",
              "    </button>\n",
              "\n",
              "  <style>\n",
              "    .colab-df-container {\n",
              "      display:flex;\n",
              "      gap: 12px;\n",
              "    }\n",
              "\n",
              "    .colab-df-convert {\n",
              "      background-color: #E8F0FE;\n",
              "      border: none;\n",
              "      border-radius: 50%;\n",
              "      cursor: pointer;\n",
              "      display: none;\n",
              "      fill: #1967D2;\n",
              "      height: 32px;\n",
              "      padding: 0 0 0 0;\n",
              "      width: 32px;\n",
              "    }\n",
              "\n",
              "    .colab-df-convert:hover {\n",
              "      background-color: #E2EBFA;\n",
              "      box-shadow: 0px 1px 2px rgba(60, 64, 67, 0.3), 0px 1px 3px 1px rgba(60, 64, 67, 0.15);\n",
              "      fill: #174EA6;\n",
              "    }\n",
              "\n",
              "    .colab-df-buttons div {\n",
              "      margin-bottom: 4px;\n",
              "    }\n",
              "\n",
              "    [theme=dark] .colab-df-convert {\n",
              "      background-color: #3B4455;\n",
              "      fill: #D2E3FC;\n",
              "    }\n",
              "\n",
              "    [theme=dark] .colab-df-convert:hover {\n",
              "      background-color: #434B5C;\n",
              "      box-shadow: 0px 1px 3px 1px rgba(0, 0, 0, 0.15);\n",
              "      filter: drop-shadow(0px 1px 2px rgba(0, 0, 0, 0.3));\n",
              "      fill: #FFFFFF;\n",
              "    }\n",
              "  </style>\n",
              "\n",
              "    <script>\n",
              "      const buttonEl =\n",
              "        document.querySelector('#df-bb4c23c8-0342-4273-8dcb-fbc1232b1794 button.colab-df-convert');\n",
              "      buttonEl.style.display =\n",
              "        google.colab.kernel.accessAllowed ? 'block' : 'none';\n",
              "\n",
              "      async function convertToInteractive(key) {\n",
              "        const element = document.querySelector('#df-bb4c23c8-0342-4273-8dcb-fbc1232b1794');\n",
              "        const dataTable =\n",
              "          await google.colab.kernel.invokeFunction('convertToInteractive',\n",
              "                                                    [key], {});\n",
              "        if (!dataTable) return;\n",
              "\n",
              "        const docLinkHtml = 'Like what you see? Visit the ' +\n",
              "          '<a target=\"_blank\" href=https://colab.research.google.com/notebooks/data_table.ipynb>data table notebook</a>'\n",
              "          + ' to learn more about interactive tables.';\n",
              "        element.innerHTML = '';\n",
              "        dataTable['output_type'] = 'display_data';\n",
              "        await google.colab.output.renderOutput(dataTable, element);\n",
              "        const docLink = document.createElement('div');\n",
              "        docLink.innerHTML = docLinkHtml;\n",
              "        element.appendChild(docLink);\n",
              "      }\n",
              "    </script>\n",
              "  </div>\n",
              "\n",
              "\n",
              "<div id=\"df-ea3b3bd6-4eef-42f7-83d5-e1dfd5b5273c\">\n",
              "  <button class=\"colab-df-quickchart\" onclick=\"quickchart('df-ea3b3bd6-4eef-42f7-83d5-e1dfd5b5273c')\"\n",
              "            title=\"Suggest charts\"\n",
              "            style=\"display:none;\">\n",
              "\n",
              "<svg xmlns=\"http://www.w3.org/2000/svg\" height=\"24px\"viewBox=\"0 0 24 24\"\n",
              "     width=\"24px\">\n",
              "    <g>\n",
              "        <path d=\"M19 3H5c-1.1 0-2 .9-2 2v14c0 1.1.9 2 2 2h14c1.1 0 2-.9 2-2V5c0-1.1-.9-2-2-2zM9 17H7v-7h2v7zm4 0h-2V7h2v10zm4 0h-2v-4h2v4z\"/>\n",
              "    </g>\n",
              "</svg>\n",
              "  </button>\n",
              "\n",
              "<style>\n",
              "  .colab-df-quickchart {\n",
              "      --bg-color: #E8F0FE;\n",
              "      --fill-color: #1967D2;\n",
              "      --hover-bg-color: #E2EBFA;\n",
              "      --hover-fill-color: #174EA6;\n",
              "      --disabled-fill-color: #AAA;\n",
              "      --disabled-bg-color: #DDD;\n",
              "  }\n",
              "\n",
              "  [theme=dark] .colab-df-quickchart {\n",
              "      --bg-color: #3B4455;\n",
              "      --fill-color: #D2E3FC;\n",
              "      --hover-bg-color: #434B5C;\n",
              "      --hover-fill-color: #FFFFFF;\n",
              "      --disabled-bg-color: #3B4455;\n",
              "      --disabled-fill-color: #666;\n",
              "  }\n",
              "\n",
              "  .colab-df-quickchart {\n",
              "    background-color: var(--bg-color);\n",
              "    border: none;\n",
              "    border-radius: 50%;\n",
              "    cursor: pointer;\n",
              "    display: none;\n",
              "    fill: var(--fill-color);\n",
              "    height: 32px;\n",
              "    padding: 0;\n",
              "    width: 32px;\n",
              "  }\n",
              "\n",
              "  .colab-df-quickchart:hover {\n",
              "    background-color: var(--hover-bg-color);\n",
              "    box-shadow: 0 1px 2px rgba(60, 64, 67, 0.3), 0 1px 3px 1px rgba(60, 64, 67, 0.15);\n",
              "    fill: var(--button-hover-fill-color);\n",
              "  }\n",
              "\n",
              "  .colab-df-quickchart-complete:disabled,\n",
              "  .colab-df-quickchart-complete:disabled:hover {\n",
              "    background-color: var(--disabled-bg-color);\n",
              "    fill: var(--disabled-fill-color);\n",
              "    box-shadow: none;\n",
              "  }\n",
              "\n",
              "  .colab-df-spinner {\n",
              "    border: 2px solid var(--fill-color);\n",
              "    border-color: transparent;\n",
              "    border-bottom-color: var(--fill-color);\n",
              "    animation:\n",
              "      spin 1s steps(1) infinite;\n",
              "  }\n",
              "\n",
              "  @keyframes spin {\n",
              "    0% {\n",
              "      border-color: transparent;\n",
              "      border-bottom-color: var(--fill-color);\n",
              "      border-left-color: var(--fill-color);\n",
              "    }\n",
              "    20% {\n",
              "      border-color: transparent;\n",
              "      border-left-color: var(--fill-color);\n",
              "      border-top-color: var(--fill-color);\n",
              "    }\n",
              "    30% {\n",
              "      border-color: transparent;\n",
              "      border-left-color: var(--fill-color);\n",
              "      border-top-color: var(--fill-color);\n",
              "      border-right-color: var(--fill-color);\n",
              "    }\n",
              "    40% {\n",
              "      border-color: transparent;\n",
              "      border-right-color: var(--fill-color);\n",
              "      border-top-color: var(--fill-color);\n",
              "    }\n",
              "    60% {\n",
              "      border-color: transparent;\n",
              "      border-right-color: var(--fill-color);\n",
              "    }\n",
              "    80% {\n",
              "      border-color: transparent;\n",
              "      border-right-color: var(--fill-color);\n",
              "      border-bottom-color: var(--fill-color);\n",
              "    }\n",
              "    90% {\n",
              "      border-color: transparent;\n",
              "      border-bottom-color: var(--fill-color);\n",
              "    }\n",
              "  }\n",
              "</style>\n",
              "\n",
              "  <script>\n",
              "    async function quickchart(key) {\n",
              "      const quickchartButtonEl =\n",
              "        document.querySelector('#' + key + ' button');\n",
              "      quickchartButtonEl.disabled = true;  // To prevent multiple clicks.\n",
              "      quickchartButtonEl.classList.add('colab-df-spinner');\n",
              "      try {\n",
              "        const charts = await google.colab.kernel.invokeFunction(\n",
              "            'suggestCharts', [key], {});\n",
              "      } catch (error) {\n",
              "        console.error('Error during call to suggestCharts:', error);\n",
              "      }\n",
              "      quickchartButtonEl.classList.remove('colab-df-spinner');\n",
              "      quickchartButtonEl.classList.add('colab-df-quickchart-complete');\n",
              "    }\n",
              "    (() => {\n",
              "      let quickchartButtonEl =\n",
              "        document.querySelector('#df-ea3b3bd6-4eef-42f7-83d5-e1dfd5b5273c button');\n",
              "      quickchartButtonEl.style.display =\n",
              "        google.colab.kernel.accessAllowed ? 'block' : 'none';\n",
              "    })();\n",
              "  </script>\n",
              "</div>\n",
              "    </div>\n",
              "  </div>\n"
            ],
            "application/vnd.google.colaboratory.intrinsic+json": {
              "type": "dataframe",
              "summary": "{\n  \"name\": \"df_x\",\n  \"rows\": 11,\n  \"fields\": [\n    {\n      \"column\": \"checking_status\",\n      \"properties\": {\n        \"dtype\": \"category\",\n        \"num_unique_values\": 4,\n        \"samples\": [\n          4,\n          \"394\",\n          \"1000\"\n        ],\n        \"semantic_type\": \"\",\n        \"description\": \"\"\n      }\n    },\n    {\n      \"column\": \"duration\",\n      \"properties\": {\n        \"dtype\": \"number\",\n        \"std\": 345.9492794534648,\n        \"min\": 4.0,\n        \"max\": 1000.0,\n        \"num_unique_values\": 8,\n        \"samples\": [\n          20.903,\n          18.0,\n          1000.0\n        ],\n        \"semantic_type\": \"\",\n        \"description\": \"\"\n      }\n    },\n    {\n      \"column\": \"credit_history\",\n      \"properties\": {\n        \"dtype\": \"category\",\n        \"num_unique_values\": 4,\n        \"samples\": [\n          5,\n          \"530\",\n          \"1000\"\n        ],\n        \"semantic_type\": \"\",\n        \"description\": \"\"\n      }\n    },\n    {\n      \"column\": \"purpose\",\n      \"properties\": {\n        \"dtype\": \"category\",\n        \"num_unique_values\": 4,\n        \"samples\": [\n          10,\n          \"280\",\n          \"1000\"\n        ],\n        \"semantic_type\": \"\",\n        \"description\": \"\"\n      }\n    },\n    {\n      \"column\": \"credit_amount\",\n      \"properties\": {\n        \"dtype\": \"number\",\n        \"std\": 5886.3378690311465,\n        \"min\": 250.0,\n        \"max\": 18424.0,\n        \"num_unique_values\": 8,\n        \"samples\": [\n          3271.258,\n          2319.5,\n          1000.0\n        ],\n        \"semantic_type\": \"\",\n        \"description\": \"\"\n      }\n    },\n    {\n      \"column\": \"savings_status\",\n      \"properties\": {\n        \"dtype\": \"category\",\n        \"num_unique_values\": 4,\n        \"samples\": [\n          5,\n          \"603\",\n          \"1000\"\n        ],\n        \"semantic_type\": \"\",\n        \"description\": \"\"\n      }\n    },\n    {\n      \"column\": \"employment\",\n      \"properties\": {\n        \"dtype\": \"category\",\n        \"num_unique_values\": 4,\n        \"samples\": [\n          5,\n          \"339\",\n          \"1000\"\n        ],\n        \"semantic_type\": \"\",\n        \"description\": \"\"\n      }\n    },\n    {\n      \"column\": \"installment_commitment\",\n      \"properties\": {\n        \"dtype\": \"number\",\n        \"std\": 352.6415111727615,\n        \"min\": 1.0,\n        \"max\": 1000.0,\n        \"num_unique_values\": 7,\n        \"samples\": [\n          1000.0,\n          2.973,\n          3.0\n        ],\n        \"semantic_type\": \"\",\n        \"description\": \"\"\n      }\n    },\n    {\n      \"column\": \"personal_status\",\n      \"properties\": {\n        \"dtype\": \"category\",\n        \"num_unique_values\": 4,\n        \"samples\": [\n          4,\n          \"548\",\n          \"1000\"\n        ],\n        \"semantic_type\": \"\",\n        \"description\": \"\"\n      }\n    },\n    {\n      \"column\": \"other_parties\",\n      \"properties\": {\n        \"dtype\": \"category\",\n        \"num_unique_values\": 4,\n        \"samples\": [\n          3,\n          \"907\",\n          \"1000\"\n        ],\n        \"semantic_type\": \"\",\n        \"description\": \"\"\n      }\n    },\n    {\n      \"column\": \"residence_since\",\n      \"properties\": {\n        \"dtype\": \"number\",\n        \"std\": 352.648725096441,\n        \"min\": 1.0,\n        \"max\": 1000.0,\n        \"num_unique_values\": 7,\n        \"samples\": [\n          1000.0,\n          2.845,\n          3.0\n        ],\n        \"semantic_type\": \"\",\n        \"description\": \"\"\n      }\n    },\n    {\n      \"column\": \"property_magnitude\",\n      \"properties\": {\n        \"dtype\": \"category\",\n        \"num_unique_values\": 4,\n        \"samples\": [\n          4,\n          \"332\",\n          \"1000\"\n        ],\n        \"semantic_type\": \"\",\n        \"description\": \"\"\n      }\n    },\n    {\n      \"column\": \"age\",\n      \"properties\": {\n        \"dtype\": \"number\",\n        \"std\": 341.8132734342618,\n        \"min\": 11.375468574317512,\n        \"max\": 1000.0,\n        \"num_unique_values\": 8,\n        \"samples\": [\n          35.546,\n          33.0,\n          1000.0\n        ],\n        \"semantic_type\": \"\",\n        \"description\": \"\"\n      }\n    },\n    {\n      \"column\": \"other_payment_plans\",\n      \"properties\": {\n        \"dtype\": \"category\",\n        \"num_unique_values\": 4,\n        \"samples\": [\n          3,\n          \"814\",\n          \"1000\"\n        ],\n        \"semantic_type\": \"\",\n        \"description\": \"\"\n      }\n    },\n    {\n      \"column\": \"housing\",\n      \"properties\": {\n        \"dtype\": \"category\",\n        \"num_unique_values\": 4,\n        \"samples\": [\n          3,\n          \"713\",\n          \"1000\"\n        ],\n        \"semantic_type\": \"\",\n        \"description\": \"\"\n      }\n    },\n    {\n      \"column\": \"existing_credits\",\n      \"properties\": {\n        \"dtype\": \"number\",\n        \"std\": 353.00021588164174,\n        \"min\": 0.5776544682461002,\n        \"max\": 1000.0,\n        \"num_unique_values\": 6,\n        \"samples\": [\n          1000.0,\n          1.407,\n          4.0\n        ],\n        \"semantic_type\": \"\",\n        \"description\": \"\"\n      }\n    },\n    {\n      \"column\": \"job\",\n      \"properties\": {\n        \"dtype\": \"category\",\n        \"num_unique_values\": 4,\n        \"samples\": [\n          4,\n          \"630\",\n          \"1000\"\n        ],\n        \"semantic_type\": \"\",\n        \"description\": \"\"\n      }\n    },\n    {\n      \"column\": \"num_dependents\",\n      \"properties\": {\n        \"dtype\": \"number\",\n        \"std\": 353.1740021102216,\n        \"min\": 0.36208577175319395,\n        \"max\": 1000.0,\n        \"num_unique_values\": 5,\n        \"samples\": [\n          1.155,\n          2.0,\n          0.36208577175319395\n        ],\n        \"semantic_type\": \"\",\n        \"description\": \"\"\n      }\n    },\n    {\n      \"column\": \"own_telephone\",\n      \"properties\": {\n        \"dtype\": \"category\",\n        \"num_unique_values\": 4,\n        \"samples\": [\n          2,\n          \"596\",\n          \"1000\"\n        ],\n        \"semantic_type\": \"\",\n        \"description\": \"\"\n      }\n    },\n    {\n      \"column\": \"foreign_worker\",\n      \"properties\": {\n        \"dtype\": \"category\",\n        \"num_unique_values\": 4,\n        \"samples\": [\n          2,\n          \"963\",\n          \"1000\"\n        ],\n        \"semantic_type\": \"\",\n        \"description\": \"\"\n      }\n    }\n  ]\n}"
            }
          },
          "metadata": {},
          "execution_count": 10
        }
      ]
    },
    {
      "cell_type": "markdown",
      "source": [
        "По общему статистическому описанию датасета видно, что числовые даные давольно чистые"
      ],
      "metadata": {
        "id": "qWVkzNhAE_99"
      }
    },
    {
      "cell_type": "markdown",
      "source": [
        "# Предобработку данных\n",
        "\n",
        "- Обработка пропущенных значений\n",
        "- Обработка дубликатов\n",
        "- Кодирование категориальных признаков\n",
        "- Масштабирование признаков (например, стандартизация)"
      ],
      "metadata": {
        "id": "w2bzlZW34hef"
      }
    },
    {
      "cell_type": "markdown",
      "source": [
        "Так как пустые значения отсутствуют, то пункт с их обработкой пропускаем"
      ],
      "metadata": {
        "id": "vZiWqnKZ6pWp"
      }
    },
    {
      "cell_type": "code",
      "source": [
        "df_x.duplicated().sum()"
      ],
      "metadata": {
        "colab": {
          "base_uri": "https://localhost:8080/"
        },
        "id": "oQMPFi_JGH5L",
        "outputId": "2b0de1f6-09c2-4874-a92e-ae6cbd79ddd7"
      },
      "execution_count": 25,
      "outputs": [
        {
          "output_type": "execute_result",
          "data": {
            "text/plain": [
              "0"
            ]
          },
          "metadata": {},
          "execution_count": 25
        }
      ]
    },
    {
      "cell_type": "markdown",
      "source": [
        "Проверили дублирующиеся строки, они также отсутствуют"
      ],
      "metadata": {
        "id": "vbmwY6OWGe3d"
      }
    },
    {
      "cell_type": "markdown",
      "source": [
        "Перейдём к работе над признаками в датасете"
      ],
      "metadata": {
        "id": "KSPhB1_46wAT"
      }
    },
    {
      "cell_type": "code",
      "source": [
        "df_x.personal_status.value_counts()"
      ],
      "metadata": {
        "colab": {
          "base_uri": "https://localhost:8080/"
        },
        "id": "9-a01wz3U-nw",
        "outputId": "3c9dbc57-1204-4bf7-c7ce-19f5b7b0073f"
      },
      "execution_count": 26,
      "outputs": [
        {
          "output_type": "execute_result",
          "data": {
            "text/plain": [
              "personal_status\n",
              "male single           548\n",
              "female div/dep/mar    310\n",
              "male mar/wid           92\n",
              "male div/sep           50\n",
              "Name: count, dtype: int64"
            ]
          },
          "metadata": {},
          "execution_count": 26
        }
      ]
    },
    {
      "cell_type": "markdown",
      "source": [
        "Данные значения можно разделить на два признака - пол и соц. статус\n",
        "\n",
        "Добавили два столбца вместо одного personal_status: один столбец с полом (значения 1 и 0), другой с семейным положением"
      ],
      "metadata": {
        "id": "N1O0GHUfYqBr"
      }
    },
    {
      "cell_type": "code",
      "source": [
        "def find_sex(x):\n",
        "  if \"female\" in x:\n",
        "    return 0\n",
        "  else:\n",
        "    return 1\n",
        "\n",
        "df_x['is_male'] = df_x['personal_status'].apply(find_sex)"
      ],
      "metadata": {
        "id": "Fu_KlrupcSJX"
      },
      "execution_count": 27,
      "outputs": []
    },
    {
      "cell_type": "code",
      "source": [
        "df_x.is_male.value_counts()"
      ],
      "metadata": {
        "colab": {
          "base_uri": "https://localhost:8080/"
        },
        "id": "0ikQkb9tkHFx",
        "outputId": "5a595f70-d03d-462a-ef07-42c724b3e06b"
      },
      "execution_count": 28,
      "outputs": [
        {
          "output_type": "execute_result",
          "data": {
            "text/plain": [
              "is_male\n",
              "1    690\n",
              "0    310\n",
              "Name: count, dtype: int64"
            ]
          },
          "metadata": {},
          "execution_count": 28
        }
      ]
    },
    {
      "cell_type": "code",
      "source": [
        "def social_status(x):\n",
        "  return x.split(\" \")[1]\n",
        "\n",
        "df_x['social_status'] = df_x['personal_status'].apply(social_status)\n",
        "df_x.drop(columns=['personal_status'], inplace=True)"
      ],
      "metadata": {
        "id": "EOGHaGYFkavV"
      },
      "execution_count": 29,
      "outputs": []
    },
    {
      "cell_type": "markdown",
      "source": [
        "---\n",
        "---\n",
        "\n",
        "Преобразуем столбцы с checking_status, employment, savings_status, own_telephone,\tforeign_worker. Заменим на числовые значения"
      ],
      "metadata": {
        "id": "mOcDOdOspElf"
      }
    },
    {
      "cell_type": "code",
      "source": [
        "df_x.checking_status.value_counts()"
      ],
      "metadata": {
        "colab": {
          "base_uri": "https://localhost:8080/"
        },
        "id": "BNIvYmZep-8V",
        "outputId": "0989af53-21ed-4403-e9b9-5085afe16564"
      },
      "execution_count": 30,
      "outputs": [
        {
          "output_type": "execute_result",
          "data": {
            "text/plain": [
              "checking_status\n",
              "no checking    394\n",
              "<0             274\n",
              "0<=X<200       269\n",
              ">=200           63\n",
              "Name: count, dtype: int64"
            ]
          },
          "metadata": {},
          "execution_count": 30
        }
      ]
    },
    {
      "cell_type": "code",
      "source": [
        "def checking_status_change(x):\n",
        "  if x == \"no checking\":\n",
        "    return 1\n",
        "  if x == \"<0\":\n",
        "    return 0\n",
        "  if x == \"0<=X<200\":\n",
        "    return 2\n",
        "  if x == \">=200\":\n",
        "    return 3\n",
        "\n",
        "df_x['checking_status'] = df_x.checking_status.apply(checking_status_change)"
      ],
      "metadata": {
        "id": "eZLHd3TCpxsY"
      },
      "execution_count": 31,
      "outputs": []
    },
    {
      "cell_type": "code",
      "source": [
        "df_x.checking_status.value_counts()"
      ],
      "metadata": {
        "colab": {
          "base_uri": "https://localhost:8080/"
        },
        "id": "2SAmeZMeqmws",
        "outputId": "f92a70be-462f-4c5d-a1dd-8447f507c8f5"
      },
      "execution_count": 32,
      "outputs": [
        {
          "output_type": "execute_result",
          "data": {
            "text/plain": [
              "checking_status\n",
              "1    394\n",
              "0    274\n",
              "2    269\n",
              "3     63\n",
              "Name: count, dtype: int64"
            ]
          },
          "metadata": {},
          "execution_count": 32
        }
      ]
    },
    {
      "cell_type": "markdown",
      "source": [
        "---\n"
      ],
      "metadata": {
        "id": "SdGlYO6_t4u6"
      }
    },
    {
      "cell_type": "code",
      "source": [
        "df_x.employment.value_counts()"
      ],
      "metadata": {
        "colab": {
          "base_uri": "https://localhost:8080/"
        },
        "id": "mxbZlk18t2US",
        "outputId": "296fc9b8-5d01-4fc0-c5eb-10e1d52c770f"
      },
      "execution_count": 33,
      "outputs": [
        {
          "output_type": "execute_result",
          "data": {
            "text/plain": [
              "employment\n",
              "1<=X<4        339\n",
              ">=7           253\n",
              "4<=X<7        174\n",
              "<1            172\n",
              "unemployed     62\n",
              "Name: count, dtype: int64"
            ]
          },
          "metadata": {},
          "execution_count": 33
        }
      ]
    },
    {
      "cell_type": "code",
      "source": [
        "df_x.employment = df_x.employment.replace({\"unemployed\":0, \"<1\":0, \"1<=X<4\":1, \"4<=X<7\":2, \">=7\":3})\n",
        "df_x.employment.value_counts()"
      ],
      "metadata": {
        "colab": {
          "base_uri": "https://localhost:8080/"
        },
        "id": "CXdK-kd7uEEk",
        "outputId": "91f33283-43b1-422e-c82f-1d4e65247f91"
      },
      "execution_count": 34,
      "outputs": [
        {
          "output_type": "execute_result",
          "data": {
            "text/plain": [
              "employment\n",
              "1    339\n",
              "3    253\n",
              "0    234\n",
              "2    174\n",
              "Name: count, dtype: int64"
            ]
          },
          "metadata": {},
          "execution_count": 34
        }
      ]
    },
    {
      "cell_type": "markdown",
      "source": [
        "---"
      ],
      "metadata": {
        "id": "WtcL2l41uqCW"
      }
    },
    {
      "cell_type": "code",
      "source": [
        "df_x.savings_status.value_counts()"
      ],
      "metadata": {
        "colab": {
          "base_uri": "https://localhost:8080/"
        },
        "id": "vusZXMX1urhW",
        "outputId": "7e349d26-dc11-4cd9-d9d5-6e88ee1c21c2"
      },
      "execution_count": 35,
      "outputs": [
        {
          "output_type": "execute_result",
          "data": {
            "text/plain": [
              "savings_status\n",
              "<100                603\n",
              "no known savings    183\n",
              "100<=X<500          103\n",
              "500<=X<1000          63\n",
              ">=1000               48\n",
              "Name: count, dtype: int64"
            ]
          },
          "metadata": {},
          "execution_count": 35
        }
      ]
    },
    {
      "cell_type": "code",
      "source": [
        "df_x.savings_status = df_x.savings_status.replace({\"no known savings\":0, \"<100\":1, \"100<=X<500\":2, \"500<=X<1000\":3, \">=1000\":4})\n",
        "df_x.savings_status.value_counts()"
      ],
      "metadata": {
        "colab": {
          "base_uri": "https://localhost:8080/"
        },
        "id": "C9BdpxGsurJ3",
        "outputId": "453241e0-1088-4b3d-e530-e721100925bb"
      },
      "execution_count": 36,
      "outputs": [
        {
          "output_type": "execute_result",
          "data": {
            "text/plain": [
              "savings_status\n",
              "1    603\n",
              "0    183\n",
              "2    103\n",
              "3     63\n",
              "4     48\n",
              "Name: count, dtype: int64"
            ]
          },
          "metadata": {},
          "execution_count": 36
        }
      ]
    },
    {
      "cell_type": "markdown",
      "source": [
        "---"
      ],
      "metadata": {
        "id": "oKN1uLNKvKR-"
      }
    },
    {
      "cell_type": "code",
      "source": [
        "df_x.own_telephone.value_counts()"
      ],
      "metadata": {
        "colab": {
          "base_uri": "https://localhost:8080/"
        },
        "id": "y9H58bgmvXSx",
        "outputId": "2245dff8-fdcb-4d8f-fad4-4a578c5280a7"
      },
      "execution_count": 37,
      "outputs": [
        {
          "output_type": "execute_result",
          "data": {
            "text/plain": [
              "own_telephone\n",
              "none    596\n",
              "yes     404\n",
              "Name: count, dtype: int64"
            ]
          },
          "metadata": {},
          "execution_count": 37
        }
      ]
    },
    {
      "cell_type": "code",
      "source": [
        "df_x.own_telephone=df_x.own_telephone.replace({\"none\":0, \"yes\":1})\n",
        "df_x.own_telephone.value_counts()"
      ],
      "metadata": {
        "colab": {
          "base_uri": "https://localhost:8080/"
        },
        "id": "GOVyRPQOvXGH",
        "outputId": "23308e5f-4533-4559-80e8-c6affc61afaa"
      },
      "execution_count": 38,
      "outputs": [
        {
          "output_type": "execute_result",
          "data": {
            "text/plain": [
              "own_telephone\n",
              "0    596\n",
              "1    404\n",
              "Name: count, dtype: int64"
            ]
          },
          "metadata": {},
          "execution_count": 38
        }
      ]
    },
    {
      "cell_type": "markdown",
      "source": [
        "---"
      ],
      "metadata": {
        "id": "GNYwJCVvwrfx"
      }
    },
    {
      "cell_type": "code",
      "source": [
        "df_x.foreign_worker.value_counts()"
      ],
      "metadata": {
        "colab": {
          "base_uri": "https://localhost:8080/"
        },
        "id": "Q-qbc2_IvW6l",
        "outputId": "e8db20f3-d00f-4da5-c3d1-4a0ac54bbc98"
      },
      "execution_count": 39,
      "outputs": [
        {
          "output_type": "execute_result",
          "data": {
            "text/plain": [
              "foreign_worker\n",
              "yes    963\n",
              "no      37\n",
              "Name: count, dtype: int64"
            ]
          },
          "metadata": {},
          "execution_count": 39
        }
      ]
    },
    {
      "cell_type": "code",
      "source": [
        "df_x.foreign_worker=df_x.foreign_worker.replace({\"no\":0, \"yes\":1})\n",
        "df_x.foreign_worker.value_counts()"
      ],
      "metadata": {
        "colab": {
          "base_uri": "https://localhost:8080/"
        },
        "id": "GbfaqLCLw5Aw",
        "outputId": "74482b77-7f96-427d-c760-6bb3e6f594ee"
      },
      "execution_count": 40,
      "outputs": [
        {
          "output_type": "execute_result",
          "data": {
            "text/plain": [
              "foreign_worker\n",
              "1    963\n",
              "0     37\n",
              "Name: count, dtype: int64"
            ]
          },
          "metadata": {},
          "execution_count": 40
        }
      ]
    },
    {
      "cell_type": "markdown",
      "source": [
        "---\n",
        "---"
      ],
      "metadata": {
        "id": "kb9IG1yrq9Ka"
      }
    },
    {
      "cell_type": "markdown",
      "source": [
        "Изменим столбцы credit_history, purpose"
      ],
      "metadata": {
        "id": "DzQN3-c_tyF2"
      }
    },
    {
      "cell_type": "code",
      "source": [
        "df_x.credit_history.value_counts()"
      ],
      "metadata": {
        "colab": {
          "base_uri": "https://localhost:8080/"
        },
        "id": "G3sD4JbAsynj",
        "outputId": "999db31d-e7d4-4fd3-86ff-4a1e7b626bdf"
      },
      "execution_count": 41,
      "outputs": [
        {
          "output_type": "execute_result",
          "data": {
            "text/plain": [
              "credit_history\n",
              "existing paid                     530\n",
              "critical/other existing credit    293\n",
              "delayed previously                 88\n",
              "all paid                           49\n",
              "no credits/all paid                40\n",
              "Name: count, dtype: int64"
            ]
          },
          "metadata": {},
          "execution_count": 41
        }
      ]
    },
    {
      "cell_type": "code",
      "source": [
        "# соединим две последние категории вместе\n",
        "df_x['credit_history'] = df_x['credit_history'].replace({\"no credits/all paid\":\"all paid\"})\n",
        "df_x.credit_history.value_counts()"
      ],
      "metadata": {
        "colab": {
          "base_uri": "https://localhost:8080/"
        },
        "id": "wLuoIfJ8tECu",
        "outputId": "ecb8e933-5d37-4caf-e590-ec38bdd3e93a"
      },
      "execution_count": 42,
      "outputs": [
        {
          "output_type": "execute_result",
          "data": {
            "text/plain": [
              "credit_history\n",
              "existing paid                     530\n",
              "critical/other existing credit    293\n",
              "all paid                           89\n",
              "delayed previously                 88\n",
              "Name: count, dtype: int64"
            ]
          },
          "metadata": {},
          "execution_count": 42
        }
      ]
    },
    {
      "cell_type": "markdown",
      "source": [
        "---\n"
      ],
      "metadata": {
        "id": "fJoxeW-lx5AS"
      }
    },
    {
      "cell_type": "code",
      "source": [
        "df_x.purpose.value_counts()"
      ],
      "metadata": {
        "colab": {
          "base_uri": "https://localhost:8080/"
        },
        "id": "AF8_ESgFxdfd",
        "outputId": "44327cfc-0d7d-4c44-f7ef-3f5a7a17314c"
      },
      "execution_count": 43,
      "outputs": [
        {
          "output_type": "execute_result",
          "data": {
            "text/plain": [
              "purpose\n",
              "radio/tv               280\n",
              "new car                234\n",
              "furniture/equipment    181\n",
              "used car               103\n",
              "business                97\n",
              "education               50\n",
              "repairs                 22\n",
              "domestic appliance      12\n",
              "other                   12\n",
              "retraining               9\n",
              "Name: count, dtype: int64"
            ]
          },
          "metadata": {},
          "execution_count": 43
        }
      ]
    },
    {
      "cell_type": "code",
      "source": [
        "# соединим категорию обучение и переобучение; мебель и оборудование и бытовую технику\n",
        "df_x['purpose'] = df_x['purpose'].replace({\"retraining\":\"education\", \"domestic appliance\":\"furniture/equipment\"})\n",
        "df_x.purpose.value_counts()"
      ],
      "metadata": {
        "colab": {
          "base_uri": "https://localhost:8080/"
        },
        "id": "5_TtjZYzx4pa",
        "outputId": "91721042-085b-49c4-f042-8ed91031d9ca"
      },
      "execution_count": 44,
      "outputs": [
        {
          "output_type": "execute_result",
          "data": {
            "text/plain": [
              "purpose\n",
              "radio/tv               280\n",
              "new car                234\n",
              "furniture/equipment    193\n",
              "used car               103\n",
              "business                97\n",
              "education               59\n",
              "repairs                 22\n",
              "other                   12\n",
              "Name: count, dtype: int64"
            ]
          },
          "metadata": {},
          "execution_count": 44
        }
      ]
    },
    {
      "cell_type": "markdown",
      "source": [
        "---"
      ],
      "metadata": {
        "id": "-YEbhvzxzj6T"
      }
    },
    {
      "cell_type": "code",
      "source": [
        "df_x.job.value_counts()"
      ],
      "metadata": {
        "colab": {
          "base_uri": "https://localhost:8080/"
        },
        "id": "iFUlJmbCysQM",
        "outputId": "c8d67b84-9707-4ab1-babe-040048a14966"
      },
      "execution_count": 45,
      "outputs": [
        {
          "output_type": "execute_result",
          "data": {
            "text/plain": [
              "job\n",
              "skilled                      630\n",
              "unskilled resident           200\n",
              "high qualif/self emp/mgmt    148\n",
              "unemp/unskilled non res       22\n",
              "Name: count, dtype: int64"
            ]
          },
          "metadata": {},
          "execution_count": 45
        }
      ]
    },
    {
      "cell_type": "code",
      "source": [
        "# соединим в два столбца С_навыками и С_работой\n",
        "df_x['work'] = df_x['job'].replace({\"high qualif/self emp/mgmt\":1, \"unemp/unskilled non res\":0, \"skilled\":0, \"unskilled resident\":0})\n",
        "df_x['skills'] = df_x['job'].replace({\"high qualif/self emp/mgmt\":1, \"unemp/unskilled non res\":0, \"skilled\":1, \"unskilled resident\":0})\n",
        "print(df_x.work.value_counts())\n",
        "print(df_x.skills.value_counts())\n",
        "df_x.drop(columns=['job'], inplace=True)"
      ],
      "metadata": {
        "colab": {
          "base_uri": "https://localhost:8080/"
        },
        "id": "ztGiHcm2zk50",
        "outputId": "9008caf0-e594-43bd-9732-42fac879baf3"
      },
      "execution_count": 46,
      "outputs": [
        {
          "output_type": "stream",
          "name": "stdout",
          "text": [
            "work\n",
            "0    852\n",
            "1    148\n",
            "Name: count, dtype: int64\n",
            "skills\n",
            "1    778\n",
            "0    222\n",
            "Name: count, dtype: int64\n"
          ]
        }
      ]
    },
    {
      "cell_type": "markdown",
      "source": [
        "---\n",
        "---\n",
        "---\n",
        "Итог: мы преобразовали все колонки, которые могли, некоторые изменили на числовые, в некоторых соединили малочисленные группы\n"
      ],
      "metadata": {
        "id": "YQJxT9mq2L_n"
      }
    },
    {
      "cell_type": "markdown",
      "source": [
        "# Разведывательный анализ данных (Exploratory Data Analysis):\n",
        "\n",
        "- Визуализация данных (гистограммы, диаграммы рассеяния, box plot)\n",
        "- Анализ корреляции между признаками\n",
        "- Выявление выбросов и аномалий"
      ],
      "metadata": {
        "id": "73xUQiIb7bjZ"
      }
    },
    {
      "cell_type": "code",
      "source": [
        "import matplotlib.pyplot as plt\n"
      ],
      "metadata": {
        "id": "dDVmOimhHfaO"
      },
      "execution_count": 49,
      "outputs": []
    },
    {
      "cell_type": "code",
      "source": [
        "df_x.shape"
      ],
      "metadata": {
        "colab": {
          "base_uri": "https://localhost:8080/"
        },
        "id": "JIGU3IbuITRw",
        "outputId": "9eb0d43a-d7c3-4c57-a5d1-4d6d1760f007"
      },
      "execution_count": 53,
      "outputs": [
        {
          "output_type": "execute_result",
          "data": {
            "text/plain": [
              "(1000, 22)"
            ]
          },
          "metadata": {},
          "execution_count": 53
        }
      ]
    },
    {
      "cell_type": "code",
      "source": [
        "fig, axs = plt.subplots(nrows=11, ncols=2, figsize=(15, 30))\n",
        "\n",
        "# Разворачиваем двумерный массив axs в одномерный для удобства обращения\n",
        "axs = axs.flatten()\n",
        "\n",
        "# Перебираем каждый столбец и строим гистограмму\n",
        "for i, col in enumerate(df_x.columns):\n",
        "    axs[i].hist(df_x[col], bins=10)  # Можно настроить количество бинов (столбцов) по желанию\n",
        "    axs[i].set_title(col)  # Устанавливаем заголовок для каждой гистограммы\n",
        "\n",
        "plt.tight_layout()  # Для улучшения визуального отображения\n",
        "plt.show()"
      ],
      "metadata": {
        "colab": {
          "base_uri": "https://localhost:8080/",
          "height": 1000
        },
        "id": "iYw5TY_z7oqI",
        "outputId": "df21bd1c-9eb3-4834-948e-16089938e380"
      },
      "execution_count": 54,
      "outputs": [
        {
          "output_type": "display_data",
          "data": {
            "text/plain": [
              "<Figure size 1500x3000 with 22 Axes>"
            ],
            "image/png": "[encoded data removed]"
          },
          "metadata": {}
        }
      ]
    },
    {
      "cell_type": "markdown",
      "source": [
        "Выводы:\n",
        "\n",
        "- большие кредиты берут редко\n",
        "- возраст тех, кто берет кредит часто в районе 30-40, распределение логорифмическое\n",
        "- люди не в браке берут кредит чаще\n",
        "- мужчины чаще берут кредиты, чем женщины\n",
        "- иностранцев больше\n"
      ],
      "metadata": {
        "id": "nrGC6byPIsWi"
      }
    },
    {
      "cell_type": "code",
      "source": [
        "import seaborn as sns"
      ],
      "metadata": {
        "id": "QcGMbvF1J_OH"
      },
      "execution_count": 55,
      "outputs": []
    },
    {
      "cell_type": "code",
      "source": [
        "numeric_columns = df_x.select_dtypes(include=['int', 'float'])\n",
        "numeric_columns.head()"
      ],
      "metadata": {
        "colab": {
          "base_uri": "https://localhost:8080/",
          "height": 206
        },
        "id": "jGSJpYNQKbAO",
        "outputId": "7dbdedf9-3113-4cbb-ab8c-0f11e447f8bc"
      },
      "execution_count": 59,
      "outputs": [
        {
          "output_type": "execute_result",
          "data": {
            "text/plain": [
              "   duration  credit_amount  installment_commitment  residence_since   age  \\\n",
              "0       6.0         1169.0                     4.0              4.0  67.0   \n",
              "1      48.0         5951.0                     2.0              2.0  22.0   \n",
              "2      12.0         2096.0                     2.0              3.0  49.0   \n",
              "3      42.0         7882.0                     2.0              4.0  45.0   \n",
              "4      24.0         4870.0                     3.0              4.0  53.0   \n",
              "\n",
              "   existing_credits  num_dependents  is_male  \n",
              "0               2.0             1.0        1  \n",
              "1               1.0             1.0        0  \n",
              "2               1.0             2.0        1  \n",
              "3               1.0             2.0        1  \n",
              "4               2.0             2.0        1  "
            ],
            "text/html": [
              "\n",
              "  <div id=\"df-cf419bee-b4fa-4cba-b7a3-0acad5026c3d\" class=\"colab-df-container\">\n",
              "    <div>\n",
              "<style scoped>\n",
              "    .dataframe tbody tr th:only-of-type {\n",
              "        vertical-align: middle;\n",
              "    }\n",
              "\n",
              "    .dataframe tbody tr th {\n",
              "        vertical-align: top;\n",
              "    }\n",
              "\n",
              "    .dataframe thead th {\n",
              "        text-align: right;\n",
              "    }\n",
              "</style>\n",
              "<table border=\"1\" class=\"dataframe\">\n",
              "  <thead>\n",
              "    <tr style=\"text-align: right;\">\n",
              "      <th></th>\n",
              "      <th>duration</th>\n",
              "      <th>credit_amount</th>\n",
              "      <th>installment_commitment</th>\n",
              "      <th>residence_since</th>\n",
              "      <th>age</th>\n",
              "      <th>existing_credits</th>\n",
              "      <th>num_dependents</th>\n",
              "      <th>is_male</th>\n",
              "    </tr>\n",
              "  </thead>\n",
              "  <tbody>\n",
              "    <tr>\n",
              "      <th>0</th>\n",
              "      <td>6.0</td>\n",
              "      <td>1169.0</td>\n",
              "      <td>4.0</td>\n",
              "      <td>4.0</td>\n",
              "      <td>67.0</td>\n",
              "      <td>2.0</td>\n",
              "      <td>1.0</td>\n",
              "      <td>1</td>\n",
              "    </tr>\n",
              "    <tr>\n",
              "      <th>1</th>\n",
              "      <td>48.0</td>\n",
              "      <td>5951.0</td>\n",
              "      <td>2.0</td>\n",
              "      <td>2.0</td>\n",
              "      <td>22.0</td>\n",
              "      <td>1.0</td>\n",
              "      <td>1.0</td>\n",
              "      <td>0</td>\n",
              "    </tr>\n",
              "    <tr>\n",
              "      <th>2</th>\n",
              "      <td>12.0</td>\n",
              "      <td>2096.0</td>\n",
              "      <td>2.0</td>\n",
              "      <td>3.0</td>\n",
              "      <td>49.0</td>\n",
              "      <td>1.0</td>\n",
              "      <td>2.0</td>\n",
              "      <td>1</td>\n",
              "    </tr>\n",
              "    <tr>\n",
              "      <th>3</th>\n",
              "      <td>42.0</td>\n",
              "      <td>7882.0</td>\n",
              "      <td>2.0</td>\n",
              "      <td>4.0</td>\n",
              "      <td>45.0</td>\n",
              "      <td>1.0</td>\n",
              "      <td>2.0</td>\n",
              "      <td>1</td>\n",
              "    </tr>\n",
              "    <tr>\n",
              "      <th>4</th>\n",
              "      <td>24.0</td>\n",
              "      <td>4870.0</td>\n",
              "      <td>3.0</td>\n",
              "      <td>4.0</td>\n",
              "      <td>53.0</td>\n",
              "      <td>2.0</td>\n",
              "      <td>2.0</td>\n",
              "      <td>1</td>\n",
              "    </tr>\n",
              "  </tbody>\n",
              "</table>\n",
              "</div>\n",
              "    <div class=\"colab-df-buttons\">\n",
              "\n",
              "  <div class=\"colab-df-container\">\n",
              "    <button class=\"colab-df-convert\" onclick=\"convertToInteractive('df-cf419bee-b4fa-4cba-b7a3-0acad5026c3d')\"\n",
              "            title=\"Convert this dataframe to an interactive table.\"\n",
              "            style=\"display:none;\">\n",
              "\n",
              "  <svg xmlns=\"http://www.w3.org/2000/svg\" height=\"24px\" viewBox=\"0 -960 960 960\">\n",
              "    <path d=\"M120-120v-720h720v720H120Zm60-500h600v-160H180v160Zm220 220h160v-160H400v160Zm0 220h160v-160H400v160ZM180-400h160v-160H180v160Zm440 0h160v-160H620v160ZM180-180h160v-160H180v160Zm440 0h160v-160H620v160Z\"/>\n",
              "  </svg>\n",
              "    </button>\n",
              "\n",
              "  <style>\n",
              "    .colab-df-container {\n",
              "      display:flex;\n",
              "      gap: 12px;\n",
              "    }\n",
              "\n",
              "    .colab-df-convert {\n",
              "      background-color: #E8F0FE;\n",
              "      border: none;\n",
              "      border-radius: 50%;\n",
              "      cursor: pointer;\n",
              "      display: none;\n",
              "      fill: #1967D2;\n",
              "      height: 32px;\n",
              "      padding: 0 0 0 0;\n",
              "      width: 32px;\n",
              "    }\n",
              "\n",
              "    .colab-df-convert:hover {\n",
              "      background-color: #E2EBFA;\n",
              "      box-shadow: 0px 1px 2px rgba(60, 64, 67, 0.3), 0px 1px 3px 1px rgba(60, 64, 67, 0.15);\n",
              "      fill: #174EA6;\n",
              "    }\n",
              "\n",
              "    .colab-df-buttons div {\n",
              "      margin-bottom: 4px;\n",
              "    }\n",
              "\n",
              "    [theme=dark] .colab-df-convert {\n",
              "      background-color: #3B4455;\n",
              "      fill: #D2E3FC;\n",
              "    }\n",
              "\n",
              "    [theme=dark] .colab-df-convert:hover {\n",
              "      background-color: #434B5C;\n",
              "      box-shadow: 0px 1px 3px 1px rgba(0, 0, 0, 0.15);\n",
              "      filter: drop-shadow(0px 1px 2px rgba(0, 0, 0, 0.3));\n",
              "      fill: #FFFFFF;\n",
              "    }\n",
              "  </style>\n",
              "\n",
              "    <script>\n",
              "      const buttonEl =\n",
              "        document.querySelector('#df-cf419bee-b4fa-4cba-b7a3-0acad5026c3d button.colab-df-convert');\n",
              "      buttonEl.style.display =\n",
              "        google.colab.kernel.accessAllowed ? 'block' : 'none';\n",
              "\n",
              "      async function convertToInteractive(key) {\n",
              "        const element = document.querySelector('#df-cf419bee-b4fa-4cba-b7a3-0acad5026c3d');\n",
              "        const dataTable =\n",
              "          await google.colab.kernel.invokeFunction('convertToInteractive',\n",
              "                                                    [key], {});\n",
              "        if (!dataTable) return;\n",
              "\n",
              "        const docLinkHtml = 'Like what you see? Visit the ' +\n",
              "          '<a target=\"_blank\" href=https://colab.research.google.com/notebooks/data_table.ipynb>data table notebook</a>'\n",
              "          + ' to learn more about interactive tables.';\n",
              "        element.innerHTML = '';\n",
              "        dataTable['output_type'] = 'display_data';\n",
              "        await google.colab.output.renderOutput(dataTable, element);\n",
              "        const docLink = document.createElement('div');\n",
              "        docLink.innerHTML = docLinkHtml;\n",
              "        element.appendChild(docLink);\n",
              "      }\n",
              "    </script>\n",
              "  </div>\n",
              "\n",
              "\n",
              "<div id=\"df-a1df6c16-84db-403f-8ee4-c96fe3a215e1\">\n",
              "  <button class=\"colab-df-quickchart\" onclick=\"quickchart('df-a1df6c16-84db-403f-8ee4-c96fe3a215e1')\"\n",
              "            title=\"Suggest charts\"\n",
              "            style=\"display:none;\">\n",
              "\n",
              "<svg xmlns=\"http://www.w3.org/2000/svg\" height=\"24px\"viewBox=\"0 0 24 24\"\n",
              "     width=\"24px\">\n",
              "    <g>\n",
              "        <path d=\"M19 3H5c-1.1 0-2 .9-2 2v14c0 1.1.9 2 2 2h14c1.1 0 2-.9 2-2V5c0-1.1-.9-2-2-2zM9 17H7v-7h2v7zm4 0h-2V7h2v10zm4 0h-2v-4h2v4z\"/>\n",
              "    </g>\n",
              "</svg>\n",
              "  </button>\n",
              "\n",
              "<style>\n",
              "  .colab-df-quickchart {\n",
              "      --bg-color: #E8F0FE;\n",
              "      --fill-color: #1967D2;\n",
              "      --hover-bg-color: #E2EBFA;\n",
              "      --hover-fill-color: #174EA6;\n",
              "      --disabled-fill-color: #AAA;\n",
              "      --disabled-bg-color: #DDD;\n",
              "  }\n",
              "\n",
              "  [theme=dark] .colab-df-quickchart {\n",
              "      --bg-color: #3B4455;\n",
              "      --fill-color: #D2E3FC;\n",
              "      --hover-bg-color: #434B5C;\n",
              "      --hover-fill-color: #FFFFFF;\n",
              "      --disabled-bg-color: #3B4455;\n",
              "      --disabled-fill-color: #666;\n",
              "  }\n",
              "\n",
              "  .colab-df-quickchart {\n",
              "    background-color: var(--bg-color);\n",
              "    border: none;\n",
              "    border-radius: 50%;\n",
              "    cursor: pointer;\n",
              "    display: none;\n",
              "    fill: var(--fill-color);\n",
              "    height: 32px;\n",
              "    padding: 0;\n",
              "    width: 32px;\n",
              "  }\n",
              "\n",
              "  .colab-df-quickchart:hover {\n",
              "    background-color: var(--hover-bg-color);\n",
              "    box-shadow: 0 1px 2px rgba(60, 64, 67, 0.3), 0 1px 3px 1px rgba(60, 64, 67, 0.15);\n",
              "    fill: var(--button-hover-fill-color);\n",
              "  }\n",
              "\n",
              "  .colab-df-quickchart-complete:disabled,\n",
              "  .colab-df-quickchart-complete:disabled:hover {\n",
              "    background-color: var(--disabled-bg-color);\n",
              "    fill: var(--disabled-fill-color);\n",
              "    box-shadow: none;\n",
              "  }\n",
              "\n",
              "  .colab-df-spinner {\n",
              "    border: 2px solid var(--fill-color);\n",
              "    border-color: transparent;\n",
              "    border-bottom-color: var(--fill-color);\n",
              "    animation:\n",
              "      spin 1s steps(1) infinite;\n",
              "  }\n",
              "\n",
              "  @keyframes spin {\n",
              "    0% {\n",
              "      border-color: transparent;\n",
              "      border-bottom-color: var(--fill-color);\n",
              "      border-left-color: var(--fill-color);\n",
              "    }\n",
              "    20% {\n",
              "      border-color: transparent;\n",
              "      border-left-color: var(--fill-color);\n",
              "      border-top-color: var(--fill-color);\n",
              "    }\n",
              "    30% {\n",
              "      border-color: transparent;\n",
              "      border-left-color: var(--fill-color);\n",
              "      border-top-color: var(--fill-color);\n",
              "      border-right-color: var(--fill-color);\n",
              "    }\n",
              "    40% {\n",
              "      border-color: transparent;\n",
              "      border-right-color: var(--fill-color);\n",
              "      border-top-color: var(--fill-color);\n",
              "    }\n",
              "    60% {\n",
              "      border-color: transparent;\n",
              "      border-right-color: var(--fill-color);\n",
              "    }\n",
              "    80% {\n",
              "      border-color: transparent;\n",
              "      border-right-color: var(--fill-color);\n",
              "      border-bottom-color: var(--fill-color);\n",
              "    }\n",
              "    90% {\n",
              "      border-color: transparent;\n",
              "      border-bottom-color: var(--fill-color);\n",
              "    }\n",
              "  }\n",
              "</style>\n",
              "\n",
              "  <script>\n",
              "    async function quickchart(key) {\n",
              "      const quickchartButtonEl =\n",
              "        document.querySelector('#' + key + ' button');\n",
              "      quickchartButtonEl.disabled = true;  // To prevent multiple clicks.\n",
              "      quickchartButtonEl.classList.add('colab-df-spinner');\n",
              "      try {\n",
              "        const charts = await google.colab.kernel.invokeFunction(\n",
              "            'suggestCharts', [key], {});\n",
              "      } catch (error) {\n",
              "        console.error('Error during call to suggestCharts:', error);\n",
              "      }\n",
              "      quickchartButtonEl.classList.remove('colab-df-spinner');\n",
              "      quickchartButtonEl.classList.add('colab-df-quickchart-complete');\n",
              "    }\n",
              "    (() => {\n",
              "      let quickchartButtonEl =\n",
              "        document.querySelector('#df-a1df6c16-84db-403f-8ee4-c96fe3a215e1 button');\n",
              "      quickchartButtonEl.style.display =\n",
              "        google.colab.kernel.accessAllowed ? 'block' : 'none';\n",
              "    })();\n",
              "  </script>\n",
              "</div>\n",
              "    </div>\n",
              "  </div>\n"
            ],
            "application/vnd.google.colaboratory.intrinsic+json": {
              "type": "dataframe",
              "variable_name": "numeric_columns",
              "summary": "{\n  \"name\": \"numeric_columns\",\n  \"rows\": 1000,\n  \"fields\": [\n    {\n      \"column\": \"duration\",\n      \"properties\": {\n        \"dtype\": \"number\",\n        \"std\": 12.058814452756375,\n        \"min\": 4.0,\n        \"max\": 72.0,\n        \"num_unique_values\": 33,\n        \"samples\": [\n          72.0,\n          27.0,\n          22.0\n        ],\n        \"semantic_type\": \"\",\n        \"description\": \"\"\n      }\n    },\n    {\n      \"column\": \"credit_amount\",\n      \"properties\": {\n        \"dtype\": \"number\",\n        \"std\": 2822.7368759604406,\n        \"min\": 250.0,\n        \"max\": 18424.0,\n        \"num_unique_values\": 921,\n        \"samples\": [\n          1068.0,\n          2326.0,\n          683.0\n        ],\n        \"semantic_type\": \"\",\n        \"description\": \"\"\n      }\n    },\n    {\n      \"column\": \"installment_commitment\",\n      \"properties\": {\n        \"dtype\": \"number\",\n        \"std\": 1.1187146743126786,\n        \"min\": 1.0,\n        \"max\": 4.0,\n        \"num_unique_values\": 4,\n        \"samples\": [\n          2.0,\n          1.0,\n          4.0\n        ],\n        \"semantic_type\": \"\",\n        \"description\": \"\"\n      }\n    },\n    {\n      \"column\": \"residence_since\",\n      \"properties\": {\n        \"dtype\": \"number\",\n        \"std\": 1.1037178956568536,\n        \"min\": 1.0,\n        \"max\": 4.0,\n        \"num_unique_values\": 4,\n        \"samples\": [\n          2.0,\n          1.0,\n          4.0\n        ],\n        \"semantic_type\": \"\",\n        \"description\": \"\"\n      }\n    },\n    {\n      \"column\": \"age\",\n      \"properties\": {\n        \"dtype\": \"number\",\n        \"std\": 11.375468574317512,\n        \"min\": 19.0,\n        \"max\": 75.0,\n        \"num_unique_values\": 53,\n        \"samples\": [\n          34.0,\n          38.0,\n          55.0\n        ],\n        \"semantic_type\": \"\",\n        \"description\": \"\"\n      }\n    },\n    {\n      \"column\": \"existing_credits\",\n      \"properties\": {\n        \"dtype\": \"number\",\n        \"std\": 0.5776544682461002,\n        \"min\": 1.0,\n        \"max\": 4.0,\n        \"num_unique_values\": 4,\n        \"samples\": [\n          1.0,\n          4.0,\n          2.0\n        ],\n        \"semantic_type\": \"\",\n        \"description\": \"\"\n      }\n    },\n    {\n      \"column\": \"num_dependents\",\n      \"properties\": {\n        \"dtype\": \"number\",\n        \"std\": 0.36208577175319395,\n        \"min\": 1.0,\n        \"max\": 2.0,\n        \"num_unique_values\": 2,\n        \"samples\": [\n          2.0,\n          1.0\n        ],\n        \"semantic_type\": \"\",\n        \"description\": \"\"\n      }\n    },\n    {\n      \"column\": \"is_male\",\n      \"properties\": {\n        \"dtype\": \"number\",\n        \"std\": 0,\n        \"min\": 0,\n        \"max\": 1,\n        \"num_unique_values\": 2,\n        \"samples\": [\n          0,\n          1\n        ],\n        \"semantic_type\": \"\",\n        \"description\": \"\"\n      }\n    }\n  ]\n}"
            }
          },
          "metadata": {},
          "execution_count": 59
        }
      ]
    },
    {
      "cell_type": "code",
      "source": [
        "sns.heatmap(numeric_columns.corr(method='spearman'))"
      ],
      "metadata": {
        "colab": {
          "base_uri": "https://localhost:8080/",
          "height": 612
        },
        "id": "h-PkfGUDJ11c",
        "outputId": "75377c44-60ad-4b02-d517-e78a72cfe99f"
      },
      "execution_count": 60,
      "outputs": [
        {
          "output_type": "execute_result",
          "data": {
            "text/plain": [
              "<Axes: >"
            ]
          },
          "metadata": {},
          "execution_count": 60
        },
        {
          "output_type": "display_data",
          "data": {
            "text/plain": [
              "<Figure size 640x480 with 2 Axes>"
            ],
            "image/png": "[encoded data removed]"
          },
          "metadata": {}
        }
      ]
    },
    {
      "cell_type": "markdown",
      "source": [
        "По матрице корреляции для числовых признаков мы видим сильную прямую линейную зависимость между суммой кредита и продолжительностью, а также, мы видим давольно сильную обратную зависимость между комиссией за рассрочку платежа и размером кредита"
      ],
      "metadata": {
        "id": "4iiRVkW0LYYM"
      }
    },
    {
      "cell_type": "markdown",
      "source": [
        "# Создание признаков (Feature Engineering):\n",
        "\n",
        "- применение препроцессинга"
      ],
      "metadata": {
        "id": "7a5Oedoh7pm8"
      }
    },
    {
      "cell_type": "code",
      "source": [
        "import pandas as pd"
      ],
      "metadata": {
        "id": "u3rNH0QTNOMH"
      },
      "execution_count": 62,
      "outputs": []
    },
    {
      "cell_type": "code",
      "source": [
        "df_x_num = pd.get_dummies(df_x, drop_first=True)\n",
        "df_x_num.head()"
      ],
      "metadata": {
        "colab": {
          "base_uri": "https://localhost:8080/",
          "height": 255
        },
        "id": "_UmQFBdi74zu",
        "outputId": "9f4b6a75-d994-4bf7-8d3e-538d56e6df9d"
      },
      "execution_count": 70,
      "outputs": [
        {
          "output_type": "execute_result",
          "data": {
            "text/plain": [
              "   duration  credit_amount  installment_commitment  residence_since   age  \\\n",
              "0       6.0         1169.0                     4.0              4.0  67.0   \n",
              "1      48.0         5951.0                     2.0              2.0  22.0   \n",
              "2      12.0         2096.0                     2.0              3.0  49.0   \n",
              "3      42.0         7882.0                     2.0              4.0  45.0   \n",
              "4      24.0         4870.0                     3.0              4.0  53.0   \n",
              "\n",
              "   existing_credits  num_dependents  is_male  checking_status_0  \\\n",
              "0               2.0             1.0        1               True   \n",
              "1               1.0             1.0        0              False   \n",
              "2               1.0             2.0        1              False   \n",
              "3               1.0             2.0        1               True   \n",
              "4               2.0             2.0        1               True   \n",
              "\n",
              "   checking_status_3  ...  other_payment_plans_stores  housing_own  \\\n",
              "0              False  ...                       False         True   \n",
              "1              False  ...                       False         True   \n",
              "2              False  ...                       False         True   \n",
              "3              False  ...                       False        False   \n",
              "4              False  ...                       False        False   \n",
              "\n",
              "   housing_rent  own_telephone_1  foreign_worker_1  social_status_div/sep  \\\n",
              "0         False             True              True                  False   \n",
              "1         False            False              True                  False   \n",
              "2         False            False              True                  False   \n",
              "3         False            False              True                  False   \n",
              "4         False            False              True                  False   \n",
              "\n",
              "   social_status_mar/wid  social_status_single  work_0  skills_0  \n",
              "0                  False                  True    True     False  \n",
              "1                  False                 False    True     False  \n",
              "2                  False                  True    True      True  \n",
              "3                  False                  True    True     False  \n",
              "4                  False                  True    True     False  \n",
              "\n",
              "[5 rows x 44 columns]"
            ],
            "text/html": [
              "\n",
              "  <div id=\"df-71ac81d4-13ef-48e7-8474-6cdea06965de\" class=\"colab-df-container\">\n",
              "    <div>\n",
              "<style scoped>\n",
              "    .dataframe tbody tr th:only-of-type {\n",
              "        vertical-align: middle;\n",
              "    }\n",
              "\n",
              "    .dataframe tbody tr th {\n",
              "        vertical-align: top;\n",
              "    }\n",
              "\n",
              "    .dataframe thead th {\n",
              "        text-align: right;\n",
              "    }\n",
              "</style>\n",
              "<table border=\"1\" class=\"dataframe\">\n",
              "  <thead>\n",
              "    <tr style=\"text-align: right;\">\n",
              "      <th></th>\n",
              "      <th>duration</th>\n",
              "      <th>credit_amount</th>\n",
              "      <th>installment_commitment</th>\n",
              "      <th>residence_since</th>\n",
              "      <th>age</th>\n",
              "      <th>existing_credits</th>\n",
              "      <th>num_dependents</th>\n",
              "      <th>is_male</th>\n",
              "      <th>checking_status_0</th>\n",
              "      <th>checking_status_3</th>\n",
              "      <th>...</th>\n",
              "      <th>other_payment_plans_stores</th>\n",
              "      <th>housing_own</th>\n",
              "      <th>housing_rent</th>\n",
              "      <th>own_telephone_1</th>\n",
              "      <th>foreign_worker_1</th>\n",
              "      <th>social_status_div/sep</th>\n",
              "      <th>social_status_mar/wid</th>\n",
              "      <th>social_status_single</th>\n",
              "      <th>work_0</th>\n",
              "      <th>skills_0</th>\n",
              "    </tr>\n",
              "  </thead>\n",
              "  <tbody>\n",
              "    <tr>\n",
              "      <th>0</th>\n",
              "      <td>6.0</td>\n",
              "      <td>1169.0</td>\n",
              "      <td>4.0</td>\n",
              "      <td>4.0</td>\n",
              "      <td>67.0</td>\n",
              "      <td>2.0</td>\n",
              "      <td>1.0</td>\n",
              "      <td>1</td>\n",
              "      <td>True</td>\n",
              "      <td>False</td>\n",
              "      <td>...</td>\n",
              "      <td>False</td>\n",
              "      <td>True</td>\n",
              "      <td>False</td>\n",
              "      <td>True</td>\n",
              "      <td>True</td>\n",
              "      <td>False</td>\n",
              "      <td>False</td>\n",
              "      <td>True</td>\n",
              "      <td>True</td>\n",
              "      <td>False</td>\n",
              "    </tr>\n",
              "    <tr>\n",
              "      <th>1</th>\n",
              "      <td>48.0</td>\n",
              "      <td>5951.0</td>\n",
              "      <td>2.0</td>\n",
              "      <td>2.0</td>\n",
              "      <td>22.0</td>\n",
              "      <td>1.0</td>\n",
              "      <td>1.0</td>\n",
              "      <td>0</td>\n",
              "      <td>False</td>\n",
              "      <td>False</td>\n",
              "      <td>...</td>\n",
              "      <td>False</td>\n",
              "      <td>True</td>\n",
              "      <td>False</td>\n",
              "      <td>False</td>\n",
              "      <td>True</td>\n",
              "      <td>False</td>\n",
              "      <td>False</td>\n",
              "      <td>False</td>\n",
              "      <td>True</td>\n",
              "      <td>False</td>\n",
              "    </tr>\n",
              "    <tr>\n",
              "      <th>2</th>\n",
              "      <td>12.0</td>\n",
              "      <td>2096.0</td>\n",
              "      <td>2.0</td>\n",
              "      <td>3.0</td>\n",
              "      <td>49.0</td>\n",
              "      <td>1.0</td>\n",
              "      <td>2.0</td>\n",
              "      <td>1</td>\n",
              "      <td>False</td>\n",
              "      <td>False</td>\n",
              "      <td>...</td>\n",
              "      <td>False</td>\n",
              "      <td>True</td>\n",
              "      <td>False</td>\n",
              "      <td>False</td>\n",
              "      <td>True</td>\n",
              "      <td>False</td>\n",
              "      <td>False</td>\n",
              "      <td>True</td>\n",
              "      <td>True</td>\n",
              "      <td>True</td>\n",
              "    </tr>\n",
              "    <tr>\n",
              "      <th>3</th>\n",
              "      <td>42.0</td>\n",
              "      <td>7882.0</td>\n",
              "      <td>2.0</td>\n",
              "      <td>4.0</td>\n",
              "      <td>45.0</td>\n",
              "      <td>1.0</td>\n",
              "      <td>2.0</td>\n",
              "      <td>1</td>\n",
              "      <td>True</td>\n",
              "      <td>False</td>\n",
              "      <td>...</td>\n",
              "      <td>False</td>\n",
              "      <td>False</td>\n",
              "      <td>False</td>\n",
              "      <td>False</td>\n",
              "      <td>True</td>\n",
              "      <td>False</td>\n",
              "      <td>False</td>\n",
              "      <td>True</td>\n",
              "      <td>True</td>\n",
              "      <td>False</td>\n",
              "    </tr>\n",
              "    <tr>\n",
              "      <th>4</th>\n",
              "      <td>24.0</td>\n",
              "      <td>4870.0</td>\n",
              "      <td>3.0</td>\n",
              "      <td>4.0</td>\n",
              "      <td>53.0</td>\n",
              "      <td>2.0</td>\n",
              "      <td>2.0</td>\n",
              "      <td>1</td>\n",
              "      <td>True</td>\n",
              "      <td>False</td>\n",
              "      <td>...</td>\n",
              "      <td>False</td>\n",
              "      <td>False</td>\n",
              "      <td>False</td>\n",
              "      <td>False</td>\n",
              "      <td>True</td>\n",
              "      <td>False</td>\n",
              "      <td>False</td>\n",
              "      <td>True</td>\n",
              "      <td>True</td>\n",
              "      <td>False</td>\n",
              "    </tr>\n",
              "  </tbody>\n",
              "</table>\n",
              "<p>5 rows × 44 columns</p>\n",
              "</div>\n",
              "    <div class=\"colab-df-buttons\">\n",
              "\n",
              "  <div class=\"colab-df-container\">\n",
              "    <button class=\"colab-df-convert\" onclick=\"convertToInteractive('df-71ac81d4-13ef-48e7-8474-6cdea06965de')\"\n",
              "            title=\"Convert this dataframe to an interactive table.\"\n",
              "            style=\"display:none;\">\n",
              "\n",
              "  <svg xmlns=\"http://www.w3.org/2000/svg\" height=\"24px\" viewBox=\"0 -960 960 960\">\n",
              "    <path d=\"M120-120v-720h720v720H120Zm60-500h600v-160H180v160Zm220 220h160v-160H400v160Zm0 220h160v-160H400v160ZM180-400h160v-160H180v160Zm440 0h160v-160H620v160ZM180-180h160v-160H180v160Zm440 0h160v-160H620v160Z\"/>\n",
              "  </svg>\n",
              "    </button>\n",
              "\n",
              "  <style>\n",
              "    .colab-df-container {\n",
              "      display:flex;\n",
              "      gap: 12px;\n",
              "    }\n",
              "\n",
              "    .colab-df-convert {\n",
              "      background-color: #E8F0FE;\n",
              "      border: none;\n",
              "      border-radius: 50%;\n",
              "      cursor: pointer;\n",
              "      display: none;\n",
              "      fill: #1967D2;\n",
              "      height: 32px;\n",
              "      padding: 0 0 0 0;\n",
              "      width: 32px;\n",
              "    }\n",
              "\n",
              "    .colab-df-convert:hover {\n",
              "      background-color: #E2EBFA;\n",
              "      box-shadow: 0px 1px 2px rgba(60, 64, 67, 0.3), 0px 1px 3px 1px rgba(60, 64, 67, 0.15);\n",
              "      fill: #174EA6;\n",
              "    }\n",
              "\n",
              "    .colab-df-buttons div {\n",
              "      margin-bottom: 4px;\n",
              "    }\n",
              "\n",
              "    [theme=dark] .colab-df-convert {\n",
              "      background-color: #3B4455;\n",
              "      fill: #D2E3FC;\n",
              "    }\n",
              "\n",
              "    [theme=dark] .colab-df-convert:hover {\n",
              "      background-color: #434B5C;\n",
              "      box-shadow: 0px 1px 3px 1px rgba(0, 0, 0, 0.15);\n",
              "      filter: drop-shadow(0px 1px 2px rgba(0, 0, 0, 0.3));\n",
              "      fill: #FFFFFF;\n",
              "    }\n",
              "  </style>\n",
              "\n",
              "    <script>\n",
              "      const buttonEl =\n",
              "        document.querySelector('#df-71ac81d4-13ef-48e7-8474-6cdea06965de button.colab-df-convert');\n",
              "      buttonEl.style.display =\n",
              "        google.colab.kernel.accessAllowed ? 'block' : 'none';\n",
              "\n",
              "      async function convertToInteractive(key) {\n",
              "        const element = document.querySelector('#df-71ac81d4-13ef-48e7-8474-6cdea06965de');\n",
              "        const dataTable =\n",
              "          await google.colab.kernel.invokeFunction('convertToInteractive',\n",
              "                                                    [key], {});\n",
              "        if (!dataTable) return;\n",
              "\n",
              "        const docLinkHtml = 'Like what you see? Visit the ' +\n",
              "          '<a target=\"_blank\" href=https://colab.research.google.com/notebooks/data_table.ipynb>data table notebook</a>'\n",
              "          + ' to learn more about interactive tables.';\n",
              "        element.innerHTML = '';\n",
              "        dataTable['output_type'] = 'display_data';\n",
              "        await google.colab.output.renderOutput(dataTable, element);\n",
              "        const docLink = document.createElement('div');\n",
              "        docLink.innerHTML = docLinkHtml;\n",
              "        element.appendChild(docLink);\n",
              "      }\n",
              "    </script>\n",
              "  </div>\n",
              "\n",
              "\n",
              "<div id=\"df-e832d2b5-54d9-4d1f-bba5-bc2ad90ff95e\">\n",
              "  <button class=\"colab-df-quickchart\" onclick=\"quickchart('df-e832d2b5-54d9-4d1f-bba5-bc2ad90ff95e')\"\n",
              "            title=\"Suggest charts\"\n",
              "            style=\"display:none;\">\n",
              "\n",
              "<svg xmlns=\"http://www.w3.org/2000/svg\" height=\"24px\"viewBox=\"0 0 24 24\"\n",
              "     width=\"24px\">\n",
              "    <g>\n",
              "        <path d=\"M19 3H5c-1.1 0-2 .9-2 2v14c0 1.1.9 2 2 2h14c1.1 0 2-.9 2-2V5c0-1.1-.9-2-2-2zM9 17H7v-7h2v7zm4 0h-2V7h2v10zm4 0h-2v-4h2v4z\"/>\n",
              "    </g>\n",
              "</svg>\n",
              "  </button>\n",
              "\n",
              "<style>\n",
              "  .colab-df-quickchart {\n",
              "      --bg-color: #E8F0FE;\n",
              "      --fill-color: #1967D2;\n",
              "      --hover-bg-color: #E2EBFA;\n",
              "      --hover-fill-color: #174EA6;\n",
              "      --disabled-fill-color: #AAA;\n",
              "      --disabled-bg-color: #DDD;\n",
              "  }\n",
              "\n",
              "  [theme=dark] .colab-df-quickchart {\n",
              "      --bg-color: #3B4455;\n",
              "      --fill-color: #D2E3FC;\n",
              "      --hover-bg-color: #434B5C;\n",
              "      --hover-fill-color: #FFFFFF;\n",
              "      --disabled-bg-color: #3B4455;\n",
              "      --disabled-fill-color: #666;\n",
              "  }\n",
              "\n",
              "  .colab-df-quickchart {\n",
              "    background-color: var(--bg-color);\n",
              "    border: none;\n",
              "    border-radius: 50%;\n",
              "    cursor: pointer;\n",
              "    display: none;\n",
              "    fill: var(--fill-color);\n",
              "    height: 32px;\n",
              "    padding: 0;\n",
              "    width: 32px;\n",
              "  }\n",
              "\n",
              "  .colab-df-quickchart:hover {\n",
              "    background-color: var(--hover-bg-color);\n",
              "    box-shadow: 0 1px 2px rgba(60, 64, 67, 0.3), 0 1px 3px 1px rgba(60, 64, 67, 0.15);\n",
              "    fill: var(--button-hover-fill-color);\n",
              "  }\n",
              "\n",
              "  .colab-df-quickchart-complete:disabled,\n",
              "  .colab-df-quickchart-complete:disabled:hover {\n",
              "    background-color: var(--disabled-bg-color);\n",
              "    fill: var(--disabled-fill-color);\n",
              "    box-shadow: none;\n",
              "  }\n",
              "\n",
              "  .colab-df-spinner {\n",
              "    border: 2px solid var(--fill-color);\n",
              "    border-color: transparent;\n",
              "    border-bottom-color: var(--fill-color);\n",
              "    animation:\n",
              "      spin 1s steps(1) infinite;\n",
              "  }\n",
              "\n",
              "  @keyframes spin {\n",
              "    0% {\n",
              "      border-color: transparent;\n",
              "      border-bottom-color: var(--fill-color);\n",
              "      border-left-color: var(--fill-color);\n",
              "    }\n",
              "    20% {\n",
              "      border-color: transparent;\n",
              "      border-left-color: var(--fill-color);\n",
              "      border-top-color: var(--fill-color);\n",
              "    }\n",
              "    30% {\n",
              "      border-color: transparent;\n",
              "      border-left-color: var(--fill-color);\n",
              "      border-top-color: var(--fill-color);\n",
              "      border-right-color: var(--fill-color);\n",
              "    }\n",
              "    40% {\n",
              "      border-color: transparent;\n",
              "      border-right-color: var(--fill-color);\n",
              "      border-top-color: var(--fill-color);\n",
              "    }\n",
              "    60% {\n",
              "      border-color: transparent;\n",
              "      border-right-color: var(--fill-color);\n",
              "    }\n",
              "    80% {\n",
              "      border-color: transparent;\n",
              "      border-right-color: var(--fill-color);\n",
              "      border-bottom-color: var(--fill-color);\n",
              "    }\n",
              "    90% {\n",
              "      border-color: transparent;\n",
              "      border-bottom-color: var(--fill-color);\n",
              "    }\n",
              "  }\n",
              "</style>\n",
              "\n",
              "  <script>\n",
              "    async function quickchart(key) {\n",
              "      const quickchartButtonEl =\n",
              "        document.querySelector('#' + key + ' button');\n",
              "      quickchartButtonEl.disabled = true;  // To prevent multiple clicks.\n",
              "      quickchartButtonEl.classList.add('colab-df-spinner');\n",
              "      try {\n",
              "        const charts = await google.colab.kernel.invokeFunction(\n",
              "            'suggestCharts', [key], {});\n",
              "      } catch (error) {\n",
              "        console.error('Error during call to suggestCharts:', error);\n",
              "      }\n",
              "      quickchartButtonEl.classList.remove('colab-df-spinner');\n",
              "      quickchartButtonEl.classList.add('colab-df-quickchart-complete');\n",
              "    }\n",
              "    (() => {\n",
              "      let quickchartButtonEl =\n",
              "        document.querySelector('#df-e832d2b5-54d9-4d1f-bba5-bc2ad90ff95e button');\n",
              "      quickchartButtonEl.style.display =\n",
              "        google.colab.kernel.accessAllowed ? 'block' : 'none';\n",
              "    })();\n",
              "  </script>\n",
              "</div>\n",
              "    </div>\n",
              "  </div>\n"
            ],
            "application/vnd.google.colaboratory.intrinsic+json": {
              "type": "dataframe",
              "variable_name": "df_x_num"
            }
          },
          "metadata": {},
          "execution_count": 70
        }
      ]
    },
    {
      "cell_type": "markdown",
      "source": [
        "Так как в нашем датасете всё ещё были категориальные признаки, то мы преобразовали их к числовым при помощи get_dummies"
      ],
      "metadata": {
        "id": "ztH9hARXM3g2"
      }
    },
    {
      "cell_type": "markdown",
      "source": [
        "# Отбор признаков (Feature selection):\n",
        "\n",
        "- Выбор признаков необходимых для обучения модели и удаление малозначимых\n",
        "\n",
        "В данном случае все признаки важны для обучения модели. Поэтому на данном этапе оставим их все в датасете"
      ],
      "metadata": {
        "id": "23C8rayd75x6"
      }
    },
    {
      "cell_type": "markdown",
      "source": [
        "# Подготовка данных (Data Preparation):\n",
        "- Разделение данных на обучающую и тестовую выборки\n",
        "- Масштабирование данных (например, Min-Max Scaling)\n",
        "- Подготовка данных для моделирования (преобразование в формат, подходящий для модели)"
      ],
      "metadata": {
        "id": "QFNP86LO8h28"
      }
    },
    {
      "cell_type": "code",
      "source": [
        "from sklearn.model_selection import train_test_split\n",
        "X_train, X_test, y_train, y_test = train_test_split(\n",
        "    df_x_num, df_target, test_size=0.33, random_state=42)"
      ],
      "metadata": {
        "id": "iSQjVlbG8skD"
      },
      "execution_count": 72,
      "outputs": []
    },
    {
      "cell_type": "code",
      "source": [
        "X_train_ = X_train\n",
        "X_test_ = X_test\n"
      ],
      "metadata": {
        "id": "_7z6yiKuO_hN"
      },
      "execution_count": 80,
      "outputs": []
    },
    {
      "cell_type": "code",
      "source": [
        "from sklearn.preprocessing import MinMaxScaler\n",
        "scaler = MinMaxScaler()\n",
        "scaler.fit(X_train_)\n",
        "scaler.transform(X_train_)\n",
        "scaler.transform(X_test_)\n",
        "print(\"\")"
      ],
      "metadata": {
        "colab": {
          "base_uri": "https://localhost:8080/"
        },
        "id": "LsuaFWsuOFi1",
        "outputId": "6e8e9202-7a54-445a-dbca-802c70c82cc9"
      },
      "execution_count": 81,
      "outputs": [
        {
          "output_type": "stream",
          "name": "stdout",
          "text": [
            "\n"
          ]
        }
      ]
    },
    {
      "cell_type": "markdown",
      "source": [
        "# 3.\tВыберите несколько метрик для оценки моделей машинного обучения. Обоснуйте свой выбор и дайте интерпретацию метрик для бизнес-задачи."
      ],
      "metadata": {
        "id": "Aw3vxX27P1cz"
      }
    },
    {
      "cell_type": "markdown",
      "source": [
        "Для оценки моделей машинного обучения в задаче кредитного скоринга, где целью является определение подходит ли человек для выдачи кредита, следует выбрать следующие метрики:\n",
        "\n",
        "\n",
        "* Accuracy (Точность): Эта метрика показывает долю правильно классифицированных случаев из общего числа случаев. В контексте кредитного скоринга, высокая точность означает, что модель правильно определяет, кому можно выдать кредит, и кому нет.\n",
        "* Precision (Точность): Precision измеряет долю истинно положительных результатов среди всех положительных предсказаний модели. В случае кредитного скоринга, высокая precision означает, что модель правильно идентифицирует тех, кому можно безопасно выдать кредит.\n",
        "* Recall (Полнота): Recall показывает долю истинно положительных результатов среди всех реальных положительных случаев. В контексте кредитного скоринга, высокая полнота означает, что модель не упускает потенциально хороших заемщиков, которым можно выдать кредит.\n",
        "* ROC AUC: Площадь под ROC-кривой (ROC AUC) является метрикой, оценивающей качество бинарной классификации. Она позволяет оценить способность модели различать между классами. В задаче кредитного скоринга, высокое значение ROC AUC указывает на хорошую способность модели разделять хороших и плохих заемщиков.\n",
        "\n",
        "\n",
        "Выбор этих метрик обоснован тем, что они позволяют оценить как общее качество модели, так и ее способность правильно классифицировать положительные и отрицательные случаи, что критически важно для бизнес-задачи кредитного скоринга."
      ],
      "metadata": {
        "id": "Ulx6rhPFQVmT"
      }
    },
    {
      "cell_type": "code",
      "source": [],
      "metadata": {
        "id": "ZhFYFTJyQVQ8"
      },
      "execution_count": null,
      "outputs": []
    },
    {
      "cell_type": "markdown",
      "source": [
        "# 4.\tПостройте 4 модели машинного обучения для решение поставленной задачи."
      ],
      "metadata": {
        "id": "HiM4H8bZQftm"
      }
    },
    {
      "cell_type": "code",
      "source": [
        "from sklearn.linear_model import LogisticRegression\n",
        "model_lr = LogisticRegression()\n",
        "model_lr.fit(X_train, y_train)"
      ],
      "metadata": {
        "colab": {
          "base_uri": "https://localhost:8080/",
          "height": 74
        },
        "id": "ymPrMGhKQC5B",
        "outputId": "ade94708-6f39-4f16-ad8f-916adea47179"
      },
      "execution_count": 83,
      "outputs": [
        {
          "output_type": "execute_result",
          "data": {
            "text/plain": [
              "LogisticRegression()"
            ],
            "text/html": [
              "<style>#sk-container-id-1 {color: black;background-color: white;}#sk-container-id-1 pre{padding: 0;}#sk-container-id-1 div.sk-toggleable {background-color: white;}#sk-container-id-1 label.sk-toggleable__label {cursor: pointer;display: block;width: 100%;margin-bottom: 0;padding: 0.3em;box-sizing: border-box;text-align: center;}#sk-container-id-1 label.sk-toggleable__label-arrow:before {content: \"▸\";float: left;margin-right: 0.25em;color: #696969;}#sk-container-id-1 label.sk-toggleable__label-arrow:hover:before {color: black;}#sk-container-id-1 div.sk-estimator:hover label.sk-toggleable__label-arrow:before {color: black;}#sk-container-id-1 div.sk-toggleable__content {max-height: 0;max-width: 0;overflow: hidden;text-align: left;background-color: #f0f8ff;}#sk-container-id-1 div.sk-toggleable__content pre {margin: 0.2em;color: black;border-radius: 0.25em;background-color: #f0f8ff;}#sk-container-id-1 input.sk-toggleable__control:checked~div.sk-toggleable__content {max-height: 200px;max-width: 100%;overflow: auto;}#sk-container-id-1 input.sk-toggleable__control:checked~label.sk-toggleable__label-arrow:before {content: \"▾\";}#sk-container-id-1 div.sk-estimator input.sk-toggleable__control:checked~label.sk-toggleable__label {background-color: #d4ebff;}#sk-container-id-1 div.sk-label input.sk-toggleable__control:checked~label.sk-toggleable__label {background-color: #d4ebff;}#sk-container-id-1 input.sk-hidden--visually {border: 0;clip: rect(1px 1px 1px 1px);clip: rect(1px, 1px, 1px, 1px);height: 1px;margin: -1px;overflow: hidden;padding: 0;position: absolute;width: 1px;}#sk-container-id-1 div.sk-estimator {font-family: monospace;background-color: #f0f8ff;border: 1px dotted black;border-radius: 0.25em;box-sizing: border-box;margin-bottom: 0.5em;}#sk-container-id-1 div.sk-estimator:hover {background-color: #d4ebff;}#sk-container-id-1 div.sk-parallel-item::after {content: \"\";width: 100%;border-bottom: 1px solid gray;flex-grow: 1;}#sk-container-id-1 div.sk-label:hover label.sk-toggleable__label {background-color: #d4ebff;}#sk-container-id-1 div.sk-serial::before {content: \"\";position: absolute;border-left: 1px solid gray;box-sizing: border-box;top: 0;bottom: 0;left: 50%;z-index: 0;}#sk-container-id-1 div.sk-serial {display: flex;flex-direction: column;align-items: center;background-color: white;padding-right: 0.2em;padding-left: 0.2em;position: relative;}#sk-container-id-1 div.sk-item {position: relative;z-index: 1;}#sk-container-id-1 div.sk-parallel {display: flex;align-items: stretch;justify-content: center;background-color: white;position: relative;}#sk-container-id-1 div.sk-item::before, #sk-container-id-1 div.sk-parallel-item::before {content: \"\";position: absolute;border-left: 1px solid gray;box-sizing: border-box;top: 0;bottom: 0;left: 50%;z-index: -1;}#sk-container-id-1 div.sk-parallel-item {display: flex;flex-direction: column;z-index: 1;position: relative;background-color: white;}#sk-container-id-1 div.sk-parallel-item:first-child::after {align-self: flex-end;width: 50%;}#sk-container-id-1 div.sk-parallel-item:last-child::after {align-self: flex-start;width: 50%;}#sk-container-id-1 div.sk-parallel-item:only-child::after {width: 0;}#sk-container-id-1 div.sk-dashed-wrapped {border: 1px dashed gray;margin: 0 0.4em 0.5em 0.4em;box-sizing: border-box;padding-bottom: 0.4em;background-color: white;}#sk-container-id-1 div.sk-label label {font-family: monospace;font-weight: bold;display: inline-block;line-height: 1.2em;}#sk-container-id-1 div.sk-label-container {text-align: center;}#sk-container-id-1 div.sk-container {/* jupyter's `normalize.less` sets `[hidden] { display: none; }` but bootstrap.min.css set `[hidden] { display: none !important; }` so we also need the `!important` here to be able to override the default hidden behavior on the sphinx rendered scikit-learn.org. See: https://github.com/scikit-learn/scikit-learn/issues/21755 */display: inline-block !important;position: relative;}#sk-container-id-1 div.sk-text-repr-fallback {display: none;}</style><div id=\"sk-container-id-1\" class=\"sk-top-container\"><div class=\"sk-text-repr-fallback\"><pre>LogisticRegression()</pre><b>In a Jupyter environment, please rerun this cell to show the HTML representation or trust the notebook. <br />On GitHub, the HTML representation is unable to render, please try loading this page with nbviewer.org.</b></div><div class=\"sk-container\" hidden><div class=\"sk-item\"><div class=\"sk-estimator sk-toggleable\"><input class=\"sk-toggleable__control sk-hidden--visually\" id=\"sk-estimator-id-1\" type=\"checkbox\" checked><label for=\"sk-estimator-id-1\" class=\"sk-toggleable__label sk-toggleable__label-arrow\">LogisticRegression</label><div class=\"sk-toggleable__content\"><pre>LogisticRegression()</pre></div></div></div></div></div>"
            ]
          },
          "metadata": {},
          "execution_count": 83
        }
      ]
    },
    {
      "cell_type": "code",
      "source": [
        "from sklearn.metrics import accuracy_score, precision_score, recall_score, roc_auc_score\n",
        "\n",
        "y_pred_lr = model_lr.predict(X_test)\n",
        "accuracy_lr = accuracy_score(y_test, y_pred_lr)\n",
        "precision_lr = precision_score(y_test, y_pred_lr)\n",
        "recall_lr = recall_score(y_test, y_pred_lr)\n",
        "roc_auc_lr = roc_auc_score(y_test, y_pred_lr)\n",
        "print(\"accuracy_lr = \", accuracy_lr)\n",
        "print(\"precision_lr = \", precision_lr)\n",
        "print(\"recall_lr = \", recall_lr)\n",
        "print(\"roc_auc_lr = \", roc_auc_lr)"
      ],
      "metadata": {
        "colab": {
          "base_uri": "https://localhost:8080/"
        },
        "id": "DRQEahdGRFjh",
        "outputId": "01a7b8ed-3efd-4afa-8696-827ffc0cd866"
      },
      "execution_count": 84,
      "outputs": [
        {
          "output_type": "stream",
          "name": "stdout",
          "text": [
            "accuracy_lr =  0.7363636363636363\n",
            "precision_lr =  0.7751937984496124\n",
            "recall_lr =  0.8733624454148472\n",
            "roc_auc_lr =  0.6495525098361365\n"
          ]
        }
      ]
    },
    {
      "cell_type": "code",
      "source": [
        "from sklearn.tree import DecisionTreeClassifier\n",
        "model_dt = DecisionTreeClassifier()\n",
        "model_dt.fit(X_train, y_train)\n",
        "\n",
        "y_pred_dt = model_dt.predict(X_test)\n",
        "accuracy_dt = accuracy_score(y_test, y_pred_dt)\n",
        "precision_dt = precision_score(y_test, y_pred_dt)\n",
        "recall_dt = recall_score(y_test, y_pred_dt)\n",
        "roc_auc_dt = roc_auc_score(y_test, y_pred_dt)\n",
        "\n",
        "print(\"accuracy_dt = \", accuracy_dt)\n",
        "print(\"precision_dt = \", precision_dt)\n",
        "print(\"recall_dt = \", recall_dt)\n",
        "print(\"roc_auc_dt = \", roc_auc_dt)"
      ],
      "metadata": {
        "colab": {
          "base_uri": "https://localhost:8080/"
        },
        "id": "Wyv_sQLjQv0l",
        "outputId": "50fa3965-a4a1-4479-d419-d1f3783e93e2"
      },
      "execution_count": 85,
      "outputs": [
        {
          "output_type": "stream",
          "name": "stdout",
          "text": [
            "accuracy_dt =  0.6666666666666666\n",
            "precision_dt =  0.7489539748953975\n",
            "recall_dt =  0.7816593886462883\n",
            "roc_auc_dt =  0.5937999913528471\n"
          ]
        }
      ]
    },
    {
      "cell_type": "code",
      "source": [
        "from sklearn.ensemble import RandomForestClassifier\n",
        "model_rf = RandomForestClassifier()\n",
        "model_rf.fit(X_train, y_train)\n",
        "\n",
        "y_pred_rf = model_rf.predict(X_test)\n",
        "accuracy_rf = accuracy_score(y_test, y_pred_rf)\n",
        "precision_rf = precision_score(y_test, y_pred_rf)\n",
        "recall_rf = recall_score(y_test, y_pred_rf)\n",
        "roc_auc_rf = roc_auc_score(y_test, y_pred_rf)\n",
        "\n",
        "print(\"accuracy_rf = \", accuracy_rf)\n",
        "print(\"precision_rf = \", precision_rf)\n",
        "print(\"recall_rf = \", recall_rf)\n",
        "print(\"roc_auc_rf = \", roc_auc_rf)"
      ],
      "metadata": {
        "colab": {
          "base_uri": "https://localhost:8080/"
        },
        "id": "SiDCWNwNQyLM",
        "outputId": "08d2763f-0a9f-45d4-f740-00593235d503"
      },
      "execution_count": 96,
      "outputs": [
        {
          "output_type": "stream",
          "name": "stdout",
          "text": [
            "accuracy_rf =  0.7696969696969697\n",
            "precision_rf =  0.7822878228782287\n",
            "recall_rf =  0.925764192139738\n",
            "roc_auc_rf =  0.670802888149077\n"
          ]
        }
      ]
    },
    {
      "cell_type": "code",
      "source": [
        "from sklearn.ensemble import GradientBoostingClassifier\n",
        "model_gb = GradientBoostingClassifier()\n",
        "model_gb.fit(X_train, y_train)\n",
        "\n",
        "y_pred_gb = model_gb.predict(X_test)\n",
        "accuracy_gb = accuracy_score(y_test, y_pred_gb)\n",
        "precision_gb = precision_score(y_test, y_pred_gb)\n",
        "recall_gb = recall_score(y_test, y_pred_gb)\n",
        "roc_auc_gb = roc_auc_score(y_test, y_pred_gb)\n",
        "\n",
        "print(\"accuracy_gb = \", accuracy_gb)\n",
        "print(\"precision_gb = \", precision_gb)\n",
        "print(\"recall_gb = \", recall_gb)\n",
        "print(\"roc_auc_gb = \", roc_auc_gb)"
      ],
      "metadata": {
        "colab": {
          "base_uri": "https://localhost:8080/"
        },
        "id": "qJR-G4AvQ0rs",
        "outputId": "50d9d237-3350-45e6-9011-8349cca2b9b9"
      },
      "execution_count": 88,
      "outputs": [
        {
          "output_type": "stream",
          "name": "stdout",
          "text": [
            "accuracy_gb =  0.7666666666666667\n",
            "precision_gb =  0.7814814814814814\n",
            "recall_gb =  0.9213973799126638\n",
            "roc_auc_gb =  0.6686194820355398\n"
          ]
        }
      ]
    },
    {
      "cell_type": "code",
      "source": [
        "metrics = {\n",
        "    'Model': ['Logistic Regression', 'Decision Tree', 'Random Forest', 'Gradient Boosting'],\n",
        "    'Accuracy': [accuracy_lr, accuracy_dt, accuracy_rf, accuracy_gb],\n",
        "    'Precision': [precision_lr, precision_dt, precision_rf, precision_gb],\n",
        "    'Recall': [recall_lr, recall_dt, recall_rf, recall_gb],\n",
        "    'ROC AUC': [roc_auc_lr, roc_auc_dt, roc_auc_rf, roc_auc_gb]\n",
        "}\n",
        "\n",
        "metrics_df = pd.DataFrame(metrics)\n",
        "\n",
        "print(metrics_df)"
      ],
      "metadata": {
        "colab": {
          "base_uri": "https://localhost:8080/"
        },
        "id": "SVTQaAUoSlEL",
        "outputId": "9495196b-74a5-4eaa-ff91-e3a8ceb2dc8b"
      },
      "execution_count": 89,
      "outputs": [
        {
          "output_type": "stream",
          "name": "stdout",
          "text": [
            "                 Model  Accuracy  Precision    Recall   ROC AUC\n",
            "0  Logistic Regression  0.736364   0.775194  0.873362  0.649553\n",
            "1        Decision Tree  0.666667   0.748954  0.781659  0.593800\n",
            "2        Random Forest  0.769697   0.778182  0.934498  0.665269\n",
            "3    Gradient Boosting  0.766667   0.781481  0.921397  0.668619\n"
          ]
        }
      ]
    },
    {
      "cell_type": "markdown",
      "source": [
        "Исходя из предоставленных метрик, лучшей моделью для задачи кредитного скоринга является модель Random Forest. Вот почему:\n",
        "* Accuracy (Точность): Модель Random Forest имеет самую высокую точность (0.7697), что означает, что она делает наибольшее количество правильных прогнозов по сравнению с другими моделями.\n",
        "* Precision (Точность): Random Forest также показывает хороший показатель precision (0.7782), что означает, что она способна правильно классифицировать заемщиков, которым можно безопасно выдать кредит.\n",
        "* Recall (Полнота): Модель Random Forest имеет высокий показатель recall (0.9345), что говорит о том, что она хорошо идентифицирует потенциально хороших заемщиков, которым можно выдать кредит.\n",
        "* ROC AUC: Хотя ROC AUC для всех моделей находится на среднем уровне, у Random Forest он все равно выше (0.6653), что указывает на хорошую способность модели различать между классами.\n",
        "\n",
        "Исходя из этих метрик, модель Random Forest демонстрирует более высокую общую производительность по сравнению с другими моделями, что делает ее лучшим выбором для задачи кредитного скоринга."
      ],
      "metadata": {
        "id": "YqTRN4YkTd1E"
      }
    },
    {
      "cell_type": "markdown",
      "source": [
        "# 5.\tПроведите диагностику лучшей модели из пункта 4."
      ],
      "metadata": {
        "id": "4hRlwhz7VCGc"
      }
    },
    {
      "cell_type": "code",
      "source": [
        "import matplotlib.pyplot as plt\n",
        "from sklearn.metrics import roc_curve, auc\n",
        "\n",
        "y_pred_prob = model_rf.predict_proba(X_test)[:, 1]\n",
        "\n",
        "fpr, tpr, thresholds = roc_curve(y_test, y_pred_prob)\n",
        "\n",
        "roc_auc = auc(fpr, tpr)\n",
        "\n",
        "plt.figure(figsize=(8, 6))\n",
        "plt.plot(fpr, tpr, color='darkorange', lw=2, label='ROC curve (AUC = %0.2f)' % roc_auc)\n",
        "plt.plot([0, 1], [0, 1], color='navy', lw=2, linestyle='--')\n",
        "plt.xlim([0.0, 1.0])\n",
        "plt.ylim([0.0, 1.05])\n",
        "plt.xlabel('False Positive Rate')\n",
        "plt.ylabel('True Positive Rate')\n",
        "plt.title('Receiver Operating Characteristic (ROC) Curve')\n",
        "plt.legend(loc=\"lower right\")\n",
        "plt.show()"
      ],
      "metadata": {
        "colab": {
          "base_uri": "https://localhost:8080/",
          "height": 564
        },
        "id": "PX9NTjqeS3Ci",
        "outputId": "ee9860b3-7cf6-4a52-cd09-6d3aaa15c2a7"
      },
      "execution_count": 90,
      "outputs": [
        {
          "output_type": "display_data",
          "data": {
            "text/plain": [
              "<Figure size 800x600 with 1 Axes>"
            ],
            "image/png": "[encoded data removed]"
          },
          "metadata": {}
        }
      ]
    },
    {
      "cell_type": "code",
      "source": [
        "import matplotlib.pyplot as plt\n",
        "import seaborn as sns\n",
        "from sklearn.metrics import confusion_matrix\n",
        "\n",
        "y_pred = model_rf.predict(X_test)\n",
        "\n",
        "cm = confusion_matrix(y_test, y_pred)\n",
        "\n",
        "plt.figure(figsize=(8, 6))\n",
        "sns.heatmap(cm, annot=True, cmap='Blues', fmt='g')\n",
        "plt.title('Confusion Matrix')\n",
        "plt.xlabel('Predicted')\n",
        "plt.ylabel('Actual')\n",
        "plt.show()"
      ],
      "metadata": {
        "colab": {
          "base_uri": "https://localhost:8080/",
          "height": 564
        },
        "id": "QrQUJ2ZmfwAX",
        "outputId": "da3d3dbf-7c1b-4557-d007-4819557e75ac"
      },
      "execution_count": 97,
      "outputs": [
        {
          "output_type": "display_data",
          "data": {
            "text/plain": [
              "<Figure size 800x600 with 2 Axes>"
            ],
            "image/png": "[encoded data removed]"
          },
          "metadata": {}
        }
      ]
    },
    {
      "cell_type": "markdown",
      "source": [
        "По кривой ROC-AUC и по Confusion Matrix видно, что мы хорошо предсказываем, кому кредит выдавать можно, но тем, кому кредит давать нельзя, мы его чаще даём, чем не даём. Это плохо, поэтому надо будет решить данную проблему подбирая параметры"
      ],
      "metadata": {
        "id": "FdvpPholWgAw"
      }
    },
    {
      "cell_type": "code",
      "source": [
        "from sklearn.ensemble import RandomForestClassifier\n",
        "from sklearn.model_selection import cross_val_score\n",
        "\n",
        "cv_scores = cross_val_score(model_rf, X_train, y_train, cv=5, scoring='roc_auc')\n",
        "\n",
        "print(\"Среднее значение ROC AUC после кросс-валидации:\", cv_scores.mean())"
      ],
      "metadata": {
        "colab": {
          "base_uri": "https://localhost:8080/"
        },
        "id": "-bhgdceaV3Ja",
        "outputId": "f2919544-8e60-43cf-8574-ed2240177456"
      },
      "execution_count": 92,
      "outputs": [
        {
          "output_type": "stream",
          "name": "stdout",
          "text": [
            "Среднее значение ROC AUC после кросс-валидации: 0.7576606871105751\n"
          ]
        }
      ]
    },
    {
      "cell_type": "markdown",
      "source": [
        "Таким образом, среднее значение, полученное при кросс-валидации ниже, чем то, которое было получено нами ранее"
      ],
      "metadata": {
        "id": "Bymd8KxZfCWW"
      }
    },
    {
      "cell_type": "markdown",
      "source": [
        "# 6.\tСделайте подбор гиперпараметров для лучшей модели из пункта 4."
      ],
      "metadata": {
        "id": "vwwxUkQ2Xzfz"
      }
    },
    {
      "cell_type": "code",
      "source": [
        "from sklearn.ensemble import RandomForestClassifier\n",
        "from sklearn.model_selection import GridSearchCV\n",
        "\n",
        "rf_model = RandomForestClassifier()\n",
        "\n",
        "# Определяем диапазон параметров для подбора\n",
        "param_grid = {\n",
        "    'n_estimators': [100, 200, 300],\n",
        "    'max_depth': [5, 10, 15],\n",
        "    'min_samples_split': [2, 5, 10],\n",
        "    'min_samples_leaf': [1, 2, 4]\n",
        "}\n",
        "grid_search = GridSearchCV(rf_model, param_grid, cv=5, scoring='roc_auc')\n",
        "grid_search.fit(X_train, y_train)\n",
        "\n",
        "best_params = grid_search.best_params_\n",
        "best_score = grid_search.best_score_\n",
        "\n",
        "print(\"Лучшие параметры:\", best_params)\n",
        "print(\"Лучшее значение ROC AUC:\", best_score)"
      ],
      "metadata": {
        "colab": {
          "base_uri": "https://localhost:8080/"
        },
        "id": "0h-0VT84X5Kf",
        "outputId": "3bd7249d-1c3d-463a-ba2b-2c3888e4ca53"
      },
      "execution_count": 93,
      "outputs": [
        {
          "output_type": "stream",
          "name": "stdout",
          "text": [
            "Лучшие параметры: {'max_depth': 10, 'min_samples_leaf': 4, 'min_samples_split': 5, 'n_estimators': 300}\n",
            "Лучшее значение ROC AUC: 0.7754116059379217\n"
          ]
        }
      ]
    },
    {
      "cell_type": "code",
      "source": [
        "params = {\n",
        "    'max_depth': 10,\n",
        "    'min_samples_leaf': 4,\n",
        "    'min_samples_split': 5,\n",
        "    'n_estimators': 300\n",
        "}\n",
        "\n",
        "rf_model = RandomForestClassifier(**params)\n",
        "\n",
        "rf_model.fit(X_train, y_train)\n",
        "\n",
        "y_pred_rf = rf_model.predict(X_test)\n",
        "accuracy_rf = accuracy_score(y_test, y_pred_rf)\n",
        "precision_rf = precision_score(y_test, y_pred_rf)\n",
        "recall_rf = recall_score(y_test, y_pred_rf)\n",
        "roc_auc_rf = roc_auc_score(y_test, y_pred_rf)\n",
        "\n",
        "print(\"accuracy_rf = \", accuracy_rf)\n",
        "print(\"precision_rf = \", precision_rf)\n",
        "print(\"recall_rf = \", recall_rf)\n",
        "print(\"roc_auc_rf = \", roc_auc_rf)"
      ],
      "metadata": {
        "colab": {
          "base_uri": "https://localhost:8080/"
        },
        "id": "6qHIh6XUYLIO",
        "outputId": "7ffe0538-3514-4bd9-c960-e3cda2a9bf90"
      },
      "execution_count": 94,
      "outputs": [
        {
          "output_type": "stream",
          "name": "stdout",
          "text": [
            "accuracy_rf =  0.7393939393939394\n",
            "precision_rf =  0.7474048442906575\n",
            "recall_rf =  0.9432314410480349\n",
            "roc_auc_rf =  0.6102295819101561\n"
          ]
        }
      ]
    },
    {
      "cell_type": "markdown",
      "source": [
        "# 7.\tПостройте ансамблевую модель машинного обучения."
      ],
      "metadata": {
        "id": "I0VQstBob2jU"
      }
    },
    {
      "cell_type": "code",
      "source": [
        "from sklearn.ensemble import RandomForestClassifier, GradientBoostingClassifier\n",
        "from sklearn.ensemble import VotingClassifier\n",
        "from sklearn.model_selection import train_test_split\n",
        "from sklearn.metrics import accuracy_score, roc_auc_score\n",
        "\n",
        "rf_model = RandomForestClassifier(n_estimators=100, max_depth=10)\n",
        "gb_model = GradientBoostingClassifier(n_estimators=100, max_depth=5)\n",
        "\n",
        "ensemble_model = VotingClassifier(estimators=[('rf', rf_model), ('gb', gb_model)], voting='soft')\n",
        "\n",
        "\n",
        "ensemble_model.fit(X_train, y_train)\n",
        "\n",
        "y_pred = ensemble_model.predict(X_test)\n",
        "\n",
        "accuracy = accuracy_score(y_test, y_pred)\n",
        "roc_auc = roc_auc_score(y_test, y_pred)\n",
        "\n",
        "print(\"Accuracy:\", accuracy)\n",
        "print(\"ROC AUC:\", roc_auc)"
      ],
      "metadata": {
        "colab": {
          "base_uri": "https://localhost:8080/"
        },
        "id": "4mhq-Hy3aGcZ",
        "outputId": "f9076e0f-2ef8-401c-b8aa-8b3e2e5bfde5"
      },
      "execution_count": 98,
      "outputs": [
        {
          "output_type": "stream",
          "name": "stdout",
          "text": [
            "Accuracy: 0.7727272727272727\n",
            "ROC AUC: 0.6757533831985819\n"
          ]
        }
      ]
    },
    {
      "cell_type": "markdown",
      "source": [
        "В этом коде мы создаем ансамбль из моделей Random Forest и Gradient Boosting с помощью VotingClassifier, который объединяет их предсказания. Затем мы обучаем ансамбль на обучающем наборе данных и делаем предсказания на тестовом наборе. Наконец, мы оцениваем качество модели с помощью метрик Accuracy и ROC AUC.\n",
        "\n",
        "В итоге точность стала чуть выше"
      ],
      "metadata": {
        "id": "4YMpayUZcQTe"
      }
    },
    {
      "cell_type": "markdown",
      "source": [
        "# Вывод:"
      ],
      "metadata": {
        "id": "Vu64C9moduCC"
      }
    },
    {
      "cell_type": "markdown",
      "source": [
        "В данной работе был проведены все этапы построения модели машинного обучения для решение задачи кредитного скоринга. В ходе работы была проведена обработка датасета, обучены четыре модели и выбрана лучшая модель из этих четырёх. Метрики выбранной модели не очень высокие, есть модели, которые лучше справляются с данной задачей, но их обучение займёт больше времени.\n",
        "\n"
      ],
      "metadata": {
        "id": "Na9Bd8U7dsMK"
      }
    },
    {
      "cell_type": "code",
      "source": [],
      "metadata": {
        "id": "JrSa8WA5e-JI"
      },
      "execution_count": null,
      "outputs": []
    }
  ]
}