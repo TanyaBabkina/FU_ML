{
  "nbformat": 4,
  "nbformat_minor": 0,
  "metadata": {
    "colab": {
      "provenance": [],
      "toc_visible": true
    },
    "kernelspec": {
      "name": "python3",
      "display_name": "Python 3"
    },
    "language_info": {
      "name": "python"
    }
  },
  "cells": [
    {
      "cell_type": "code",
      "execution_count": 27,
      "metadata": {
        "id": "537GC3TqqQOs"
      },
      "outputs": [],
      "source": [
        "import pandas as pd\n",
        "import warnings\n",
        "import numpy as np\n",
        "import seaborn as sns\n",
        "warnings.filterwarnings('ignore')\n",
        "import matplotlib.pyplot as plt\n",
        "%matplotlib inline"
      ]
    },
    {
      "cell_type": "markdown",
      "source": [
        "# Задания из методички"
      ],
      "metadata": {
        "id": "WHaGLEBHqcnJ"
      }
    },
    {
      "cell_type": "markdown",
      "source": [
        "Загрузите прилагаемые к этой работе два датасета - Титаник и Customer support."
      ],
      "metadata": {
        "id": "XjBIWKQntx9h"
      }
    },
    {
      "cell_type": "code",
      "source": [
        "T_data = pd.read_csv(\"https://raw.githubusercontent.com/koroteevmv/ML_course/main/ML5.3%20categorical%20features/data/titanic.csv\", index_col='Unnamed: 0')\n",
        "CS_data =  pd.read_csv(\"https://raw.githubusercontent.com/koroteevmv/ML_course/main/ML5.3%20categorical%20features/data/Customer_support_data.csv\")"
      ],
      "metadata": {
        "id": "wdPKE2bKq608"
      },
      "execution_count": 18,
      "outputs": []
    },
    {
      "cell_type": "markdown",
      "source": [
        "Выведите основную информацию по каждому датасету и сделайте выводы.\n"
      ],
      "metadata": {
        "id": "_6X-PdWjt0Wp"
      }
    },
    {
      "cell_type": "code",
      "source": [
        "T_data.describe(exclude=[np.number])"
      ],
      "metadata": {
        "colab": {
          "base_uri": "https://localhost:8080/",
          "height": 175
        },
        "id": "QliIGvrpv4A9",
        "outputId": "b90eaafb-8695-4ca9-941f-2aa5d93ba4cf"
      },
      "execution_count": 19,
      "outputs": [
        {
          "output_type": "execute_result",
          "data": {
            "text/plain": [
              "       Pclass                     Name   Sex  Ticket    Cabin Embarked\n",
              "count     891                      891   891     891      204      889\n",
              "unique      3                      891     2     681      147        3\n",
              "top     third  Braund, Mr. Owen Harris  male  347082  B96 B98        S\n",
              "freq      491                        1   577       7        4      644"
            ],
            "text/html": [
              "\n",
              "  <div id=\"df-23867c07-7c42-48de-8956-7db714c655ee\" class=\"colab-df-container\">\n",
              "    <div>\n",
              "<style scoped>\n",
              "    .dataframe tbody tr th:only-of-type {\n",
              "        vertical-align: middle;\n",
              "    }\n",
              "\n",
              "    .dataframe tbody tr th {\n",
              "        vertical-align: top;\n",
              "    }\n",
              "\n",
              "    .dataframe thead th {\n",
              "        text-align: right;\n",
              "    }\n",
              "</style>\n",
              "<table border=\"1\" class=\"dataframe\">\n",
              "  <thead>\n",
              "    <tr style=\"text-align: right;\">\n",
              "      <th></th>\n",
              "      <th>Pclass</th>\n",
              "      <th>Name</th>\n",
              "      <th>Sex</th>\n",
              "      <th>Ticket</th>\n",
              "      <th>Cabin</th>\n",
              "      <th>Embarked</th>\n",
              "    </tr>\n",
              "  </thead>\n",
              "  <tbody>\n",
              "    <tr>\n",
              "      <th>count</th>\n",
              "      <td>891</td>\n",
              "      <td>891</td>\n",
              "      <td>891</td>\n",
              "      <td>891</td>\n",
              "      <td>204</td>\n",
              "      <td>889</td>\n",
              "    </tr>\n",
              "    <tr>\n",
              "      <th>unique</th>\n",
              "      <td>3</td>\n",
              "      <td>891</td>\n",
              "      <td>2</td>\n",
              "      <td>681</td>\n",
              "      <td>147</td>\n",
              "      <td>3</td>\n",
              "    </tr>\n",
              "    <tr>\n",
              "      <th>top</th>\n",
              "      <td>third</td>\n",
              "      <td>Braund, Mr. Owen Harris</td>\n",
              "      <td>male</td>\n",
              "      <td>347082</td>\n",
              "      <td>B96 B98</td>\n",
              "      <td>S</td>\n",
              "    </tr>\n",
              "    <tr>\n",
              "      <th>freq</th>\n",
              "      <td>491</td>\n",
              "      <td>1</td>\n",
              "      <td>577</td>\n",
              "      <td>7</td>\n",
              "      <td>4</td>\n",
              "      <td>644</td>\n",
              "    </tr>\n",
              "  </tbody>\n",
              "</table>\n",
              "</div>\n",
              "    <div class=\"colab-df-buttons\">\n",
              "\n",
              "  <div class=\"colab-df-container\">\n",
              "    <button class=\"colab-df-convert\" onclick=\"convertToInteractive('df-23867c07-7c42-48de-8956-7db714c655ee')\"\n",
              "            title=\"Convert this dataframe to an interactive table.\"\n",
              "            style=\"display:none;\">\n",
              "\n",
              "  <svg xmlns=\"http://www.w3.org/2000/svg\" height=\"24px\" viewBox=\"0 -960 960 960\">\n",
              "    <path d=\"M120-120v-720h720v720H120Zm60-500h600v-160H180v160Zm220 220h160v-160H400v160Zm0 220h160v-160H400v160ZM180-400h160v-160H180v160Zm440 0h160v-160H620v160ZM180-180h160v-160H180v160Zm440 0h160v-160H620v160Z\"/>\n",
              "  </svg>\n",
              "    </button>\n",
              "\n",
              "  <style>\n",
              "    .colab-df-container {\n",
              "      display:flex;\n",
              "      gap: 12px;\n",
              "    }\n",
              "\n",
              "    .colab-df-convert {\n",
              "      background-color: #E8F0FE;\n",
              "      border: none;\n",
              "      border-radius: 50%;\n",
              "      cursor: pointer;\n",
              "      display: none;\n",
              "      fill: #1967D2;\n",
              "      height: 32px;\n",
              "      padding: 0 0 0 0;\n",
              "      width: 32px;\n",
              "    }\n",
              "\n",
              "    .colab-df-convert:hover {\n",
              "      background-color: #E2EBFA;\n",
              "      box-shadow: 0px 1px 2px rgba(60, 64, 67, 0.3), 0px 1px 3px 1px rgba(60, 64, 67, 0.15);\n",
              "      fill: #174EA6;\n",
              "    }\n",
              "\n",
              "    .colab-df-buttons div {\n",
              "      margin-bottom: 4px;\n",
              "    }\n",
              "\n",
              "    [theme=dark] .colab-df-convert {\n",
              "      background-color: #3B4455;\n",
              "      fill: #D2E3FC;\n",
              "    }\n",
              "\n",
              "    [theme=dark] .colab-df-convert:hover {\n",
              "      background-color: #434B5C;\n",
              "      box-shadow: 0px 1px 3px 1px rgba(0, 0, 0, 0.15);\n",
              "      filter: drop-shadow(0px 1px 2px rgba(0, 0, 0, 0.3));\n",
              "      fill: #FFFFFF;\n",
              "    }\n",
              "  </style>\n",
              "\n",
              "    <script>\n",
              "      const buttonEl =\n",
              "        document.querySelector('#df-23867c07-7c42-48de-8956-7db714c655ee button.colab-df-convert');\n",
              "      buttonEl.style.display =\n",
              "        google.colab.kernel.accessAllowed ? 'block' : 'none';\n",
              "\n",
              "      async function convertToInteractive(key) {\n",
              "        const element = document.querySelector('#df-23867c07-7c42-48de-8956-7db714c655ee');\n",
              "        const dataTable =\n",
              "          await google.colab.kernel.invokeFunction('convertToInteractive',\n",
              "                                                    [key], {});\n",
              "        if (!dataTable) return;\n",
              "\n",
              "        const docLinkHtml = 'Like what you see? Visit the ' +\n",
              "          '<a target=\"_blank\" href=https://colab.research.google.com/notebooks/data_table.ipynb>data table notebook</a>'\n",
              "          + ' to learn more about interactive tables.';\n",
              "        element.innerHTML = '';\n",
              "        dataTable['output_type'] = 'display_data';\n",
              "        await google.colab.output.renderOutput(dataTable, element);\n",
              "        const docLink = document.createElement('div');\n",
              "        docLink.innerHTML = docLinkHtml;\n",
              "        element.appendChild(docLink);\n",
              "      }\n",
              "    </script>\n",
              "  </div>\n",
              "\n",
              "\n",
              "<div id=\"df-422e03af-8d40-499d-8405-df26d761728e\">\n",
              "  <button class=\"colab-df-quickchart\" onclick=\"quickchart('df-422e03af-8d40-499d-8405-df26d761728e')\"\n",
              "            title=\"Suggest charts\"\n",
              "            style=\"display:none;\">\n",
              "\n",
              "<svg xmlns=\"http://www.w3.org/2000/svg\" height=\"24px\"viewBox=\"0 0 24 24\"\n",
              "     width=\"24px\">\n",
              "    <g>\n",
              "        <path d=\"M19 3H5c-1.1 0-2 .9-2 2v14c0 1.1.9 2 2 2h14c1.1 0 2-.9 2-2V5c0-1.1-.9-2-2-2zM9 17H7v-7h2v7zm4 0h-2V7h2v10zm4 0h-2v-4h2v4z\"/>\n",
              "    </g>\n",
              "</svg>\n",
              "  </button>\n",
              "\n",
              "<style>\n",
              "  .colab-df-quickchart {\n",
              "      --bg-color: #E8F0FE;\n",
              "      --fill-color: #1967D2;\n",
              "      --hover-bg-color: #E2EBFA;\n",
              "      --hover-fill-color: #174EA6;\n",
              "      --disabled-fill-color: #AAA;\n",
              "      --disabled-bg-color: #DDD;\n",
              "  }\n",
              "\n",
              "  [theme=dark] .colab-df-quickchart {\n",
              "      --bg-color: #3B4455;\n",
              "      --fill-color: #D2E3FC;\n",
              "      --hover-bg-color: #434B5C;\n",
              "      --hover-fill-color: #FFFFFF;\n",
              "      --disabled-bg-color: #3B4455;\n",
              "      --disabled-fill-color: #666;\n",
              "  }\n",
              "\n",
              "  .colab-df-quickchart {\n",
              "    background-color: var(--bg-color);\n",
              "    border: none;\n",
              "    border-radius: 50%;\n",
              "    cursor: pointer;\n",
              "    display: none;\n",
              "    fill: var(--fill-color);\n",
              "    height: 32px;\n",
              "    padding: 0;\n",
              "    width: 32px;\n",
              "  }\n",
              "\n",
              "  .colab-df-quickchart:hover {\n",
              "    background-color: var(--hover-bg-color);\n",
              "    box-shadow: 0 1px 2px rgba(60, 64, 67, 0.3), 0 1px 3px 1px rgba(60, 64, 67, 0.15);\n",
              "    fill: var(--button-hover-fill-color);\n",
              "  }\n",
              "\n",
              "  .colab-df-quickchart-complete:disabled,\n",
              "  .colab-df-quickchart-complete:disabled:hover {\n",
              "    background-color: var(--disabled-bg-color);\n",
              "    fill: var(--disabled-fill-color);\n",
              "    box-shadow: none;\n",
              "  }\n",
              "\n",
              "  .colab-df-spinner {\n",
              "    border: 2px solid var(--fill-color);\n",
              "    border-color: transparent;\n",
              "    border-bottom-color: var(--fill-color);\n",
              "    animation:\n",
              "      spin 1s steps(1) infinite;\n",
              "  }\n",
              "\n",
              "  @keyframes spin {\n",
              "    0% {\n",
              "      border-color: transparent;\n",
              "      border-bottom-color: var(--fill-color);\n",
              "      border-left-color: var(--fill-color);\n",
              "    }\n",
              "    20% {\n",
              "      border-color: transparent;\n",
              "      border-left-color: var(--fill-color);\n",
              "      border-top-color: var(--fill-color);\n",
              "    }\n",
              "    30% {\n",
              "      border-color: transparent;\n",
              "      border-left-color: var(--fill-color);\n",
              "      border-top-color: var(--fill-color);\n",
              "      border-right-color: var(--fill-color);\n",
              "    }\n",
              "    40% {\n",
              "      border-color: transparent;\n",
              "      border-right-color: var(--fill-color);\n",
              "      border-top-color: var(--fill-color);\n",
              "    }\n",
              "    60% {\n",
              "      border-color: transparent;\n",
              "      border-right-color: var(--fill-color);\n",
              "    }\n",
              "    80% {\n",
              "      border-color: transparent;\n",
              "      border-right-color: var(--fill-color);\n",
              "      border-bottom-color: var(--fill-color);\n",
              "    }\n",
              "    90% {\n",
              "      border-color: transparent;\n",
              "      border-bottom-color: var(--fill-color);\n",
              "    }\n",
              "  }\n",
              "</style>\n",
              "\n",
              "  <script>\n",
              "    async function quickchart(key) {\n",
              "      const quickchartButtonEl =\n",
              "        document.querySelector('#' + key + ' button');\n",
              "      quickchartButtonEl.disabled = true;  // To prevent multiple clicks.\n",
              "      quickchartButtonEl.classList.add('colab-df-spinner');\n",
              "      try {\n",
              "        const charts = await google.colab.kernel.invokeFunction(\n",
              "            'suggestCharts', [key], {});\n",
              "      } catch (error) {\n",
              "        console.error('Error during call to suggestCharts:', error);\n",
              "      }\n",
              "      quickchartButtonEl.classList.remove('colab-df-spinner');\n",
              "      quickchartButtonEl.classList.add('colab-df-quickchart-complete');\n",
              "    }\n",
              "    (() => {\n",
              "      let quickchartButtonEl =\n",
              "        document.querySelector('#df-422e03af-8d40-499d-8405-df26d761728e button');\n",
              "      quickchartButtonEl.style.display =\n",
              "        google.colab.kernel.accessAllowed ? 'block' : 'none';\n",
              "    })();\n",
              "  </script>\n",
              "</div>\n",
              "    </div>\n",
              "  </div>\n"
            ],
            "application/vnd.google.colaboratory.intrinsic+json": {
              "type": "dataframe",
              "summary": "{\n  \"name\": \"T_data\",\n  \"rows\": 4,\n  \"fields\": [\n    {\n      \"column\": \"Pclass\",\n      \"properties\": {\n        \"dtype\": \"string\",\n        \"num_unique_values\": 4,\n        \"samples\": [\n          3,\n          \"491\",\n          \"891\"\n        ],\n        \"semantic_type\": \"\",\n        \"description\": \"\"\n      }\n    },\n    {\n      \"column\": \"Name\",\n      \"properties\": {\n        \"dtype\": \"string\",\n        \"num_unique_values\": 3,\n        \"samples\": [\n          \"891\",\n          \"Braund, Mr. Owen Harris\",\n          \"1\"\n        ],\n        \"semantic_type\": \"\",\n        \"description\": \"\"\n      }\n    },\n    {\n      \"column\": \"Sex\",\n      \"properties\": {\n        \"dtype\": \"string\",\n        \"num_unique_values\": 4,\n        \"samples\": [\n          2,\n          \"577\",\n          \"891\"\n        ],\n        \"semantic_type\": \"\",\n        \"description\": \"\"\n      }\n    },\n    {\n      \"column\": \"Ticket\",\n      \"properties\": {\n        \"dtype\": \"string\",\n        \"num_unique_values\": 4,\n        \"samples\": [\n          681,\n          \"7\",\n          \"891\"\n        ],\n        \"semantic_type\": \"\",\n        \"description\": \"\"\n      }\n    },\n    {\n      \"column\": \"Cabin\",\n      \"properties\": {\n        \"dtype\": \"string\",\n        \"num_unique_values\": 4,\n        \"samples\": [\n          147,\n          \"4\",\n          \"204\"\n        ],\n        \"semantic_type\": \"\",\n        \"description\": \"\"\n      }\n    },\n    {\n      \"column\": \"Embarked\",\n      \"properties\": {\n        \"dtype\": \"string\",\n        \"num_unique_values\": 4,\n        \"samples\": [\n          3,\n          \"644\",\n          \"889\"\n        ],\n        \"semantic_type\": \"\",\n        \"description\": \"\"\n      }\n    }\n  ]\n}"
            }
          },
          "metadata": {},
          "execution_count": 19
        }
      ]
    },
    {
      "cell_type": "code",
      "source": [
        "CS_data.describe(include=\"all\")"
      ],
      "metadata": {
        "colab": {
          "base_uri": "https://localhost:8080/",
          "height": 484
        },
        "id": "uI9x2XDJq6xT",
        "outputId": "f418bcb3-25ac-46f1-ef8a-b6e5c43bb99a"
      },
      "execution_count": 20,
      "outputs": [
        {
          "output_type": "execute_result",
          "data": {
            "text/plain": [
              "                                   Unique id channel_name category  \\\n",
              "count                                  85907        85907    85907   \n",
              "unique                                 85907            3       12   \n",
              "top     7e9ae164-6a8b-4521-a2d4-58f7c9fff13f      Inbound  Returns   \n",
              "freq                                       1        68142    44097   \n",
              "mean                                     NaN          NaN      NaN   \n",
              "std                                      NaN          NaN      NaN   \n",
              "min                                      NaN          NaN      NaN   \n",
              "25%                                      NaN          NaN      NaN   \n",
              "50%                                      NaN          NaN      NaN   \n",
              "75%                                      NaN          NaN      NaN   \n",
              "max                                      NaN          NaN      NaN   \n",
              "\n",
              "                  Sub-category Customer Remarks  \\\n",
              "count                    85907            28742   \n",
              "unique                      57            18231   \n",
              "top     Reverse Pickup Enquiry            Good    \n",
              "freq                     22389             1390   \n",
              "mean                       NaN              NaN   \n",
              "std                        NaN              NaN   \n",
              "min                        NaN              NaN   \n",
              "25%                        NaN              NaN   \n",
              "50%                        NaN              NaN   \n",
              "75%                        NaN              NaN   \n",
              "max                        NaN              NaN   \n",
              "\n",
              "                                    Order_id   order_date_time  \\\n",
              "count                                  67675             17214   \n",
              "unique                                 67675             13766   \n",
              "top     c27c9bb4-fa36-4140-9f1f-21009254ffdb  09/08/2023 11:55   \n",
              "freq                                       1                 7   \n",
              "mean                                     NaN               NaN   \n",
              "std                                      NaN               NaN   \n",
              "min                                      NaN               NaN   \n",
              "25%                                      NaN               NaN   \n",
              "50%                                      NaN               NaN   \n",
              "75%                                      NaN               NaN   \n",
              "max                                      NaN               NaN   \n",
              "\n",
              "       Issue_reported at   issue_responded Survey_response_Date Customer_City  \\\n",
              "count              85907             85907                85907         17079   \n",
              "unique             30923             30262                   31          1782   \n",
              "top     15/08/2023 10:59  28/08/2023 00:00            28-Aug-23     HYDERABAD   \n",
              "freq                  13              3378                 3452           722   \n",
              "mean                 NaN               NaN                  NaN           NaN   \n",
              "std                  NaN               NaN                  NaN           NaN   \n",
              "min                  NaN               NaN                  NaN           NaN   \n",
              "25%                  NaN               NaN                  NaN           NaN   \n",
              "50%                  NaN               NaN                  NaN           NaN   \n",
              "75%                  NaN               NaN                  NaN           NaN   \n",
              "max                  NaN               NaN                  NaN           NaN   \n",
              "\n",
              "       Product_category     Item_price  connected_handling_time    Agent_name  \\\n",
              "count             17196   17206.000000               242.000000         85907   \n",
              "unique                9            NaN                      NaN          1371   \n",
              "top         Electronics            NaN                      NaN  Wendy Taylor   \n",
              "freq               4706            NaN                      NaN           429   \n",
              "mean                NaN    5660.774846               462.400826           NaN   \n",
              "std                 NaN   12825.728411               246.295037           NaN   \n",
              "min                 NaN       0.000000                 0.000000           NaN   \n",
              "25%                 NaN     392.000000               293.000000           NaN   \n",
              "50%                 NaN     979.000000               427.000000           NaN   \n",
              "75%                 NaN    2699.750000               592.250000           NaN   \n",
              "max                 NaN  164999.000000              1986.000000           NaN   \n",
              "\n",
              "         Supervisor     Manager Tenure Bucket Agent Shift    CSAT Score  \n",
              "count         85907       85907         85907       85907  85907.000000  \n",
              "unique           40           6             5           5           NaN  \n",
              "top     Carter Park  John Smith           >90     Morning           NaN  \n",
              "freq           4273       25261         30660       41426           NaN  \n",
              "mean            NaN         NaN           NaN         NaN      4.242157  \n",
              "std             NaN         NaN           NaN         NaN      1.378903  \n",
              "min             NaN         NaN           NaN         NaN      1.000000  \n",
              "25%             NaN         NaN           NaN         NaN      4.000000  \n",
              "50%             NaN         NaN           NaN         NaN      5.000000  \n",
              "75%             NaN         NaN           NaN         NaN      5.000000  \n",
              "max             NaN         NaN           NaN         NaN      5.000000  "
            ],
            "text/html": [
              "\n",
              "  <div id=\"df-09fd9a6c-ac07-479c-882b-a17c5a268f42\" class=\"colab-df-container\">\n",
              "    <div>\n",
              "<style scoped>\n",
              "    .dataframe tbody tr th:only-of-type {\n",
              "        vertical-align: middle;\n",
              "    }\n",
              "\n",
              "    .dataframe tbody tr th {\n",
              "        vertical-align: top;\n",
              "    }\n",
              "\n",
              "    .dataframe thead th {\n",
              "        text-align: right;\n",
              "    }\n",
              "</style>\n",
              "<table border=\"1\" class=\"dataframe\">\n",
              "  <thead>\n",
              "    <tr style=\"text-align: right;\">\n",
              "      <th></th>\n",
              "      <th>Unique id</th>\n",
              "      <th>channel_name</th>\n",
              "      <th>category</th>\n",
              "      <th>Sub-category</th>\n",
              "      <th>Customer Remarks</th>\n",
              "      <th>Order_id</th>\n",
              "      <th>order_date_time</th>\n",
              "      <th>Issue_reported at</th>\n",
              "      <th>issue_responded</th>\n",
              "      <th>Survey_response_Date</th>\n",
              "      <th>Customer_City</th>\n",
              "      <th>Product_category</th>\n",
              "      <th>Item_price</th>\n",
              "      <th>connected_handling_time</th>\n",
              "      <th>Agent_name</th>\n",
              "      <th>Supervisor</th>\n",
              "      <th>Manager</th>\n",
              "      <th>Tenure Bucket</th>\n",
              "      <th>Agent Shift</th>\n",
              "      <th>CSAT Score</th>\n",
              "    </tr>\n",
              "  </thead>\n",
              "  <tbody>\n",
              "    <tr>\n",
              "      <th>count</th>\n",
              "      <td>85907</td>\n",
              "      <td>85907</td>\n",
              "      <td>85907</td>\n",
              "      <td>85907</td>\n",
              "      <td>28742</td>\n",
              "      <td>67675</td>\n",
              "      <td>17214</td>\n",
              "      <td>85907</td>\n",
              "      <td>85907</td>\n",
              "      <td>85907</td>\n",
              "      <td>17079</td>\n",
              "      <td>17196</td>\n",
              "      <td>17206.000000</td>\n",
              "      <td>242.000000</td>\n",
              "      <td>85907</td>\n",
              "      <td>85907</td>\n",
              "      <td>85907</td>\n",
              "      <td>85907</td>\n",
              "      <td>85907</td>\n",
              "      <td>85907.000000</td>\n",
              "    </tr>\n",
              "    <tr>\n",
              "      <th>unique</th>\n",
              "      <td>85907</td>\n",
              "      <td>3</td>\n",
              "      <td>12</td>\n",
              "      <td>57</td>\n",
              "      <td>18231</td>\n",
              "      <td>67675</td>\n",
              "      <td>13766</td>\n",
              "      <td>30923</td>\n",
              "      <td>30262</td>\n",
              "      <td>31</td>\n",
              "      <td>1782</td>\n",
              "      <td>9</td>\n",
              "      <td>NaN</td>\n",
              "      <td>NaN</td>\n",
              "      <td>1371</td>\n",
              "      <td>40</td>\n",
              "      <td>6</td>\n",
              "      <td>5</td>\n",
              "      <td>5</td>\n",
              "      <td>NaN</td>\n",
              "    </tr>\n",
              "    <tr>\n",
              "      <th>top</th>\n",
              "      <td>7e9ae164-6a8b-4521-a2d4-58f7c9fff13f</td>\n",
              "      <td>Inbound</td>\n",
              "      <td>Returns</td>\n",
              "      <td>Reverse Pickup Enquiry</td>\n",
              "      <td>Good</td>\n",
              "      <td>c27c9bb4-fa36-4140-9f1f-21009254ffdb</td>\n",
              "      <td>09/08/2023 11:55</td>\n",
              "      <td>15/08/2023 10:59</td>\n",
              "      <td>28/08/2023 00:00</td>\n",
              "      <td>28-Aug-23</td>\n",
              "      <td>HYDERABAD</td>\n",
              "      <td>Electronics</td>\n",
              "      <td>NaN</td>\n",
              "      <td>NaN</td>\n",
              "      <td>Wendy Taylor</td>\n",
              "      <td>Carter Park</td>\n",
              "      <td>John Smith</td>\n",
              "      <td>&gt;90</td>\n",
              "      <td>Morning</td>\n",
              "      <td>NaN</td>\n",
              "    </tr>\n",
              "    <tr>\n",
              "      <th>freq</th>\n",
              "      <td>1</td>\n",
              "      <td>68142</td>\n",
              "      <td>44097</td>\n",
              "      <td>22389</td>\n",
              "      <td>1390</td>\n",
              "      <td>1</td>\n",
              "      <td>7</td>\n",
              "      <td>13</td>\n",
              "      <td>3378</td>\n",
              "      <td>3452</td>\n",
              "      <td>722</td>\n",
              "      <td>4706</td>\n",
              "      <td>NaN</td>\n",
              "      <td>NaN</td>\n",
              "      <td>429</td>\n",
              "      <td>4273</td>\n",
              "      <td>25261</td>\n",
              "      <td>30660</td>\n",
              "      <td>41426</td>\n",
              "      <td>NaN</td>\n",
              "    </tr>\n",
              "    <tr>\n",
              "      <th>mean</th>\n",
              "      <td>NaN</td>\n",
              "      <td>NaN</td>\n",
              "      <td>NaN</td>\n",
              "      <td>NaN</td>\n",
              "      <td>NaN</td>\n",
              "      <td>NaN</td>\n",
              "      <td>NaN</td>\n",
              "      <td>NaN</td>\n",
              "      <td>NaN</td>\n",
              "      <td>NaN</td>\n",
              "      <td>NaN</td>\n",
              "      <td>NaN</td>\n",
              "      <td>5660.774846</td>\n",
              "      <td>462.400826</td>\n",
              "      <td>NaN</td>\n",
              "      <td>NaN</td>\n",
              "      <td>NaN</td>\n",
              "      <td>NaN</td>\n",
              "      <td>NaN</td>\n",
              "      <td>4.242157</td>\n",
              "    </tr>\n",
              "    <tr>\n",
              "      <th>std</th>\n",
              "      <td>NaN</td>\n",
              "      <td>NaN</td>\n",
              "      <td>NaN</td>\n",
              "      <td>NaN</td>\n",
              "      <td>NaN</td>\n",
              "      <td>NaN</td>\n",
              "      <td>NaN</td>\n",
              "      <td>NaN</td>\n",
              "      <td>NaN</td>\n",
              "      <td>NaN</td>\n",
              "      <td>NaN</td>\n",
              "      <td>NaN</td>\n",
              "      <td>12825.728411</td>\n",
              "      <td>246.295037</td>\n",
              "      <td>NaN</td>\n",
              "      <td>NaN</td>\n",
              "      <td>NaN</td>\n",
              "      <td>NaN</td>\n",
              "      <td>NaN</td>\n",
              "      <td>1.378903</td>\n",
              "    </tr>\n",
              "    <tr>\n",
              "      <th>min</th>\n",
              "      <td>NaN</td>\n",
              "      <td>NaN</td>\n",
              "      <td>NaN</td>\n",
              "      <td>NaN</td>\n",
              "      <td>NaN</td>\n",
              "      <td>NaN</td>\n",
              "      <td>NaN</td>\n",
              "      <td>NaN</td>\n",
              "      <td>NaN</td>\n",
              "      <td>NaN</td>\n",
              "      <td>NaN</td>\n",
              "      <td>NaN</td>\n",
              "      <td>0.000000</td>\n",
              "      <td>0.000000</td>\n",
              "      <td>NaN</td>\n",
              "      <td>NaN</td>\n",
              "      <td>NaN</td>\n",
              "      <td>NaN</td>\n",
              "      <td>NaN</td>\n",
              "      <td>1.000000</td>\n",
              "    </tr>\n",
              "    <tr>\n",
              "      <th>25%</th>\n",
              "      <td>NaN</td>\n",
              "      <td>NaN</td>\n",
              "      <td>NaN</td>\n",
              "      <td>NaN</td>\n",
              "      <td>NaN</td>\n",
              "      <td>NaN</td>\n",
              "      <td>NaN</td>\n",
              "      <td>NaN</td>\n",
              "      <td>NaN</td>\n",
              "      <td>NaN</td>\n",
              "      <td>NaN</td>\n",
              "      <td>NaN</td>\n",
              "      <td>392.000000</td>\n",
              "      <td>293.000000</td>\n",
              "      <td>NaN</td>\n",
              "      <td>NaN</td>\n",
              "      <td>NaN</td>\n",
              "      <td>NaN</td>\n",
              "      <td>NaN</td>\n",
              "      <td>4.000000</td>\n",
              "    </tr>\n",
              "    <tr>\n",
              "      <th>50%</th>\n",
              "      <td>NaN</td>\n",
              "      <td>NaN</td>\n",
              "      <td>NaN</td>\n",
              "      <td>NaN</td>\n",
              "      <td>NaN</td>\n",
              "      <td>NaN</td>\n",
              "      <td>NaN</td>\n",
              "      <td>NaN</td>\n",
              "      <td>NaN</td>\n",
              "      <td>NaN</td>\n",
              "      <td>NaN</td>\n",
              "      <td>NaN</td>\n",
              "      <td>979.000000</td>\n",
              "      <td>427.000000</td>\n",
              "      <td>NaN</td>\n",
              "      <td>NaN</td>\n",
              "      <td>NaN</td>\n",
              "      <td>NaN</td>\n",
              "      <td>NaN</td>\n",
              "      <td>5.000000</td>\n",
              "    </tr>\n",
              "    <tr>\n",
              "      <th>75%</th>\n",
              "      <td>NaN</td>\n",
              "      <td>NaN</td>\n",
              "      <td>NaN</td>\n",
              "      <td>NaN</td>\n",
              "      <td>NaN</td>\n",
              "      <td>NaN</td>\n",
              "      <td>NaN</td>\n",
              "      <td>NaN</td>\n",
              "      <td>NaN</td>\n",
              "      <td>NaN</td>\n",
              "      <td>NaN</td>\n",
              "      <td>NaN</td>\n",
              "      <td>2699.750000</td>\n",
              "      <td>592.250000</td>\n",
              "      <td>NaN</td>\n",
              "      <td>NaN</td>\n",
              "      <td>NaN</td>\n",
              "      <td>NaN</td>\n",
              "      <td>NaN</td>\n",
              "      <td>5.000000</td>\n",
              "    </tr>\n",
              "    <tr>\n",
              "      <th>max</th>\n",
              "      <td>NaN</td>\n",
              "      <td>NaN</td>\n",
              "      <td>NaN</td>\n",
              "      <td>NaN</td>\n",
              "      <td>NaN</td>\n",
              "      <td>NaN</td>\n",
              "      <td>NaN</td>\n",
              "      <td>NaN</td>\n",
              "      <td>NaN</td>\n",
              "      <td>NaN</td>\n",
              "      <td>NaN</td>\n",
              "      <td>NaN</td>\n",
              "      <td>164999.000000</td>\n",
              "      <td>1986.000000</td>\n",
              "      <td>NaN</td>\n",
              "      <td>NaN</td>\n",
              "      <td>NaN</td>\n",
              "      <td>NaN</td>\n",
              "      <td>NaN</td>\n",
              "      <td>5.000000</td>\n",
              "    </tr>\n",
              "  </tbody>\n",
              "</table>\n",
              "</div>\n",
              "    <div class=\"colab-df-buttons\">\n",
              "\n",
              "  <div class=\"colab-df-container\">\n",
              "    <button class=\"colab-df-convert\" onclick=\"convertToInteractive('df-09fd9a6c-ac07-479c-882b-a17c5a268f42')\"\n",
              "            title=\"Convert this dataframe to an interactive table.\"\n",
              "            style=\"display:none;\">\n",
              "\n",
              "  <svg xmlns=\"http://www.w3.org/2000/svg\" height=\"24px\" viewBox=\"0 -960 960 960\">\n",
              "    <path d=\"M120-120v-720h720v720H120Zm60-500h600v-160H180v160Zm220 220h160v-160H400v160Zm0 220h160v-160H400v160ZM180-400h160v-160H180v160Zm440 0h160v-160H620v160ZM180-180h160v-160H180v160Zm440 0h160v-160H620v160Z\"/>\n",
              "  </svg>\n",
              "    </button>\n",
              "\n",
              "  <style>\n",
              "    .colab-df-container {\n",
              "      display:flex;\n",
              "      gap: 12px;\n",
              "    }\n",
              "\n",
              "    .colab-df-convert {\n",
              "      background-color: #E8F0FE;\n",
              "      border: none;\n",
              "      border-radius: 50%;\n",
              "      cursor: pointer;\n",
              "      display: none;\n",
              "      fill: #1967D2;\n",
              "      height: 32px;\n",
              "      padding: 0 0 0 0;\n",
              "      width: 32px;\n",
              "    }\n",
              "\n",
              "    .colab-df-convert:hover {\n",
              "      background-color: #E2EBFA;\n",
              "      box-shadow: 0px 1px 2px rgba(60, 64, 67, 0.3), 0px 1px 3px 1px rgba(60, 64, 67, 0.15);\n",
              "      fill: #174EA6;\n",
              "    }\n",
              "\n",
              "    .colab-df-buttons div {\n",
              "      margin-bottom: 4px;\n",
              "    }\n",
              "\n",
              "    [theme=dark] .colab-df-convert {\n",
              "      background-color: #3B4455;\n",
              "      fill: #D2E3FC;\n",
              "    }\n",
              "\n",
              "    [theme=dark] .colab-df-convert:hover {\n",
              "      background-color: #434B5C;\n",
              "      box-shadow: 0px 1px 3px 1px rgba(0, 0, 0, 0.15);\n",
              "      filter: drop-shadow(0px 1px 2px rgba(0, 0, 0, 0.3));\n",
              "      fill: #FFFFFF;\n",
              "    }\n",
              "  </style>\n",
              "\n",
              "    <script>\n",
              "      const buttonEl =\n",
              "        document.querySelector('#df-09fd9a6c-ac07-479c-882b-a17c5a268f42 button.colab-df-convert');\n",
              "      buttonEl.style.display =\n",
              "        google.colab.kernel.accessAllowed ? 'block' : 'none';\n",
              "\n",
              "      async function convertToInteractive(key) {\n",
              "        const element = document.querySelector('#df-09fd9a6c-ac07-479c-882b-a17c5a268f42');\n",
              "        const dataTable =\n",
              "          await google.colab.kernel.invokeFunction('convertToInteractive',\n",
              "                                                    [key], {});\n",
              "        if (!dataTable) return;\n",
              "\n",
              "        const docLinkHtml = 'Like what you see? Visit the ' +\n",
              "          '<a target=\"_blank\" href=https://colab.research.google.com/notebooks/data_table.ipynb>data table notebook</a>'\n",
              "          + ' to learn more about interactive tables.';\n",
              "        element.innerHTML = '';\n",
              "        dataTable['output_type'] = 'display_data';\n",
              "        await google.colab.output.renderOutput(dataTable, element);\n",
              "        const docLink = document.createElement('div');\n",
              "        docLink.innerHTML = docLinkHtml;\n",
              "        element.appendChild(docLink);\n",
              "      }\n",
              "    </script>\n",
              "  </div>\n",
              "\n",
              "\n",
              "<div id=\"df-e5e0a831-a9c8-43ec-a7fc-0e586be71399\">\n",
              "  <button class=\"colab-df-quickchart\" onclick=\"quickchart('df-e5e0a831-a9c8-43ec-a7fc-0e586be71399')\"\n",
              "            title=\"Suggest charts\"\n",
              "            style=\"display:none;\">\n",
              "\n",
              "<svg xmlns=\"http://www.w3.org/2000/svg\" height=\"24px\"viewBox=\"0 0 24 24\"\n",
              "     width=\"24px\">\n",
              "    <g>\n",
              "        <path d=\"M19 3H5c-1.1 0-2 .9-2 2v14c0 1.1.9 2 2 2h14c1.1 0 2-.9 2-2V5c0-1.1-.9-2-2-2zM9 17H7v-7h2v7zm4 0h-2V7h2v10zm4 0h-2v-4h2v4z\"/>\n",
              "    </g>\n",
              "</svg>\n",
              "  </button>\n",
              "\n",
              "<style>\n",
              "  .colab-df-quickchart {\n",
              "      --bg-color: #E8F0FE;\n",
              "      --fill-color: #1967D2;\n",
              "      --hover-bg-color: #E2EBFA;\n",
              "      --hover-fill-color: #174EA6;\n",
              "      --disabled-fill-color: #AAA;\n",
              "      --disabled-bg-color: #DDD;\n",
              "  }\n",
              "\n",
              "  [theme=dark] .colab-df-quickchart {\n",
              "      --bg-color: #3B4455;\n",
              "      --fill-color: #D2E3FC;\n",
              "      --hover-bg-color: #434B5C;\n",
              "      --hover-fill-color: #FFFFFF;\n",
              "      --disabled-bg-color: #3B4455;\n",
              "      --disabled-fill-color: #666;\n",
              "  }\n",
              "\n",
              "  .colab-df-quickchart {\n",
              "    background-color: var(--bg-color);\n",
              "    border: none;\n",
              "    border-radius: 50%;\n",
              "    cursor: pointer;\n",
              "    display: none;\n",
              "    fill: var(--fill-color);\n",
              "    height: 32px;\n",
              "    padding: 0;\n",
              "    width: 32px;\n",
              "  }\n",
              "\n",
              "  .colab-df-quickchart:hover {\n",
              "    background-color: var(--hover-bg-color);\n",
              "    box-shadow: 0 1px 2px rgba(60, 64, 67, 0.3), 0 1px 3px 1px rgba(60, 64, 67, 0.15);\n",
              "    fill: var(--button-hover-fill-color);\n",
              "  }\n",
              "\n",
              "  .colab-df-quickchart-complete:disabled,\n",
              "  .colab-df-quickchart-complete:disabled:hover {\n",
              "    background-color: var(--disabled-bg-color);\n",
              "    fill: var(--disabled-fill-color);\n",
              "    box-shadow: none;\n",
              "  }\n",
              "\n",
              "  .colab-df-spinner {\n",
              "    border: 2px solid var(--fill-color);\n",
              "    border-color: transparent;\n",
              "    border-bottom-color: var(--fill-color);\n",
              "    animation:\n",
              "      spin 1s steps(1) infinite;\n",
              "  }\n",
              "\n",
              "  @keyframes spin {\n",
              "    0% {\n",
              "      border-color: transparent;\n",
              "      border-bottom-color: var(--fill-color);\n",
              "      border-left-color: var(--fill-color);\n",
              "    }\n",
              "    20% {\n",
              "      border-color: transparent;\n",
              "      border-left-color: var(--fill-color);\n",
              "      border-top-color: var(--fill-color);\n",
              "    }\n",
              "    30% {\n",
              "      border-color: transparent;\n",
              "      border-left-color: var(--fill-color);\n",
              "      border-top-color: var(--fill-color);\n",
              "      border-right-color: var(--fill-color);\n",
              "    }\n",
              "    40% {\n",
              "      border-color: transparent;\n",
              "      border-right-color: var(--fill-color);\n",
              "      border-top-color: var(--fill-color);\n",
              "    }\n",
              "    60% {\n",
              "      border-color: transparent;\n",
              "      border-right-color: var(--fill-color);\n",
              "    }\n",
              "    80% {\n",
              "      border-color: transparent;\n",
              "      border-right-color: var(--fill-color);\n",
              "      border-bottom-color: var(--fill-color);\n",
              "    }\n",
              "    90% {\n",
              "      border-color: transparent;\n",
              "      border-bottom-color: var(--fill-color);\n",
              "    }\n",
              "  }\n",
              "</style>\n",
              "\n",
              "  <script>\n",
              "    async function quickchart(key) {\n",
              "      const quickchartButtonEl =\n",
              "        document.querySelector('#' + key + ' button');\n",
              "      quickchartButtonEl.disabled = true;  // To prevent multiple clicks.\n",
              "      quickchartButtonEl.classList.add('colab-df-spinner');\n",
              "      try {\n",
              "        const charts = await google.colab.kernel.invokeFunction(\n",
              "            'suggestCharts', [key], {});\n",
              "      } catch (error) {\n",
              "        console.error('Error during call to suggestCharts:', error);\n",
              "      }\n",
              "      quickchartButtonEl.classList.remove('colab-df-spinner');\n",
              "      quickchartButtonEl.classList.add('colab-df-quickchart-complete');\n",
              "    }\n",
              "    (() => {\n",
              "      let quickchartButtonEl =\n",
              "        document.querySelector('#df-e5e0a831-a9c8-43ec-a7fc-0e586be71399 button');\n",
              "      quickchartButtonEl.style.display =\n",
              "        google.colab.kernel.accessAllowed ? 'block' : 'none';\n",
              "    })();\n",
              "  </script>\n",
              "</div>\n",
              "    </div>\n",
              "  </div>\n"
            ],
            "application/vnd.google.colaboratory.intrinsic+json": {
              "type": "dataframe",
              "summary": "{\n  \"name\": \"CS_data\",\n  \"rows\": 11,\n  \"fields\": [\n    {\n      \"column\": \"Unique id\",\n      \"properties\": {\n        \"dtype\": \"category\",\n        \"num_unique_values\": 3,\n        \"samples\": [\n          \"85907\",\n          \"7e9ae164-6a8b-4521-a2d4-58f7c9fff13f\",\n          \"1\"\n        ],\n        \"semantic_type\": \"\",\n        \"description\": \"\"\n      }\n    },\n    {\n      \"column\": \"channel_name\",\n      \"properties\": {\n        \"dtype\": \"category\",\n        \"num_unique_values\": 4,\n        \"samples\": [\n          3,\n          \"68142\",\n          \"85907\"\n        ],\n        \"semantic_type\": \"\",\n        \"description\": \"\"\n      }\n    },\n    {\n      \"column\": \"category\",\n      \"properties\": {\n        \"dtype\": \"category\",\n        \"num_unique_values\": 4,\n        \"samples\": [\n          12,\n          \"44097\",\n          \"85907\"\n        ],\n        \"semantic_type\": \"\",\n        \"description\": \"\"\n      }\n    },\n    {\n      \"column\": \"Sub-category\",\n      \"properties\": {\n        \"dtype\": \"category\",\n        \"num_unique_values\": 4,\n        \"samples\": [\n          57,\n          \"22389\",\n          \"85907\"\n        ],\n        \"semantic_type\": \"\",\n        \"description\": \"\"\n      }\n    },\n    {\n      \"column\": \"Customer Remarks\",\n      \"properties\": {\n        \"dtype\": \"category\",\n        \"num_unique_values\": 4,\n        \"samples\": [\n          18231,\n          \"1390\",\n          \"28742\"\n        ],\n        \"semantic_type\": \"\",\n        \"description\": \"\"\n      }\n    },\n    {\n      \"column\": \"Order_id\",\n      \"properties\": {\n        \"dtype\": \"category\",\n        \"num_unique_values\": 3,\n        \"samples\": [\n          \"67675\",\n          \"c27c9bb4-fa36-4140-9f1f-21009254ffdb\",\n          \"1\"\n        ],\n        \"semantic_type\": \"\",\n        \"description\": \"\"\n      }\n    },\n    {\n      \"column\": \"order_date_time\",\n      \"properties\": {\n        \"dtype\": \"date\",\n        \"min\": \"1970-01-01 00:00:00.000000007\",\n        \"max\": \"2023-09-08 11:55:00\",\n        \"num_unique_values\": 4,\n        \"samples\": [\n          13766,\n          \"7\",\n          \"17214\"\n        ],\n        \"semantic_type\": \"\",\n        \"description\": \"\"\n      }\n    },\n    {\n      \"column\": \"Issue_reported at\",\n      \"properties\": {\n        \"dtype\": \"date\",\n        \"min\": \"1970-01-01 00:00:00.000000013\",\n        \"max\": \"2023-08-15 10:59:00\",\n        \"num_unique_values\": 4,\n        \"samples\": [\n          30923,\n          \"13\",\n          \"85907\"\n        ],\n        \"semantic_type\": \"\",\n        \"description\": \"\"\n      }\n    },\n    {\n      \"column\": \"issue_responded\",\n      \"properties\": {\n        \"dtype\": \"date\",\n        \"min\": \"1970-01-01 00:00:00.000003378\",\n        \"max\": \"2023-08-28 00:00:00\",\n        \"num_unique_values\": 4,\n        \"samples\": [\n          30262,\n          \"3378\",\n          \"85907\"\n        ],\n        \"semantic_type\": \"\",\n        \"description\": \"\"\n      }\n    },\n    {\n      \"column\": \"Survey_response_Date\",\n      \"properties\": {\n        \"dtype\": \"date\",\n        \"min\": \"1970-01-01 00:00:00.000000031\",\n        \"max\": \"2023-08-28 00:00:00\",\n        \"num_unique_values\": 4,\n        \"samples\": [\n          31,\n          \"3452\",\n          \"85907\"\n        ],\n        \"semantic_type\": \"\",\n        \"description\": \"\"\n      }\n    },\n    {\n      \"column\": \"Customer_City\",\n      \"properties\": {\n        \"dtype\": \"category\",\n        \"num_unique_values\": 4,\n        \"samples\": [\n          1782,\n          \"722\",\n          \"17079\"\n        ],\n        \"semantic_type\": \"\",\n        \"description\": \"\"\n      }\n    },\n    {\n      \"column\": \"Product_category\",\n      \"properties\": {\n        \"dtype\": \"category\",\n        \"num_unique_values\": 4,\n        \"samples\": [\n          9,\n          \"4706\",\n          \"17196\"\n        ],\n        \"semantic_type\": \"\",\n        \"description\": \"\"\n      }\n    },\n    {\n      \"column\": \"Item_price\",\n      \"properties\": {\n        \"dtype\": \"number\",\n        \"std\": 56675.40828301801,\n        \"min\": 0.0,\n        \"max\": 164999.0,\n        \"num_unique_values\": 8,\n        \"samples\": [\n          5660.7748459839595,\n          979.0,\n          17206.0\n        ],\n        \"semantic_type\": \"\",\n        \"description\": \"\"\n      }\n    },\n    {\n      \"column\": \"connected_handling_time\",\n      \"properties\": {\n        \"dtype\": \"number\",\n        \"std\": 614.0592355288412,\n        \"min\": 0.0,\n        \"max\": 1986.0,\n        \"num_unique_values\": 8,\n        \"samples\": [\n          462.400826446281,\n          427.0,\n          242.0\n        ],\n        \"semantic_type\": \"\",\n        \"description\": \"\"\n      }\n    },\n    {\n      \"column\": \"Agent_name\",\n      \"properties\": {\n        \"dtype\": \"category\",\n        \"num_unique_values\": 4,\n        \"samples\": [\n          1371,\n          \"429\",\n          \"85907\"\n        ],\n        \"semantic_type\": \"\",\n        \"description\": \"\"\n      }\n    },\n    {\n      \"column\": \"Supervisor\",\n      \"properties\": {\n        \"dtype\": \"category\",\n        \"num_unique_values\": 4,\n        \"samples\": [\n          40,\n          \"4273\",\n          \"85907\"\n        ],\n        \"semantic_type\": \"\",\n        \"description\": \"\"\n      }\n    },\n    {\n      \"column\": \"Manager\",\n      \"properties\": {\n        \"dtype\": \"category\",\n        \"num_unique_values\": 4,\n        \"samples\": [\n          6,\n          \"25261\",\n          \"85907\"\n        ],\n        \"semantic_type\": \"\",\n        \"description\": \"\"\n      }\n    },\n    {\n      \"column\": \"Tenure Bucket\",\n      \"properties\": {\n        \"dtype\": \"category\",\n        \"num_unique_values\": 4,\n        \"samples\": [\n          5,\n          \"30660\",\n          \"85907\"\n        ],\n        \"semantic_type\": \"\",\n        \"description\": \"\"\n      }\n    },\n    {\n      \"column\": \"Agent Shift\",\n      \"properties\": {\n        \"dtype\": \"category\",\n        \"num_unique_values\": 4,\n        \"samples\": [\n          5,\n          \"41426\",\n          \"85907\"\n        ],\n        \"semantic_type\": \"\",\n        \"description\": \"\"\n      }\n    },\n    {\n      \"column\": \"CSAT Score\",\n      \"properties\": {\n        \"dtype\": \"number\",\n        \"std\": 30371.417109350994,\n        \"min\": 1.0,\n        \"max\": 85907.0,\n        \"num_unique_values\": 6,\n        \"samples\": [\n          85907.0,\n          4.242157216524847,\n          5.0\n        ],\n        \"semantic_type\": \"\",\n        \"description\": \"\"\n      }\n    }\n  ]\n}"
            }
          },
          "metadata": {},
          "execution_count": 20
        }
      ]
    },
    {
      "cell_type": "markdown",
      "source": [
        "Визуализируйте распределение каждого категориального признака в датасете Customer support. Учитывайте количество уникальных значений.\n"
      ],
      "metadata": {
        "id": "XfxsnoXqt2Xa"
      }
    },
    {
      "cell_type": "code",
      "source": [
        "sns.histplot(data=CS_data, x=\"channel_name\")"
      ],
      "metadata": {
        "colab": {
          "base_uri": "https://localhost:8080/",
          "height": 467
        },
        "id": "tDGYKq8Pq6uQ",
        "outputId": "22c65a5e-7ac6-44be-ffd1-96088618b606"
      },
      "execution_count": 23,
      "outputs": [
        {
          "output_type": "execute_result",
          "data": {
            "text/plain": [
              "<Axes: xlabel='channel_name', ylabel='Count'>"
            ]
          },
          "metadata": {},
          "execution_count": 23
        },
        {
          "output_type": "display_data",
          "data": {
            "text/plain": [
              "<Figure size 640x480 with 1 Axes>"
            ],
            "image/png": "[encoded data removed]"
          },
          "metadata": {}
        }
      ]
    },
    {
      "cell_type": "code",
      "source": [
        "CS_data.channel_name.value_counts()"
      ],
      "metadata": {
        "colab": {
          "base_uri": "https://localhost:8080/"
        },
        "id": "-HRu9NOywz_r",
        "outputId": "1e3d640b-a5ab-4f35-b86e-1c9bab74aa48"
      },
      "execution_count": 24,
      "outputs": [
        {
          "output_type": "execute_result",
          "data": {
            "text/plain": [
              "channel_name\n",
              "Inbound    68142\n",
              "Outcall    14742\n",
              "Email       3023\n",
              "Name: count, dtype: int64"
            ]
          },
          "metadata": {},
          "execution_count": 24
        }
      ]
    },
    {
      "cell_type": "code",
      "source": [
        "sns.catplot(data=CS_data, x=\"channel_name\", y=\"CSAT Score\", kind=\"bar\")"
      ],
      "metadata": {
        "colab": {
          "base_uri": "https://localhost:8080/",
          "height": 523
        },
        "id": "JW0PpZz_xB6b",
        "outputId": "60ff773f-5cef-4cf8-b0f7-89a4b328c798"
      },
      "execution_count": 25,
      "outputs": [
        {
          "output_type": "execute_result",
          "data": {
            "text/plain": [
              "<seaborn.axisgrid.FacetGrid at 0x7daa9f2d8790>"
            ]
          },
          "metadata": {},
          "execution_count": 25
        },
        {
          "output_type": "display_data",
          "data": {
            "text/plain": [
              "<Figure size 511.111x500 with 1 Axes>"
            ],
            "image/png": "[encoded data removed]"
          },
          "metadata": {}
        }
      ]
    },
    {
      "cell_type": "markdown",
      "source": [
        "Исследуйте связь каждого признака датасета Customer support с целевой переменной. Сделайте предварительный вывод о значимости признаков.\n"
      ],
      "metadata": {
        "id": "EszFZOJUt4ax"
      }
    },
    {
      "cell_type": "code",
      "source": [
        "counts = CS_data.category.value_counts()\n",
        "sns.barplot(x=counts.index, y=counts.values)\n",
        "plt.xticks(rotation=45)\n",
        "plt.show()"
      ],
      "metadata": {
        "colab": {
          "base_uri": "https://localhost:8080/",
          "height": 541
        },
        "id": "aK-hsAmyq6o8",
        "outputId": "072e7fe3-053d-48d9-e9a6-e8c86d103065"
      },
      "execution_count": 28,
      "outputs": [
        {
          "output_type": "display_data",
          "data": {
            "text/plain": [
              "<Figure size 640x480 with 1 Axes>"
            ],
            "image/png": "[encoded data removed]"
          },
          "metadata": {}
        }
      ]
    },
    {
      "cell_type": "markdown",
      "source": [
        "Где целесообразно, проведите укрупнение категорий, путем объединения разных значений в столбце.\n"
      ],
      "metadata": {
        "id": "A1meedcGt6jA"
      }
    },
    {
      "cell_type": "code",
      "source": [
        "CS_data[\"Customer Remarks New\"] = (CS_data[\"Customer Remarks\"].str.len() > 3).astype(int)\n",
        "CS_data[\"Is_order\"] = (CS_data[\"Order_id\"].isna()).astype(int)"
      ],
      "metadata": {
        "id": "oTqWQPPZq6ee"
      },
      "execution_count": 29,
      "outputs": []
    },
    {
      "cell_type": "code",
      "source": [
        "CS_data.loc[~CS_data[\"Sub-category\"].isin([\n",
        "    \"Reverse Pickup Enquiry\", \"Return request\", \"Delayed\", \"Order status enquiry\",\n",
        "    \"Installation/demo\", \"Fraudulent User\", \"Product Specific Information\"\n",
        "    ]), \"Sub-category\"] = \"Other\""
      ],
      "metadata": {
        "id": "cArJteLCzpE-"
      },
      "execution_count": 30,
      "outputs": []
    },
    {
      "cell_type": "markdown",
      "source": [
        "Добавьте к датасету новый столбец, содержащий агрегированную информацию, которая предположительно будет полезна для моделирования целевой переменной.\n"
      ],
      "metadata": {
        "id": "8wbxCMmKt8qa"
      }
    },
    {
      "cell_type": "code",
      "source": [
        "CS_data['Agent_count'] = CS_data.groupby([\"Agent_name\"])[\"Agent_name\"].transform('count')"
      ],
      "metadata": {
        "id": "7MVh8wC40GHR"
      },
      "execution_count": 31,
      "outputs": []
    },
    {
      "cell_type": "code",
      "source": [
        "CS_data.groupby([\"Supervisor\"]).agg({'Agent_name': 'nunique'})"
      ],
      "metadata": {
        "id": "9mLewa5T0Pz1"
      },
      "execution_count": null,
      "outputs": []
    },
    {
      "cell_type": "code",
      "source": [
        "CS_data['Sups_no_agents'] = CS_data.groupby([\"Supervisor\"])[\"Agent_name\"].transform('nunique')"
      ],
      "metadata": {
        "id": "0rtx11w-0XmS"
      },
      "execution_count": 33,
      "outputs": []
    },
    {
      "cell_type": "markdown",
      "source": [
        "Заполните отсутствующие значения в датасете.\n"
      ],
      "metadata": {
        "id": "HL7UZuKGt_Xu"
      }
    },
    {
      "cell_type": "code",
      "source": [
        "CS_data['Product_category'] = CS_data['Product_category'].fillna('unknown')"
      ],
      "metadata": {
        "id": "8HixpTzE0jn2"
      },
      "execution_count": 34,
      "outputs": []
    },
    {
      "cell_type": "code",
      "source": [
        "CS_data['connected_handling_time'] = CS_data['connected_handling_time'].fillna('0')"
      ],
      "metadata": {
        "id": "y3bSFfId0sXp"
      },
      "execution_count": 35,
      "outputs": []
    },
    {
      "cell_type": "markdown",
      "source": [
        "На примере датасета Титаник проведите преобразование категориальных переменных разных шкал в численные.\n"
      ],
      "metadata": {
        "id": "BHLdxwMZuA7x"
      }
    },
    {
      "cell_type": "code",
      "source": [
        "from sklearn.preprocessing import LabelEncoder\n",
        "LE_sex = LabelEncoder()\n",
        "T_data.Sex = LE_sex.fit_transform(T_data.Sex)"
      ],
      "metadata": {
        "id": "T45BBG4-01cu"
      },
      "execution_count": 36,
      "outputs": []
    },
    {
      "cell_type": "code",
      "source": [
        "T_data.Pclass.replace({\n",
        "    'first': 1, 'second': 2, 'third': 3\n",
        "}, inplace=True)"
      ],
      "metadata": {
        "id": "uPboO-L_0-VO"
      },
      "execution_count": 37,
      "outputs": []
    },
    {
      "cell_type": "code",
      "source": [
        "from sklearn.preprocessing import OneHotEncoder\n",
        "OH_embarked = OneHotEncoder(sparse_output=False)\n",
        "OH_embarked.fit_transform(T_data[['Embarked']])"
      ],
      "metadata": {
        "id": "p1ru-K1v1HMH"
      },
      "execution_count": null,
      "outputs": []
    },
    {
      "cell_type": "code",
      "source": [
        "OH_embarked.get_feature_names_out(['Embarked'])"
      ],
      "metadata": {
        "colab": {
          "base_uri": "https://localhost:8080/"
        },
        "id": "dCGblEMw1KL0",
        "outputId": "6199ef0d-2157-4d8d-d73c-409f1276f6dd"
      },
      "execution_count": 39,
      "outputs": [
        {
          "output_type": "execute_result",
          "data": {
            "text/plain": [
              "array(['Embarked_C', 'Embarked_Q', 'Embarked_S', 'Embarked_nan'],\n",
              "      dtype=object)"
            ]
          },
          "metadata": {},
          "execution_count": 39
        }
      ]
    },
    {
      "cell_type": "code",
      "source": [
        "dummies = pd.DataFrame(OH_embarked.fit_transform(T_data[['Embarked']]),\n",
        "                       columns=OH_embarked.get_feature_names_out(['Embarked']),\n",
        "                       index = T_data.index)"
      ],
      "metadata": {
        "id": "LPtWbN7n1Rgi"
      },
      "execution_count": 40,
      "outputs": []
    },
    {
      "cell_type": "code",
      "source": [
        "T_dummies = pd.concat([T_data, dummies]).drop([\"Embarked\"], axis=1)"
      ],
      "metadata": {
        "id": "JGE7KDca1XeR"
      },
      "execution_count": 41,
      "outputs": []
    },
    {
      "cell_type": "markdown",
      "source": [
        "В датасете Customer support удалите лишние столбцы и преобразуйте все категориальные переменные через get_dummies()"
      ],
      "metadata": {
        "id": "FGIaoJ2LuCVf"
      }
    },
    {
      "cell_type": "code",
      "source": [
        "CS_dropped = CS_data.drop([\n",
        "    \"Unique id\",\n",
        "    \"Sub-category\",\n",
        "    \"Customer Remarks\",\n",
        "    \"Customer_City\",\n",
        "    \"Agent_name\",\n",
        "    \"Supervisor\",\n",
        "    \"Order_id\",\n",
        "    \"order_date_time\",\n",
        "    \"Issue_reported at\",\n",
        "    \"issue_responded\",\n",
        "    \"Survey_response_Date\",\n",
        "    \"Item_price\",\n",
        "\n",
        "], axis=1)"
      ],
      "metadata": {
        "id": "GrWuauhi1dX8"
      },
      "execution_count": 43,
      "outputs": []
    },
    {
      "cell_type": "code",
      "source": [
        "CS_dummies = pd.get_dummies(CS_dropped)"
      ],
      "metadata": {
        "id": "wXNJIQ4p1sdE"
      },
      "execution_count": 44,
      "outputs": []
    },
    {
      "cell_type": "code",
      "source": [
        "CS_dropped"
      ],
      "metadata": {
        "colab": {
          "base_uri": "https://localhost:8080/",
          "height": 545
        },
        "id": "_HroOyLA2HL7",
        "outputId": "32989569-7088-498b-b983-d54b61c628a8"
      },
      "execution_count": 47,
      "outputs": [
        {
          "output_type": "execute_result",
          "data": {
            "text/plain": [
              "      channel_name         category Product_category connected_handling_time  \\\n",
              "0          Outcall  Product Queries          unknown                       0   \n",
              "1          Outcall  Product Queries          unknown                       0   \n",
              "2          Inbound    Order Related          unknown                       0   \n",
              "3          Inbound          Returns          unknown                       0   \n",
              "4          Inbound     Cancellation          unknown                       0   \n",
              "...            ...              ...              ...                     ...   \n",
              "85902      Inbound   Refund Related          unknown                       0   \n",
              "85903      Inbound    Order Related          unknown                       0   \n",
              "85904      Inbound    Order Related          unknown                       0   \n",
              "85905      Inbound         Feedback          unknown                       0   \n",
              "85906      Inbound          Returns          unknown                       0   \n",
              "\n",
              "               Manager    Tenure Bucket Agent Shift  CSAT Score  \\\n",
              "0      Jennifer Nguyen  On Job Training     Morning           5   \n",
              "1          Michael Lee              >90     Morning           5   \n",
              "2          William Kim  On Job Training     Evening           5   \n",
              "3           John Smith              >90     Evening           5   \n",
              "4          Michael Lee             0-30     Morning           5   \n",
              "...                ...              ...         ...         ...   \n",
              "85902      William Kim  On Job Training     Morning           4   \n",
              "85903       Emily Chen              >90     Morning           5   \n",
              "85904       Olivia Tan  On Job Training     Evening           5   \n",
              "85905       Olivia Tan              >90     Morning           4   \n",
              "85906  Jennifer Nguyen  On Job Training     Evening           5   \n",
              "\n",
              "       Customer Remarks New  Is_order  Agent_count  Sups_no_agents  \n",
              "0                         0         0           42              41  \n",
              "1                         0         0           32              17  \n",
              "2                         0         0           35              46  \n",
              "3                         0         0           48              28  \n",
              "4                         0         0          124              29  \n",
              "...                     ...       ...          ...             ...  \n",
              "85902                     0         0          128              31  \n",
              "85903                     1         0           75              50  \n",
              "85904                     1         0           31              41  \n",
              "85905                     0         0           48              44  \n",
              "85906                     0         0           99              50  \n",
              "\n",
              "[85907 rows x 12 columns]"
            ],
            "text/html": [
              "\n",
              "  <div id=\"df-4dd2a09b-0676-4e48-acb9-a480ae80afbc\" class=\"colab-df-container\">\n",
              "    <div>\n",
              "<style scoped>\n",
              "    .dataframe tbody tr th:only-of-type {\n",
              "        vertical-align: middle;\n",
              "    }\n",
              "\n",
              "    .dataframe tbody tr th {\n",
              "        vertical-align: top;\n",
              "    }\n",
              "\n",
              "    .dataframe thead th {\n",
              "        text-align: right;\n",
              "    }\n",
              "</style>\n",
              "<table border=\"1\" class=\"dataframe\">\n",
              "  <thead>\n",
              "    <tr style=\"text-align: right;\">\n",
              "      <th></th>\n",
              "      <th>channel_name</th>\n",
              "      <th>category</th>\n",
              "      <th>Product_category</th>\n",
              "      <th>connected_handling_time</th>\n",
              "      <th>Manager</th>\n",
              "      <th>Tenure Bucket</th>\n",
              "      <th>Agent Shift</th>\n",
              "      <th>CSAT Score</th>\n",
              "      <th>Customer Remarks New</th>\n",
              "      <th>Is_order</th>\n",
              "      <th>Agent_count</th>\n",
              "      <th>Sups_no_agents</th>\n",
              "    </tr>\n",
              "  </thead>\n",
              "  <tbody>\n",
              "    <tr>\n",
              "      <th>0</th>\n",
              "      <td>Outcall</td>\n",
              "      <td>Product Queries</td>\n",
              "      <td>unknown</td>\n",
              "      <td>0</td>\n",
              "      <td>Jennifer Nguyen</td>\n",
              "      <td>On Job Training</td>\n",
              "      <td>Morning</td>\n",
              "      <td>5</td>\n",
              "      <td>0</td>\n",
              "      <td>0</td>\n",
              "      <td>42</td>\n",
              "      <td>41</td>\n",
              "    </tr>\n",
              "    <tr>\n",
              "      <th>1</th>\n",
              "      <td>Outcall</td>\n",
              "      <td>Product Queries</td>\n",
              "      <td>unknown</td>\n",
              "      <td>0</td>\n",
              "      <td>Michael Lee</td>\n",
              "      <td>&gt;90</td>\n",
              "      <td>Morning</td>\n",
              "      <td>5</td>\n",
              "      <td>0</td>\n",
              "      <td>0</td>\n",
              "      <td>32</td>\n",
              "      <td>17</td>\n",
              "    </tr>\n",
              "    <tr>\n",
              "      <th>2</th>\n",
              "      <td>Inbound</td>\n",
              "      <td>Order Related</td>\n",
              "      <td>unknown</td>\n",
              "      <td>0</td>\n",
              "      <td>William Kim</td>\n",
              "      <td>On Job Training</td>\n",
              "      <td>Evening</td>\n",
              "      <td>5</td>\n",
              "      <td>0</td>\n",
              "      <td>0</td>\n",
              "      <td>35</td>\n",
              "      <td>46</td>\n",
              "    </tr>\n",
              "    <tr>\n",
              "      <th>3</th>\n",
              "      <td>Inbound</td>\n",
              "      <td>Returns</td>\n",
              "      <td>unknown</td>\n",
              "      <td>0</td>\n",
              "      <td>John Smith</td>\n",
              "      <td>&gt;90</td>\n",
              "      <td>Evening</td>\n",
              "      <td>5</td>\n",
              "      <td>0</td>\n",
              "      <td>0</td>\n",
              "      <td>48</td>\n",
              "      <td>28</td>\n",
              "    </tr>\n",
              "    <tr>\n",
              "      <th>4</th>\n",
              "      <td>Inbound</td>\n",
              "      <td>Cancellation</td>\n",
              "      <td>unknown</td>\n",
              "      <td>0</td>\n",
              "      <td>Michael Lee</td>\n",
              "      <td>0-30</td>\n",
              "      <td>Morning</td>\n",
              "      <td>5</td>\n",
              "      <td>0</td>\n",
              "      <td>0</td>\n",
              "      <td>124</td>\n",
              "      <td>29</td>\n",
              "    </tr>\n",
              "    <tr>\n",
              "      <th>...</th>\n",
              "      <td>...</td>\n",
              "      <td>...</td>\n",
              "      <td>...</td>\n",
              "      <td>...</td>\n",
              "      <td>...</td>\n",
              "      <td>...</td>\n",
              "      <td>...</td>\n",
              "      <td>...</td>\n",
              "      <td>...</td>\n",
              "      <td>...</td>\n",
              "      <td>...</td>\n",
              "      <td>...</td>\n",
              "    </tr>\n",
              "    <tr>\n",
              "      <th>85902</th>\n",
              "      <td>Inbound</td>\n",
              "      <td>Refund Related</td>\n",
              "      <td>unknown</td>\n",
              "      <td>0</td>\n",
              "      <td>William Kim</td>\n",
              "      <td>On Job Training</td>\n",
              "      <td>Morning</td>\n",
              "      <td>4</td>\n",
              "      <td>0</td>\n",
              "      <td>0</td>\n",
              "      <td>128</td>\n",
              "      <td>31</td>\n",
              "    </tr>\n",
              "    <tr>\n",
              "      <th>85903</th>\n",
              "      <td>Inbound</td>\n",
              "      <td>Order Related</td>\n",
              "      <td>unknown</td>\n",
              "      <td>0</td>\n",
              "      <td>Emily Chen</td>\n",
              "      <td>&gt;90</td>\n",
              "      <td>Morning</td>\n",
              "      <td>5</td>\n",
              "      <td>1</td>\n",
              "      <td>0</td>\n",
              "      <td>75</td>\n",
              "      <td>50</td>\n",
              "    </tr>\n",
              "    <tr>\n",
              "      <th>85904</th>\n",
              "      <td>Inbound</td>\n",
              "      <td>Order Related</td>\n",
              "      <td>unknown</td>\n",
              "      <td>0</td>\n",
              "      <td>Olivia Tan</td>\n",
              "      <td>On Job Training</td>\n",
              "      <td>Evening</td>\n",
              "      <td>5</td>\n",
              "      <td>1</td>\n",
              "      <td>0</td>\n",
              "      <td>31</td>\n",
              "      <td>41</td>\n",
              "    </tr>\n",
              "    <tr>\n",
              "      <th>85905</th>\n",
              "      <td>Inbound</td>\n",
              "      <td>Feedback</td>\n",
              "      <td>unknown</td>\n",
              "      <td>0</td>\n",
              "      <td>Olivia Tan</td>\n",
              "      <td>&gt;90</td>\n",
              "      <td>Morning</td>\n",
              "      <td>4</td>\n",
              "      <td>0</td>\n",
              "      <td>0</td>\n",
              "      <td>48</td>\n",
              "      <td>44</td>\n",
              "    </tr>\n",
              "    <tr>\n",
              "      <th>85906</th>\n",
              "      <td>Inbound</td>\n",
              "      <td>Returns</td>\n",
              "      <td>unknown</td>\n",
              "      <td>0</td>\n",
              "      <td>Jennifer Nguyen</td>\n",
              "      <td>On Job Training</td>\n",
              "      <td>Evening</td>\n",
              "      <td>5</td>\n",
              "      <td>0</td>\n",
              "      <td>0</td>\n",
              "      <td>99</td>\n",
              "      <td>50</td>\n",
              "    </tr>\n",
              "  </tbody>\n",
              "</table>\n",
              "<p>85907 rows × 12 columns</p>\n",
              "</div>\n",
              "    <div class=\"colab-df-buttons\">\n",
              "\n",
              "  <div class=\"colab-df-container\">\n",
              "    <button class=\"colab-df-convert\" onclick=\"convertToInteractive('df-4dd2a09b-0676-4e48-acb9-a480ae80afbc')\"\n",
              "            title=\"Convert this dataframe to an interactive table.\"\n",
              "            style=\"display:none;\">\n",
              "\n",
              "  <svg xmlns=\"http://www.w3.org/2000/svg\" height=\"24px\" viewBox=\"0 -960 960 960\">\n",
              "    <path d=\"M120-120v-720h720v720H120Zm60-500h600v-160H180v160Zm220 220h160v-160H400v160Zm0 220h160v-160H400v160ZM180-400h160v-160H180v160Zm440 0h160v-160H620v160ZM180-180h160v-160H180v160Zm440 0h160v-160H620v160Z\"/>\n",
              "  </svg>\n",
              "    </button>\n",
              "\n",
              "  <style>\n",
              "    .colab-df-container {\n",
              "      display:flex;\n",
              "      gap: 12px;\n",
              "    }\n",
              "\n",
              "    .colab-df-convert {\n",
              "      background-color: #E8F0FE;\n",
              "      border: none;\n",
              "      border-radius: 50%;\n",
              "      cursor: pointer;\n",
              "      display: none;\n",
              "      fill: #1967D2;\n",
              "      height: 32px;\n",
              "      padding: 0 0 0 0;\n",
              "      width: 32px;\n",
              "    }\n",
              "\n",
              "    .colab-df-convert:hover {\n",
              "      background-color: #E2EBFA;\n",
              "      box-shadow: 0px 1px 2px rgba(60, 64, 67, 0.3), 0px 1px 3px 1px rgba(60, 64, 67, 0.15);\n",
              "      fill: #174EA6;\n",
              "    }\n",
              "\n",
              "    .colab-df-buttons div {\n",
              "      margin-bottom: 4px;\n",
              "    }\n",
              "\n",
              "    [theme=dark] .colab-df-convert {\n",
              "      background-color: #3B4455;\n",
              "      fill: #D2E3FC;\n",
              "    }\n",
              "\n",
              "    [theme=dark] .colab-df-convert:hover {\n",
              "      background-color: #434B5C;\n",
              "      box-shadow: 0px 1px 3px 1px rgba(0, 0, 0, 0.15);\n",
              "      filter: drop-shadow(0px 1px 2px rgba(0, 0, 0, 0.3));\n",
              "      fill: #FFFFFF;\n",
              "    }\n",
              "  </style>\n",
              "\n",
              "    <script>\n",
              "      const buttonEl =\n",
              "        document.querySelector('#df-4dd2a09b-0676-4e48-acb9-a480ae80afbc button.colab-df-convert');\n",
              "      buttonEl.style.display =\n",
              "        google.colab.kernel.accessAllowed ? 'block' : 'none';\n",
              "\n",
              "      async function convertToInteractive(key) {\n",
              "        const element = document.querySelector('#df-4dd2a09b-0676-4e48-acb9-a480ae80afbc');\n",
              "        const dataTable =\n",
              "          await google.colab.kernel.invokeFunction('convertToInteractive',\n",
              "                                                    [key], {});\n",
              "        if (!dataTable) return;\n",
              "\n",
              "        const docLinkHtml = 'Like what you see? Visit the ' +\n",
              "          '<a target=\"_blank\" href=https://colab.research.google.com/notebooks/data_table.ipynb>data table notebook</a>'\n",
              "          + ' to learn more about interactive tables.';\n",
              "        element.innerHTML = '';\n",
              "        dataTable['output_type'] = 'display_data';\n",
              "        await google.colab.output.renderOutput(dataTable, element);\n",
              "        const docLink = document.createElement('div');\n",
              "        docLink.innerHTML = docLinkHtml;\n",
              "        element.appendChild(docLink);\n",
              "      }\n",
              "    </script>\n",
              "  </div>\n",
              "\n",
              "\n",
              "<div id=\"df-8a00d93a-f861-4edd-9dcf-7bb2550e4f95\">\n",
              "  <button class=\"colab-df-quickchart\" onclick=\"quickchart('df-8a00d93a-f861-4edd-9dcf-7bb2550e4f95')\"\n",
              "            title=\"Suggest charts\"\n",
              "            style=\"display:none;\">\n",
              "\n",
              "<svg xmlns=\"http://www.w3.org/2000/svg\" height=\"24px\"viewBox=\"0 0 24 24\"\n",
              "     width=\"24px\">\n",
              "    <g>\n",
              "        <path d=\"M19 3H5c-1.1 0-2 .9-2 2v14c0 1.1.9 2 2 2h14c1.1 0 2-.9 2-2V5c0-1.1-.9-2-2-2zM9 17H7v-7h2v7zm4 0h-2V7h2v10zm4 0h-2v-4h2v4z\"/>\n",
              "    </g>\n",
              "</svg>\n",
              "  </button>\n",
              "\n",
              "<style>\n",
              "  .colab-df-quickchart {\n",
              "      --bg-color: #E8F0FE;\n",
              "      --fill-color: #1967D2;\n",
              "      --hover-bg-color: #E2EBFA;\n",
              "      --hover-fill-color: #174EA6;\n",
              "      --disabled-fill-color: #AAA;\n",
              "      --disabled-bg-color: #DDD;\n",
              "  }\n",
              "\n",
              "  [theme=dark] .colab-df-quickchart {\n",
              "      --bg-color: #3B4455;\n",
              "      --fill-color: #D2E3FC;\n",
              "      --hover-bg-color: #434B5C;\n",
              "      --hover-fill-color: #FFFFFF;\n",
              "      --disabled-bg-color: #3B4455;\n",
              "      --disabled-fill-color: #666;\n",
              "  }\n",
              "\n",
              "  .colab-df-quickchart {\n",
              "    background-color: var(--bg-color);\n",
              "    border: none;\n",
              "    border-radius: 50%;\n",
              "    cursor: pointer;\n",
              "    display: none;\n",
              "    fill: var(--fill-color);\n",
              "    height: 32px;\n",
              "    padding: 0;\n",
              "    width: 32px;\n",
              "  }\n",
              "\n",
              "  .colab-df-quickchart:hover {\n",
              "    background-color: var(--hover-bg-color);\n",
              "    box-shadow: 0 1px 2px rgba(60, 64, 67, 0.3), 0 1px 3px 1px rgba(60, 64, 67, 0.15);\n",
              "    fill: var(--button-hover-fill-color);\n",
              "  }\n",
              "\n",
              "  .colab-df-quickchart-complete:disabled,\n",
              "  .colab-df-quickchart-complete:disabled:hover {\n",
              "    background-color: var(--disabled-bg-color);\n",
              "    fill: var(--disabled-fill-color);\n",
              "    box-shadow: none;\n",
              "  }\n",
              "\n",
              "  .colab-df-spinner {\n",
              "    border: 2px solid var(--fill-color);\n",
              "    border-color: transparent;\n",
              "    border-bottom-color: var(--fill-color);\n",
              "    animation:\n",
              "      spin 1s steps(1) infinite;\n",
              "  }\n",
              "\n",
              "  @keyframes spin {\n",
              "    0% {\n",
              "      border-color: transparent;\n",
              "      border-bottom-color: var(--fill-color);\n",
              "      border-left-color: var(--fill-color);\n",
              "    }\n",
              "    20% {\n",
              "      border-color: transparent;\n",
              "      border-left-color: var(--fill-color);\n",
              "      border-top-color: var(--fill-color);\n",
              "    }\n",
              "    30% {\n",
              "      border-color: transparent;\n",
              "      border-left-color: var(--fill-color);\n",
              "      border-top-color: var(--fill-color);\n",
              "      border-right-color: var(--fill-color);\n",
              "    }\n",
              "    40% {\n",
              "      border-color: transparent;\n",
              "      border-right-color: var(--fill-color);\n",
              "      border-top-color: var(--fill-color);\n",
              "    }\n",
              "    60% {\n",
              "      border-color: transparent;\n",
              "      border-right-color: var(--fill-color);\n",
              "    }\n",
              "    80% {\n",
              "      border-color: transparent;\n",
              "      border-right-color: var(--fill-color);\n",
              "      border-bottom-color: var(--fill-color);\n",
              "    }\n",
              "    90% {\n",
              "      border-color: transparent;\n",
              "      border-bottom-color: var(--fill-color);\n",
              "    }\n",
              "  }\n",
              "</style>\n",
              "\n",
              "  <script>\n",
              "    async function quickchart(key) {\n",
              "      const quickchartButtonEl =\n",
              "        document.querySelector('#' + key + ' button');\n",
              "      quickchartButtonEl.disabled = true;  // To prevent multiple clicks.\n",
              "      quickchartButtonEl.classList.add('colab-df-spinner');\n",
              "      try {\n",
              "        const charts = await google.colab.kernel.invokeFunction(\n",
              "            'suggestCharts', [key], {});\n",
              "      } catch (error) {\n",
              "        console.error('Error during call to suggestCharts:', error);\n",
              "      }\n",
              "      quickchartButtonEl.classList.remove('colab-df-spinner');\n",
              "      quickchartButtonEl.classList.add('colab-df-quickchart-complete');\n",
              "    }\n",
              "    (() => {\n",
              "      let quickchartButtonEl =\n",
              "        document.querySelector('#df-8a00d93a-f861-4edd-9dcf-7bb2550e4f95 button');\n",
              "      quickchartButtonEl.style.display =\n",
              "        google.colab.kernel.accessAllowed ? 'block' : 'none';\n",
              "    })();\n",
              "  </script>\n",
              "</div>\n",
              "    </div>\n",
              "  </div>\n"
            ],
            "application/vnd.google.colaboratory.intrinsic+json": {
              "type": "dataframe",
              "variable_name": "CS_dropped",
              "summary": "{\n  \"name\": \"CS_dropped\",\n  \"rows\": 85907,\n  \"fields\": [\n    {\n      \"column\": \"channel_name\",\n      \"properties\": {\n        \"dtype\": \"category\",\n        \"num_unique_values\": 3,\n        \"samples\": [\n          \"Outcall\",\n          \"Inbound\",\n          \"Email\"\n        ],\n        \"semantic_type\": \"\",\n        \"description\": \"\"\n      }\n    },\n    {\n      \"column\": \"category\",\n      \"properties\": {\n        \"dtype\": \"category\",\n        \"num_unique_values\": 12,\n        \"samples\": [\n          \"Others\",\n          \"Onboarding related\",\n          \"Product Queries\"\n        ],\n        \"semantic_type\": \"\",\n        \"description\": \"\"\n      }\n    },\n    {\n      \"column\": \"Product_category\",\n      \"properties\": {\n        \"dtype\": \"category\",\n        \"num_unique_values\": 10,\n        \"samples\": [\n          \"GiftCard\",\n          \"LifeStyle\",\n          \"Furniture\"\n        ],\n        \"semantic_type\": \"\",\n        \"description\": \"\"\n      }\n    },\n    {\n      \"column\": \"connected_handling_time\",\n      \"properties\": {\n        \"dtype\": \"category\",\n        \"num_unique_values\": 212,\n        \"samples\": [\n          367.0,\n          202.0,\n          732.0\n        ],\n        \"semantic_type\": \"\",\n        \"description\": \"\"\n      }\n    },\n    {\n      \"column\": \"Manager\",\n      \"properties\": {\n        \"dtype\": \"category\",\n        \"num_unique_values\": 6,\n        \"samples\": [\n          \"Jennifer Nguyen\",\n          \"Michael Lee\",\n          \"Emily Chen\"\n        ],\n        \"semantic_type\": \"\",\n        \"description\": \"\"\n      }\n    },\n    {\n      \"column\": \"Tenure Bucket\",\n      \"properties\": {\n        \"dtype\": \"category\",\n        \"num_unique_values\": 5,\n        \"samples\": [\n          \">90\",\n          \"61-90\",\n          \"0-30\"\n        ],\n        \"semantic_type\": \"\",\n        \"description\": \"\"\n      }\n    },\n    {\n      \"column\": \"Agent Shift\",\n      \"properties\": {\n        \"dtype\": \"category\",\n        \"num_unique_values\": 5,\n        \"samples\": [\n          \"Evening\",\n          \"Night\",\n          \"Split\"\n        ],\n        \"semantic_type\": \"\",\n        \"description\": \"\"\n      }\n    },\n    {\n      \"column\": \"CSAT Score\",\n      \"properties\": {\n        \"dtype\": \"number\",\n        \"std\": 1,\n        \"min\": 1,\n        \"max\": 5,\n        \"num_unique_values\": 5,\n        \"samples\": [\n          4,\n          2,\n          1\n        ],\n        \"semantic_type\": \"\",\n        \"description\": \"\"\n      }\n    },\n    {\n      \"column\": \"Customer Remarks New\",\n      \"properties\": {\n        \"dtype\": \"number\",\n        \"std\": 0,\n        \"min\": 0,\n        \"max\": 1,\n        \"num_unique_values\": 2,\n        \"samples\": [\n          1,\n          0\n        ],\n        \"semantic_type\": \"\",\n        \"description\": \"\"\n      }\n    },\n    {\n      \"column\": \"Is_order\",\n      \"properties\": {\n        \"dtype\": \"number\",\n        \"std\": 0,\n        \"min\": 0,\n        \"max\": 1,\n        \"num_unique_values\": 2,\n        \"samples\": [\n          1,\n          0\n        ],\n        \"semantic_type\": \"\",\n        \"description\": \"\"\n      }\n    },\n    {\n      \"column\": \"Agent_count\",\n      \"properties\": {\n        \"dtype\": \"number\",\n        \"std\": 47,\n        \"min\": 20,\n        \"max\": 429,\n        \"num_unique_values\": 144,\n        \"samples\": [\n          253,\n          21\n        ],\n        \"semantic_type\": \"\",\n        \"description\": \"\"\n      }\n    },\n    {\n      \"column\": \"Sups_no_agents\",\n      \"properties\": {\n        \"dtype\": \"number\",\n        \"std\": 15,\n        \"min\": 5,\n        \"max\": 70,\n        \"num_unique_values\": 30,\n        \"samples\": [\n          44,\n          42\n        ],\n        \"semantic_type\": \"\",\n        \"description\": \"\"\n      }\n    }\n  ]\n}"
            }
          },
          "metadata": {},
          "execution_count": 47
        }
      ]
    },
    {
      "cell_type": "markdown",
      "source": [
        "# 1 Постройте визуализацию распределения признаков и совместного распределения признаков и целевой переменной с помощью тепловых карт. Попробуйте использовать другие инструменты визуализации.\n"
      ],
      "metadata": {
        "id": "oP43W_sjqdNs"
      }
    },
    {
      "cell_type": "code",
      "source": [
        "plt.figure(figsize=(10, 6))\n",
        "sns.heatmap(pd.crosstab(CS_dropped['channel_name'], CS_dropped['category']), annot=True, cmap='coolwarm', fmt='d')\n",
        "plt.title('Совместное распределение категориальных признаков channel_name и category')\n",
        "plt.show()"
      ],
      "metadata": {
        "colab": {
          "base_uri": "https://localhost:8080/",
          "height": 685
        },
        "id": "tBH156Kt3_rk",
        "outputId": "49152da6-0d3b-462e-915e-236916b473a0"
      },
      "execution_count": 57,
      "outputs": [
        {
          "output_type": "display_data",
          "data": {
            "text/plain": [
              "<Figure size 1000x600 with 2 Axes>"
            ],
            "image/png": "[encoded data removed]"
          },
          "metadata": {}
        }
      ]
    },
    {
      "cell_type": "markdown",
      "source": [
        "Вывод:\n",
        "\n",
        "Входящие звонки были по поводу заказов или возвратов в большинстве случаев, это же касается почты и исходящих звонков. Кроме того, можно сказать, что по поводу заказов или возвратов люди чаще звонят, чем пишут на почту"
      ],
      "metadata": {
        "id": "2yNSnzFf4RGz"
      }
    },
    {
      "cell_type": "code",
      "source": [
        "plt.figure(figsize=(10, 6))\n",
        "sns.heatmap(pd.crosstab(CS_dropped['channel_name'], CS_dropped['CSAT Score']), annot=True, cmap='coolwarm', fmt='d')\n",
        "plt.title('Совместное распределение категориального признака channel_name и целевой переменной')\n",
        "plt.show()"
      ],
      "metadata": {
        "colab": {
          "base_uri": "https://localhost:8080/",
          "height": 564
        },
        "id": "6TwCCGoV45bh",
        "outputId": "852dd1ec-fb42-4ff4-b8c9-d10b422067b9"
      },
      "execution_count": 62,
      "outputs": [
        {
          "output_type": "display_data",
          "data": {
            "text/plain": [
              "<Figure size 1000x600 with 2 Axes>"
            ],
            "image/png": "[encoded data removed]"
          },
          "metadata": {}
        }
      ]
    },
    {
      "cell_type": "markdown",
      "source": [
        "Вывод:\n",
        "\n",
        "Большее число отзывов полажительны с баллом 5 и поступают по входящим вызовам"
      ],
      "metadata": {
        "id": "soD8ydfu560u"
      }
    },
    {
      "cell_type": "markdown",
      "source": [
        "# 2 Постройте на получившимся датасете Customer support модель дерева решений и проанализируйте важность признаков. Сделайте вывод об адекватности наших предположений.\n"
      ],
      "metadata": {
        "id": "D8GDLK9WqdkU"
      }
    },
    {
      "cell_type": "code",
      "source": [
        "import pandas as pd\n",
        "from sklearn.tree import DecisionTreeClassifier, plot_tree\n",
        "import matplotlib.pyplot as plt\n",
        "\n",
        "\n",
        "# Разделение данных на признаки и целевую переменную\n",
        "X = CS_dummies.drop('CSAT Score', axis=1)\n",
        "y = CS_dummies['CSAT Score']\n",
        "\n",
        "# Создание модели дерева решений\n",
        "model = DecisionTreeClassifier(random_state=42)\n",
        "\n",
        "# Обучение модели\n",
        "model.fit(X, y)\n",
        "\n",
        "# Вывод важности признаков\n",
        "feature_importances = model.feature_importances_\n",
        "feature_names = X.columns\n",
        "\n",
        "# Сортировка признаков по важности\n",
        "sorted_importances = sorted(zip(feature_importances, feature_names), reverse=True)\n",
        "\n",
        "# Вывод важности признаков\n",
        "i = 0\n",
        "print(\"Важность признаков:\")\n",
        "for importance, feature in sorted_importances:\n",
        "    print(f\"{feature}: {importance:.4f}\")\n",
        "    i +=1\n",
        "    if i == 10:\n",
        "      break\n"
      ],
      "metadata": {
        "colab": {
          "base_uri": "https://localhost:8080/"
        },
        "id": "kEIetURu6dHf",
        "outputId": "807d2fd7-c184-4cda-a64a-b38a746ae098"
      },
      "execution_count": 68,
      "outputs": [
        {
          "output_type": "stream",
          "name": "stdout",
          "text": [
            "Важность признаков:\n",
            "Agent_count: 0.2991\n",
            "Sups_no_agents: 0.1637\n",
            "Is_order: 0.0657\n",
            "channel_name_Inbound: 0.0398\n",
            "channel_name_Outcall: 0.0370\n",
            "category_Order Related: 0.0195\n",
            "category_Refund Related: 0.0192\n",
            "Agent Shift_Morning: 0.0187\n",
            "Agent Shift_Evening: 0.0173\n",
            "channel_name_Email: 0.0165\n"
          ]
        }
      ]
    },
    {
      "cell_type": "markdown",
      "source": [
        "Вывод: наши предположения были верны"
      ],
      "metadata": {
        "id": "ipUgSwyN7tc5"
      }
    },
    {
      "cell_type": "markdown",
      "source": [
        "# 3 Разбейте датасет на тестовую и обучающую выборки\n"
      ],
      "metadata": {
        "id": "IMLMxCNIqd5Z"
      }
    },
    {
      "cell_type": "code",
      "source": [
        "from sklearn.model_selection import train_test_split\n",
        "from sklearn.linear_model import  LogisticRegression\n",
        "import warnings\n",
        "warnings.filterwarnings('ignore')\n",
        "\n",
        "X_train, X_test, y_train, y_test = train_test_split(CS_dummies.drop('CSAT Score', axis=1), CS_dummies['CSAT Score'], test_size=0.33, random_state=42)"
      ],
      "metadata": {
        "id": "6DMHm2i581Ha"
      },
      "execution_count": 69,
      "outputs": []
    },
    {
      "cell_type": "code",
      "source": [
        "X_train.shape[0], X_test.shape[0]"
      ],
      "metadata": {
        "colab": {
          "base_uri": "https://localhost:8080/"
        },
        "id": "9XYwWrxb9Tku",
        "outputId": "ce767db9-2b1d-4309-c819-1663c2fddea7"
      },
      "execution_count": 71,
      "outputs": [
        {
          "output_type": "execute_result",
          "data": {
            "text/plain": [
              "(57557, 28350)"
            ]
          },
          "metadata": {},
          "execution_count": 71
        }
      ]
    },
    {
      "cell_type": "markdown",
      "source": [
        "# 4 Проведите полный анализ на датасете Титаник, включая все необходимые визуализации и выводы.\n"
      ],
      "metadata": {
        "id": "ZkXh17qgqePO"
      }
    },
    {
      "cell_type": "markdown",
      "source": [
        "Подробный анализ по данному датасету проведён в следующей ЛР 5.5"
      ],
      "metadata": {
        "id": "O9y4Tz878Vfl"
      }
    }
  ]
}