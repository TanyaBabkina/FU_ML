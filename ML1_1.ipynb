{
  "nbformat": 4,
  "nbformat_minor": 0,
  "metadata": {
    "colab": {
      "provenance": []
    },
    "kernelspec": {
      "name": "python3",
      "display_name": "Python 3"
    },
    "language_info": {
      "name": "python"
    }
  },
  "cells": [
    {
      "cell_type": "code",
      "source": [
        "import numpy as np\n",
        "import pandas as pd\n",
        "import matplotlib.pyplot as plt\n"
      ],
      "metadata": {
        "id": "XlB89eHB472X"
      },
      "execution_count": null,
      "outputs": []
    },
    {
      "cell_type": "markdown",
      "source": [
        "1. Проверьте работу модели с разными начальными значениями параметров. Убедитесь, что модель всегда сходится к оптимуму."
      ],
      "metadata": {
        "id": "YFgEPxnM1_6b"
      }
    },
    {
      "cell_type": "code",
      "source": [
        "x = pd.read_csv('https://raw.githubusercontent.com/koroteevmv/ML_course/main/ML1.1_sgd/data/x.csv', index_col=0)['0']\n",
        "y = pd.read_csv('https://raw.githubusercontent.com/koroteevmv/ML_course/main/ML1.1_sgd/data/y.csv', index_col=0)['0']"
      ],
      "metadata": {
        "id": "0oYD84R-YJjD"
      },
      "execution_count": null,
      "outputs": []
    },
    {
      "cell_type": "code",
      "execution_count": null,
      "metadata": {
        "id": "cha3W_6B12-R"
      },
      "outputs": [],
      "source": [
        "class Model(object):\n",
        "    \"\"\"Модель парной линейной регрессии\"\"\"\n",
        "    def __init__(self, b0=0, b1=0):\n",
        "        self.b0 = b0\n",
        "        self.b1 = b1\n",
        "    def predict(self, X):\n",
        "        return self.b0 + self.b1 * X\n",
        "    def error(self, X, Y):\n",
        "        return sum(((self.predict(X) - Y)**2) / (2 * len(X)))\n",
        "    def fit(self, X, Y, alpha=0.001, accuracy=0.01, max_steps=5000):\n",
        "        steps, errors = [], []\n",
        "        step = 0\n",
        "        for _ in range(10000):\n",
        "            dJ0 = sum(self.predict(X) - Y) /len(X)\n",
        "            dJ1 = sum((self.predict(X) - Y) * X) /len(X)\n",
        "            self.b0 -= alpha * dJ0\n",
        "            self.b1 -= alpha * dJ1\n",
        "            new_err = self.error(X, Y)\n",
        "            step += 1\n",
        "            steps.append(step)\n",
        "            errors.append(new_err)\n",
        "        return steps, errors"
      ]
    },
    {
      "cell_type": "code",
      "source": [
        "n = 10\n",
        "e = []\n",
        "for i in range(n):\n",
        "  b0 = np.random.normal(0,1000)\n",
        "  b1 = np.random.normal(0,1000)\n",
        "  hyp = Model(b0 = b0, b1 = b1)\n",
        "  steps, errors = hyp.fit(x, y)\n",
        "  J = hyp.error(x, y)\n",
        "  e.append(J)\n",
        "  print(f\"{i+1} iteration: b0 = {b0}, b1 = {b1}. Error after gradient descent: {J}\")\n",
        "e = np.array(e)\n",
        "print(f'МО: {e.mean()}, D: {e.std()} ')"
      ],
      "metadata": {
        "colab": {
          "base_uri": "https://localhost:8080/"
        },
        "id": "dt4mKCPjSBul",
        "outputId": "3f152b15-725c-4c25-96f1-1968fc184c49"
      },
      "execution_count": null,
      "outputs": [
        {
          "output_type": "stream",
          "name": "stdout",
          "text": [
            "1 iteration: b0 = 1323.9163509444572, b1 = 152.61860279894628. Error after gradient descent: 0.005025635464982362\n",
            "2 iteration: b0 = -167.47651196239147, b1 = -133.4974203326074. Error after gradient descent: 0.00018450441246065113\n",
            "3 iteration: b0 = 290.1473535009017, b1 = -1385.7811745246004. Error after gradient descent: 0.00040231623645297824\n",
            "4 iteration: b0 = -1209.7268214734386, b1 = 314.71099689648344. Error after gradient descent: 0.0032561472619364587\n",
            "5 iteration: b0 = 603.1126976821168, b1 = 851.504681867452. Error after gradient descent: 0.0025176198092734412\n",
            "6 iteration: b0 = 297.978974727303, b1 = 1284.8959488013115. Error after gradient descent: 0.002001984993116317\n",
            "7 iteration: b0 = 228.29772814848363, b1 = 1.497313259499526. Error after gradient descent: 0.00010521007073752303\n",
            "8 iteration: b0 = 36.47753275841348, b1 = 1958.9484525947694. Error after gradient descent: 0.0022473652798581114\n",
            "9 iteration: b0 = -2862.440234516006, b1 = 12.428725466628352. Error after gradient descent: 0.02259295434591624\n",
            "10 iteration: b0 = -583.8299593586669, b1 = -184.8318312523387. Error after gradient descent: 0.0013305320905685346\n",
            "МО: 0.003966426996530261, D: 0.006374558422824977 \n"
          ]
        }
      ]
    },
    {
      "cell_type": "markdown",
      "source": [
        "2. Проверьте работу модели с другими значениями скорости обучения. Найдите значение, при котором градиентный спуск расходится."
      ],
      "metadata": {
        "id": "Grx3JwKn2boS"
      }
    },
    {
      "cell_type": "code",
      "source": [
        "alpha = [0.000000001, 0.000001, 0.001, 0.01, 0.1, 0.25, 0.5, 1, 1.25, 1.5, 1.52]\n",
        "er = []\n",
        "for lr in alpha:\n",
        "  hyp = Model()\n",
        "  steps, errors = hyp.fit(x, y, alpha = lr)\n",
        "  J = hyp.error(x, y)\n",
        "  er.append(J)\n",
        "  print('*'*30)\n",
        "  print(f\"Learning rate {lr}\")\n",
        "  print(f\"First 5 error after gradient descent: {errors[:5]}\")\n",
        "  print(f\"Last 5 error after gradient descent: {errors[-5:]}\")\n",
        "  print('*'*30)\n",
        "plt.plot(alpha, er)"
      ],
      "metadata": {
        "colab": {
          "base_uri": "https://localhost:8080/",
          "height": 1000
        },
        "id": "rWjd33UxfgI9",
        "outputId": "bbf54da8-3b68-4ed8-cc00-3a24ceabccc4"
      },
      "execution_count": null,
      "outputs": [
        {
          "output_type": "stream",
          "name": "stdout",
          "text": [
            "******************************\n",
            "Learning rate 1e-09\n",
            "First 5 error after gradient descent: [2937.644602219114, 2937.644594922889, 2937.644587626663, 2937.6445803304387, 2937.644573034213]\n",
            "Last 5 error after gradient descent: [2937.571677360266, 2937.5716700642242, 2937.5716627681813, 2937.571655472139, 2937.571648176097]\n",
            "******************************\n",
            "******************************\n",
            "Learning rate 1e-06\n",
            "First 5 error after gradient descent: [2937.637313294546, 2937.6300170920404, 2937.622720907826, 2937.6154247419013, 2937.6081285942646]\n",
            "Last 5 error after gradient descent: [2865.617599148106, 2865.610483461165, 2865.603367792058, 2865.596252140784, 2865.5891365073458]\n",
            "******************************\n",
            "******************************\n",
            "Learning rate 0.001\n",
            "First 5 error after gradient descent: [2930.352956509933, 2923.079569868531, 2915.8244035059333, 2908.5874114538433, 2901.368547860564]\n",
            "Last 5 error after gradient descent: [2.7979569701484846e-06, 2.792696726852265e-06, 2.7874463808371797e-06, 2.7822059134388084e-06, 2.776975306057215e-06]\n",
            "******************************\n",
            "******************************\n",
            "Learning rate 0.01\n",
            "First 5 error after gradient descent: [2865.1395919332504, 2794.4405053996225, 2725.5020502719335, 2658.280069306155, 2592.7315187303752]\n",
            "Last 5 error after gradient descent: [2.006036254818294e-25, 2.0059226588479422e-25, 2.0059226588479422e-25, 2.0059226588479422e-25, 2.006036254818294e-25]\n",
            "******************************\n",
            "******************************\n",
            "Learning rate 0.1\n",
            "First 5 error after gradient descent: [2253.745680891855, 1730.3871527188223, 1329.6377428391181, 1022.5734182018915, 787.1302725738453]\n",
            "Last 5 error after gradient descent: [1.840377979216017e-27, 1.6583631164782415e-27, 1.6583631164782415e-27, 1.6583631164782415e-27, 1.6583631164782415e-27]\n",
            "******************************\n",
            "******************************\n",
            "Learning rate 0.25\n",
            "First 5 error after gradient descent: [1399.360817945841, 672.0531888605084, 325.84359312197336, 159.7133554647854, 79.24358573076918]\n",
            "Last 5 error after gradient descent: [7.948266658167459e-29, 7.885157785749778e-29, 7.948266658167459e-29, 7.948266658167459e-29, 7.885157785749778e-29]\n",
            "******************************\n",
            "******************************\n",
            "Learning rate 0.5\n",
            "First 5 error after gradient descent: [432.6221263403896, 71.95088116613607, 13.95886220916164, 3.134744097689322, 0.7822885742278051]\n",
            "Last 5 error after gradient descent: [7.948266658167459e-29, 7.948266658167459e-29, 7.885157785749778e-29, 7.948266658167459e-29, 7.948266658167459e-29]\n",
            "******************************\n",
            "******************************\n",
            "Learning rate 1\n",
            "First 5 error after gradient descent: [213.7800430216267, 17.72598711993926, 1.479211885397035, 0.12347438476057289, 0.010306924606085436]\n",
            "Last 5 error after gradient descent: [2.5879568071906823e-29, 3.0967720910582346e-29, 2.532243505759448e-29, 2.5879568071906823e-29, 3.0967720910582346e-29]\n",
            "******************************\n",
            "******************************\n",
            "Learning rate 1.25\n",
            "First 5 error after gradient descent: [961.6766513083159, 355.13012579680174, 132.52059929925886, 49.49319421152775, 18.485744788290976]\n",
            "Last 5 error after gradient descent: [2.5894359213879715e-29, 3.0967720910582346e-29, 2.532736543825211e-29, 2.5894359213879715e-29, 3.0967720910582346e-29]\n",
            "******************************\n",
            "******************************\n",
            "Learning rate 1.5\n",
            "First 5 error after gradient descent: [2281.118359559052, 1941.0768274914985, 1683.3760774890345, 1465.2734107558915, 1276.3277435476725]\n",
            "Last 5 error after gradient descent: [2.1275233487164656e-27, 1.8155830948887893e-27, 2.1309499632735193e-27, 1.798173920786693e-27, 2.1275233487164656e-27]\n",
            "******************************\n",
            "******************************\n",
            "Learning rate 1.52\n",
            "First 5 error after gradient descent: [2411.3644445375585, 2165.45751219719, 1982.5530504206881, 1822.16253038082, 1676.0387039151844]\n",
            "Last 5 error after gradient descent: [2.2089091422319857e-27, 1.8828975820074295e-27, 2.20842103454688e-27, 1.9055132380839843e-27, 2.2094071106784064e-27]\n",
            "******************************\n"
          ]
        },
        {
          "output_type": "execute_result",
          "data": {
            "text/plain": [
              "[<matplotlib.lines.Line2D at 0x7ac669650e80>]"
            ]
          },
          "metadata": {},
          "execution_count": 11
        },
        {
          "output_type": "display_data",
          "data": {
            "text/plain": [
              "<Figure size 640x480 with 1 Axes>"
            ],
            "image/png": "[encoded data removed]"
          },
          "metadata": {}
        }
      ]
    },
    {
      "cell_type": "code",
      "source": [
        "model2 = Model()\n",
        "x = pd.read_csv('https://raw.githubusercontent.com/koroteevmv/ML_course/main/ML1.1_sgd/data/x.csv', index_col=0)['0']\n",
        "y = pd.read_csv('https://raw.githubusercontent.com/koroteevmv/ML_course/main/ML1.1_sgd/data/y.csv', index_col=0)['0']\n",
        "steps, errors = model2.fit(x, y, alpha=2)\n"
      ],
      "metadata": {
        "id": "mLPwSJt55gsq"
      },
      "execution_count": null,
      "outputs": []
    },
    {
      "cell_type": "code",
      "source": [
        "plt.figure()\n",
        "plt.plot(steps, errors, 'g')\n",
        "plt.show()"
      ],
      "metadata": {
        "colab": {
          "base_uri": "https://localhost:8080/",
          "height": 445
        },
        "id": "z7m1CyTup4b0",
        "outputId": "49b9ebf8-3d10-4ca5-c5c5-80e1465ccc11"
      },
      "execution_count": null,
      "outputs": [
        {
          "output_type": "display_data",
          "data": {
            "text/plain": [
              "<Figure size 640x480 with 1 Axes>"
            ],
            "image/png": "[encoded data removed]"
          },
          "metadata": {}
        }
      ]
    },
    {
      "cell_type": "markdown",
      "source": [
        "3. Модифицируйте код модели таким образом, чтобы он корректно работал как с Series, так и с DataFrame. При этом, конечно, датафрейм не должен содержать \"лишних\" столбцов."
      ],
      "metadata": {
        "id": "xrefeag_JjoL"
      }
    },
    {
      "cell_type": "code",
      "source": [
        "df = pd.DataFrame()\n",
        "len(df.columns)"
      ],
      "metadata": {
        "colab": {
          "base_uri": "https://localhost:8080/"
        },
        "id": "-Q8JDwBPin5M",
        "outputId": "669b74ec-d786-4736-e07d-d05ce6b0fd2f"
      },
      "execution_count": null,
      "outputs": [
        {
          "output_type": "execute_result",
          "data": {
            "text/plain": [
              "0"
            ]
          },
          "metadata": {},
          "execution_count": 19
        }
      ]
    },
    {
      "cell_type": "code",
      "source": [
        "class Model(object):\n",
        "    \"\"\"Модель парной линейной регрессии\"\"\"\n",
        "    def __init__(self, b0=0, b1=0):\n",
        "        self.b0 = b0\n",
        "        self.b1 = b1\n",
        "    def predict(self, X = np.zeros(10), df = pd.DataFrame()):\n",
        "        X = X\n",
        "        if len(df.columns) == 2:\n",
        "          X = df.iloc[:,0]\n",
        "        return self.b0 + self.b1 * X\n",
        "    def error(self, X = np.zeros(10), Y = np.zeros(10), df = pd.DataFrame()):\n",
        "        X = X\n",
        "        Y = Y\n",
        "        if len(df.columns) == 2:\n",
        "          X = df.iloc[:,0]\n",
        "          Y = df.iloc[:,1]\n",
        "        return sum(((self.predict(X) - Y)**2) / (2 * len(X)))\n",
        "    def fit(self, X = np.zeros(10), Y = np.zeros(10), df = pd.DataFrame(), alpha=0.001, accuracy=0.01, max_steps=5000):\n",
        "        X = X\n",
        "        Y = Y\n",
        "        if len(df.columns) == 2:\n",
        "          X = df.iloc[:,0]\n",
        "          Y = df.iloc[:,1]\n",
        "        steps, errors = [], []\n",
        "        step = 0\n",
        "        for _ in range(10000):\n",
        "            dJ0 = sum(self.predict(X) - Y) /len(X)\n",
        "            dJ1 = sum((self.predict(X) - Y) * X) /len(X)\n",
        "            self.b0 -= alpha * dJ0\n",
        "            self.b1 -= alpha * dJ1\n",
        "            new_err = self.error(X, Y)\n",
        "            step += 1\n",
        "            steps.append(step)\n",
        "            errors.append(new_err)\n",
        "        return steps, errors"
      ],
      "metadata": {
        "id": "YJG7kY5vJjTH"
      },
      "execution_count": null,
      "outputs": []
    },
    {
      "cell_type": "code",
      "source": [
        "b = 0.1\n",
        "df = pd.DataFrame({'x': np.linspace(-2,4,20), 'y': np.linspace(-2,4,20) + b + np.random.normal(0,0.1,20)})\n",
        "hyp = Model()\n",
        "steps1, errors1 = hyp.fit(df=df)\n",
        "J1 = hyp.error(df = df)\n",
        "print(\"error after gradient descent:\", J1)\n",
        "print(\"*\"*100)\n",
        "hyp2 = Model()\n",
        "steps2, errors2 = hyp2.fit(df.iloc[:,0], df.iloc[:,1])\n",
        "J2 = hyp.error(df.iloc[:,0], df.iloc[:,1])\n",
        "print(\"error after gradient descent:\", J2)"
      ],
      "metadata": {
        "colab": {
          "base_uri": "https://localhost:8080/"
        },
        "id": "YACSSZsiiKF4",
        "outputId": "39982e2f-36e1-4d9e-f43d-a1d6d6c76e7f"
      },
      "execution_count": null,
      "outputs": [
        {
          "output_type": "stream",
          "name": "stdout",
          "text": [
            "error after gradient descent: 0.003164142031616022\n",
            "****************************************************************************************************\n",
            "error after gradient descent: 0.003164142031616022\n"
          ]
        }
      ]
    },
    {
      "cell_type": "code",
      "source": [
        "plt.scatter(df.x, df.y)"
      ],
      "metadata": {
        "colab": {
          "base_uri": "https://localhost:8080/",
          "height": 447
        },
        "id": "_XD4LeXliL2g",
        "outputId": "3a52199d-041d-4ffb-8b91-5c22fe355999"
      },
      "execution_count": null,
      "outputs": [
        {
          "output_type": "execute_result",
          "data": {
            "text/plain": [
              "<matplotlib.collections.PathCollection at 0x7ac66888afb0>"
            ]
          },
          "metadata": {},
          "execution_count": 22
        },
        {
          "output_type": "display_data",
          "data": {
            "text/plain": [
              "<Figure size 640x480 with 1 Axes>"
            ],
            "image/png": "[encoded data removed]"
          },
          "metadata": {}
        }
      ]
    },
    {
      "cell_type": "markdown",
      "source": [
        "4. Модифицируйте алгоритм градиентного спука таким образом, чтобы он останавливаля, если ошибка перестает снижаться. Для этого сравнивайте, на сколько понизилась ошибка на каждом шаге и если это снижение меньше некоторой заранее заданной очень маленькой величины - выходите из цикла. Эту величину можно взять одну миллионную, например."
      ],
      "metadata": {
        "id": "AbHhRXk1Sw7B"
      }
    },
    {
      "cell_type": "code",
      "source": [
        "class Model(object):\n",
        "    \"\"\"Модель парной линейной регрессии\"\"\"\n",
        "    def __init__(self, b0=0, b1=0):\n",
        "        self.b0 = b0\n",
        "        self.b1 = b1\n",
        "    def predict(self, X = np.zeros(10), df = pd.DataFrame()):\n",
        "        X = X\n",
        "        if len(df.columns) == 2:\n",
        "          X = df.iloc[:,0]\n",
        "        return self.b0 + self.b1 * X\n",
        "    def error(self, X = np.zeros(10), Y = np.zeros(10), df = pd.DataFrame()):\n",
        "        X = X\n",
        "        Y = Y\n",
        "        if len(df.columns) == 2:\n",
        "          X = df.iloc[:,0]\n",
        "          Y = df.iloc[:,1]\n",
        "        return sum(((self.predict(X) - Y)**2) / (2 * len(X)))\n",
        "    def fit(self, X = np.zeros(10), Y = np.zeros(10), df = pd.DataFrame(), alpha=0.001, accuracy=0.000001, max_steps=5000):\n",
        "        X = X\n",
        "        Y = Y\n",
        "        if len(df.columns) == 2:\n",
        "          X = df.iloc[:,0]\n",
        "          Y = df.iloc[:,1]\n",
        "        steps, errors = [], []\n",
        "        step = 0\n",
        "        for _ in range(max_steps):\n",
        "            dJ0 = sum(self.predict(X) - Y) /len(X)\n",
        "            dJ1 = sum((self.predict(X) - Y) * X) /len(X)\n",
        "            self.b0 -= alpha * dJ0\n",
        "            self.b1 -= alpha * dJ1\n",
        "            new_err = self.error(X, Y)\n",
        "            step += 1\n",
        "            if len(errors) > 1:\n",
        "              delta = new_err - errors[-1]\n",
        "              if (delta < 0 and abs(delta)<accuracy) or delta > 0:\n",
        "                break\n",
        "            steps.append(step)\n",
        "            errors.append(new_err)\n",
        "        return steps, errors"
      ],
      "metadata": {
        "id": "mN9PWCyWSyfs"
      },
      "execution_count": null,
      "outputs": []
    },
    {
      "cell_type": "code",
      "source": [
        "b = 0.1\n",
        "df = pd.DataFrame({'x': np.linspace(-2,4,20), 'y': np.linspace(-2,4,20) + b + np.random.normal(0,0.1,20)})\n",
        "hyp = Model()\n",
        "steps1, errors1 = hyp.fit(df=df, accuracy = 0.000000001)\n",
        "J1 = hyp.error(df = df)\n",
        "print(\"error after gradient descent:\", J1)\n",
        "print(\"Обучение остановлено на итерации: \", len(steps1))\n",
        "print(\"*\"*100)\n",
        "hyp2 = Model()\n",
        "steps2, errors2 = hyp2.fit(df.iloc[:,0], df.iloc[:,1], accuracy = 0.000001)\n",
        "J2 = hyp2.error(df.iloc[:,0], df.iloc[:,1])\n",
        "print(\"error after gradient descent:\", J2)\n",
        "print(\"Обучение остановлено на итерации: \", len(steps2))"
      ],
      "metadata": {
        "colab": {
          "base_uri": "https://localhost:8080/"
        },
        "id": "NmU2bwtekTdj",
        "outputId": "cf1f27a5-2745-40b6-90e1-734eb6373a31"
      },
      "execution_count": null,
      "outputs": [
        {
          "output_type": "stream",
          "name": "stdout",
          "text": [
            "error after gradient descent: 0.0025267582582955916\n",
            "Обучение остановлено на итерации:  5000\n",
            "****************************************************************************************************\n",
            "error after gradient descent: 0.0032101288453002933\n",
            "Обучение остановлено на итерации:  1919\n"
          ]
        }
      ]
    },
    {
      "cell_type": "markdown",
      "source": [
        "5. Убедитесь, что алгоритм градиентного спуска завершается всегда - либо если ошибка перестает существенно меняться, либо при достижении максимального количества шагов.\n"
      ],
      "metadata": {
        "id": "3tt6IzYAVRs0"
      }
    },
    {
      "cell_type": "code",
      "source": [
        "class Model(object):\n",
        "    \"\"\"Модель парной линейной регрессии\"\"\"\n",
        "    def __init__(self, b0=0, b1=0):\n",
        "        self.b0 = b0\n",
        "        self.b1 = b1\n",
        "    def predict(self, X = np.zeros(10), df = pd.DataFrame()):\n",
        "        X = X\n",
        "        if len(df.columns) == 2:\n",
        "          X = df.iloc[:,0]\n",
        "        return self.b0 + self.b1 * X\n",
        "    def error(self, X = np.zeros(10), Y = np.zeros(10), df = pd.DataFrame()):\n",
        "        X = X\n",
        "        Y = Y\n",
        "        if len(df.columns) == 2:\n",
        "          X = df.iloc[:,0]\n",
        "          Y = df.iloc[:,1]\n",
        "        return sum(((self.predict(X) - Y)**2) / (2 * len(X)))\n",
        "    def fit(self, X = np.zeros(10), Y = np.zeros(10), df = pd.DataFrame(), alpha=0.001, accuracy=0.000001, max_steps=5000):\n",
        "        X = X\n",
        "        Y = Y\n",
        "        if len(df.columns) == 2:\n",
        "          X = df.iloc[:,0]\n",
        "          Y = df.iloc[:,1]\n",
        "        steps, errors = [], []\n",
        "        step = 0\n",
        "        for _ in range(max_steps):\n",
        "            dJ0 = sum(self.predict(X) - Y) /len(X)\n",
        "            dJ1 = sum((self.predict(X) - Y) * X) /len(X)\n",
        "            self.b0 -= alpha * dJ0\n",
        "            self.b1 -= alpha * dJ1\n",
        "            new_err = self.error(X, Y)\n",
        "            step += 1\n",
        "            if len(errors) > 1:\n",
        "              delta = new_err - errors[-1]\n",
        "              if (delta < 0 and abs(delta)<accuracy) or delta > 0:\n",
        "                break\n",
        "            steps.append(step)\n",
        "            errors.append(new_err)\n",
        "        return steps, errors"
      ],
      "metadata": {
        "id": "c5785nFYVV2E"
      },
      "execution_count": null,
      "outputs": []
    },
    {
      "cell_type": "markdown",
      "source": [
        "6. Реализуйте механизм адаптивной скорости обучения. Чтобы не задавать вручную параметр alpha можно отслеживать, увеличивается ли ошибка после первого шага градиентного спуска. В начале задаем скорость обучения близкой к 1. Если ошибка после одного шага увеличивается - скорость обучения надо уменьшить (например, в 2 раза). Если не увеличивается - скорость обучения можно не трогать. Еще подумайте, как после уменьшения скорости перезапускать градиентный спуск заново."
      ],
      "metadata": {
        "id": "BUXpnTjYVWQM"
      }
    },
    {
      "cell_type": "code",
      "source": [
        "class Model(object):\n",
        "    \"\"\"Модель парной линейной регрессии\"\"\"\n",
        "    def __init__(self, b0=0, b1=0):\n",
        "        self.b0 = b0\n",
        "        self.b1 = b1\n",
        "    def predict(self, X = np.zeros(10), df = pd.DataFrame()):\n",
        "        X = X\n",
        "        if len(df.columns) == 2:\n",
        "          X = df.iloc[:,0]\n",
        "        return self.b0 + self.b1 * X\n",
        "    def error(self, X = np.zeros(10), Y = np.zeros(10), df = pd.DataFrame()):\n",
        "        X = X\n",
        "        Y = Y\n",
        "        if len(df.columns) == 2:\n",
        "          X = df.iloc[:,0]\n",
        "          Y = df.iloc[:,1]\n",
        "        return sum(((self.predict(X) - Y)**2) / (2 * len(X)))\n",
        "    def fit(self, X = np.zeros(10), Y = np.zeros(10), df = pd.DataFrame(), alpha=0.9, accuracy=0.000001, max_steps=5000):\n",
        "        X = X\n",
        "        Y = Y\n",
        "        if len(df.columns) == 2:\n",
        "          X = df.iloc[:,0]\n",
        "          Y = df.iloc[:,1]\n",
        "        steps, errors = [], []\n",
        "        step = 0\n",
        "        for _ in range(max_steps):\n",
        "            dJ0 = sum(self.predict(X) - Y) /len(X)\n",
        "            dJ1 = sum((self.predict(X) - Y) * X) /len(X)\n",
        "            self.b0 -= alpha * dJ0\n",
        "            self.b1 -= alpha * dJ1\n",
        "            new_err = self.error(X, Y)\n",
        "            step += 1\n",
        "            if len(errors) > 1:\n",
        "              delta = new_err - errors[-1]\n",
        "              if delta > 0:\n",
        "                alpha = 0.5*alpha\n",
        "              if (delta < 0 and abs(delta)<accuracy):\n",
        "                break\n",
        "            steps.append(step)\n",
        "            errors.append(new_err)\n",
        "        return steps, errors"
      ],
      "metadata": {
        "id": "B0cBv3_Eocjw"
      },
      "execution_count": null,
      "outputs": []
    },
    {
      "cell_type": "code",
      "source": [
        "model3 = Model()\n",
        "x = pd.read_csv('https://raw.githubusercontent.com/koroteevmv/ML_course/main/ML1.1_sgd/data/x.csv', index_col=0)['0']\n",
        "y = pd.read_csv('https://raw.githubusercontent.com/koroteevmv/ML_course/main/ML1.1_sgd/data/y.csv', index_col=0)['0']\n",
        "steps, errors = model3.fit(x, y)\n",
        "\n",
        "X0 = np.linspace(-3, 5, 100)\n",
        "Y0 = model3.predict(X0)\n",
        "\n",
        "plt.figure()\n",
        "plt.scatter(x, y)\n",
        "plt.plot(X0, Y0, 'r')\n",
        "plt.show()\n"
      ],
      "metadata": {
        "colab": {
          "base_uri": "https://localhost:8080/",
          "height": 430
        },
        "id": "8UOHpHUwrFxU",
        "outputId": "dc400cf2-f9d8-4416-c8ac-9b6460f2f91d"
      },
      "execution_count": null,
      "outputs": [
        {
          "output_type": "display_data",
          "data": {
            "text/plain": [
              "<Figure size 640x480 with 1 Axes>"
            ],
            "image/png": "[encoded data removed]"
          },
          "metadata": {}
        }
      ]
    },
    {
      "cell_type": "code",
      "source": [
        "plt.figure()\n",
        "plt.plot(steps, errors, 'g')\n",
        "plt.show()"
      ],
      "metadata": {
        "colab": {
          "base_uri": "https://localhost:8080/",
          "height": 430
        },
        "id": "dr-sGxHRrvlH",
        "outputId": "80712251-894a-4e7c-ba88-4e231e12b83c"
      },
      "execution_count": null,
      "outputs": [
        {
          "output_type": "display_data",
          "data": {
            "text/plain": [
              "<Figure size 640x480 with 1 Axes>"
            ],
            "image/png": "[encoded data removed]"
          },
          "metadata": {}
        }
      ]
    },
    {
      "cell_type": "markdown",
      "source": [
        "7. Добавьте к классу модели метод рисования графиков. Сделайте так, чтобы он был независим от масштаба переданных данных."
      ],
      "metadata": {
        "id": "oPeNoC5GVazQ"
      }
    },
    {
      "cell_type": "code",
      "source": [
        "class Model(object):\n",
        "    \"\"\"Модель парной линейной регрессии\"\"\"\n",
        "    def __init__(self):\n",
        "        self.b0 = 0\n",
        "        self.b1 = 0\n",
        "        self.made_steps = []\n",
        "        self.count_errors = []\n",
        "    def predict(self, X):\n",
        "        return self.b0 + self.b1 * X.squeeze()\n",
        "    def error(self, X, Y):\n",
        "        X = X.squeeze()\n",
        "        Y = Y.squeeze()\n",
        "        return sum(((self.predict(X) - Y)**2) / (2 * len(X)))\n",
        "    def fit(self, X, Y, alpha=0.9, accuracy=0.01, max_steps=5000, error_step = 0.000001):\n",
        "        steps, errors = [], []\n",
        "        step = 0\n",
        "        X = X.squeeze()\n",
        "        Y = Y.squeeze()\n",
        "\n",
        "        for _ in range(10000):\n",
        "            dJ0 = sum(self.predict(X) - Y) /len(X)\n",
        "            dJ1 = sum((self.predict(X) - Y) * X) /len(X)\n",
        "            self.b0 -= alpha * dJ0\n",
        "            self.b1 -= alpha * dJ1\n",
        "            new_err = self.error(X, Y)\n",
        "\n",
        "            if errors:\n",
        "              if errors[-1] - new_err < 0:\n",
        "                alpha = 2*alpha\n",
        "              elif abs(errors[-1] - new_err) <= error_step:\n",
        "                self.made_steps = steps\n",
        "                self.count_errors = errors\n",
        "                return steps, errors\n",
        "            if step >= max_steps:\n",
        "              self.made_steps = steps\n",
        "              self.count_errors = errors\n",
        "              return steps, errors\n",
        "\n",
        "            step += 1\n",
        "            steps.append(step)\n",
        "            errors.append(new_err)\n",
        "        self.made_steps = steps\n",
        "        self.count_errors = errors\n",
        "        return steps, errors\n",
        "    def plot_error(self, X, Y):\n",
        "      X = X.squeeze()\n",
        "      Y = Y.squeeze()\n",
        "      X0 = np.linspace(min(X), max(X), 100)\n",
        "      Y0 = self.predict(X0)\n",
        "      plt.figure()\n",
        "      plt.plot(self.made_steps, self.count_errors, 'g')\n",
        "      plt.show()\n",
        "\n",
        "    def plot_scatter_error(self, X, Y):\n",
        "      X = X.squeeze()\n",
        "      Y = Y.squeeze()\n",
        "      X0 = np.linspace(min(X), max(X), 100)\n",
        "      Y0 = self.predict(X0)\n",
        "\n",
        "      plt.figure()\n",
        "      plt.scatter(X, Y)\n",
        "      plt.plot(X0, Y0, 'r')\n",
        "      plt.show()\n",
        "\n"
      ],
      "metadata": {
        "id": "9xSidNdXrAdP"
      },
      "execution_count": null,
      "outputs": []
    },
    {
      "cell_type": "code",
      "source": [
        "model3 = Model()\n",
        "model3.fit(x, y)\n",
        "model3.plot_scatter_error(x,y)\n",
        "model3.plot_error(x, y)"
      ],
      "metadata": {
        "colab": {
          "base_uri": "https://localhost:8080/",
          "height": 843
        },
        "id": "6-NeNghFuvqQ",
        "outputId": "5906f226-da5e-4b64-fc42-9614ed990c87"
      },
      "execution_count": null,
      "outputs": [
        {
          "output_type": "display_data",
          "data": {
            "text/plain": [
              "<Figure size 640x480 with 1 Axes>"
            ],
            "image/png": "[encoded data removed]"
          },
          "metadata": {}
        },
        {
          "output_type": "display_data",
          "data": {
            "text/plain": [
              "<Figure size 640x480 with 1 Axes>"
            ],
            "image/png": "[encoded data removed]"
          },
          "metadata": {}
        }
      ]
    }
  ]
}